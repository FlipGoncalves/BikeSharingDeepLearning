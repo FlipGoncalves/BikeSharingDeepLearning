{
 "cells": [
  {
   "attachments": {},
   "cell_type": "markdown",
   "metadata": {},
   "source": [
    "# LSTM Modelling "
   ]
  },
  {
   "cell_type": "code",
   "execution_count": 1,
   "metadata": {},
   "outputs": [
    {
     "name": "stderr",
     "output_type": "stream",
     "text": [
      "2023-06-07 15:59:25.886964: I tensorflow/tsl/cuda/cudart_stub.cc:28] Could not find cuda drivers on your machine, GPU will not be used.\n",
      "2023-06-07 15:59:26.001271: I tensorflow/tsl/cuda/cudart_stub.cc:28] Could not find cuda drivers on your machine, GPU will not be used.\n",
      "2023-06-07 15:59:26.002517: I tensorflow/core/platform/cpu_feature_guard.cc:182] This TensorFlow binary is optimized to use available CPU instructions in performance-critical operations.\n",
      "To enable the following instructions: AVX2 FMA, in other operations, rebuild TensorFlow with the appropriate compiler flags.\n",
      "2023-06-07 15:59:26.952012: W tensorflow/compiler/tf2tensorrt/utils/py_utils.cc:38] TF-TRT Warning: Could not find TensorRT\n"
     ]
    }
   ],
   "source": [
    "import numpy as np\n",
    "import pandas as pd\n",
    "import random\n",
    "from datetime import datetime\n",
    "import matplotlib.pyplot as plt\n",
    "from pprint import pprint\n",
    "\n",
    "from sklearn.feature_selection import SelectKBest\n",
    "from sklearn.feature_selection import f_regression\n",
    "from sklearn.preprocessing import MinMaxScaler\n",
    "from sklearn.metrics import mean_squared_error\n",
    "\n",
    "from tensorflow.keras.models import Sequential\n",
    "from tensorflow.keras.layers import Dense\n",
    "from tensorflow.keras.layers import LSTM\n",
    "from sklearn.model_selection import GroupKFold\n",
    "\n",
    "import warnings\n",
    "warnings.filterwarnings(\"ignore\")"
   ]
  },
  {
   "attachments": {},
   "cell_type": "markdown",
   "metadata": {},
   "source": [
    "## Data Refactor"
   ]
  },
  {
   "cell_type": "code",
   "execution_count": 2,
   "metadata": {},
   "outputs": [],
   "source": [
    "dataset = pd.read_csv(\"../DateDatasets/dataset.csv\").drop(columns=[\"Unnamed: 0\"])"
   ]
  },
  {
   "cell_type": "code",
   "execution_count": 3,
   "metadata": {},
   "outputs": [],
   "source": [
    "trips = pd.read_csv(\"../CSVFiles/datatrips.csv\").drop(columns=[\"Unnamed: 0\"])\n",
    "\n",
    "day = []\n",
    "year = []\n",
    "for trip in trips.values:\n",
    "    date = datetime.strptime(trip[0], \"%Y-%m-%d %H:%M:%S\").timetuple()\n",
    "    day.append(date.tm_yday)\n",
    "    year.append(date.tm_year)\n",
    "\n",
    "trips = trips.drop(columns=[\"DateEnd\"])\n",
    "trips[\"Day\"] = day\n",
    "trips[\"Year\"] = year"
   ]
  },
  {
   "cell_type": "code",
   "execution_count": null,
   "metadata": {},
   "outputs": [],
   "source": [
    "new_data = pd.DataFrame({\"Holiday\": [], \"Weekday\": [], \"WeatherSituation\": [], \"Temp\": [], \"ATemp\": [], \"Humidity\": [], \"Windspeed\": []})\n",
    "\n",
    "for data in dataset.values:\n",
    "    hour = data[0]\n",
    "    station = data[1]\n",
    "    day = data[3]\n",
    "    year = data[4]\n",
    "\n",
    "    df = trips.loc[(trips[\"StationEnd\"] == station) & (trips[\"Day\"] == day) & (trips[\"Year\"] == year) & (trips[\"Hour\"] == hour)].values[0][6:-1]\n",
    "    new_data.loc[len(new_data)] = np.delete(df, 2)\n",
    "\n",
    "dataset = dataset.join(new_data)"
   ]
  },
  {
   "cell_type": "code",
   "execution_count": null,
   "metadata": {},
   "outputs": [],
   "source": [
    "dataset.to_csv(\"../DateDatasets/dataset.csv\")"
   ]
  },
  {
   "attachments": {},
   "cell_type": "markdown",
   "metadata": {},
   "source": [
    "## Correlation Features"
   ]
  },
  {
   "cell_type": "code",
   "execution_count": 5,
   "metadata": {},
   "outputs": [
    {
     "name": "stdout",
     "output_type": "stream",
     "text": [
      "[('Temp', 7854.233184039789),\n",
      " ('ATemp', 7706.912809130377),\n",
      " ('Year', 5350.628642028699),\n",
      " ('Humidity', 5196.287790444266),\n",
      " ('Hour', 2591.040359724638),\n",
      " ('WeatherSituation', 1576.8091838740354),\n",
      " ('Windspeed', 261.06541187993037),\n",
      " ('Day', 225.13003715150458),\n",
      " ('StationEnd', 215.19085620330532),\n",
      " ('Holiday', 60.46833284115195),\n",
      " ('Weekday', 48.945415173314345),\n",
      " ('WorkingDay', 35.49851955888466)]\n"
     ]
    }
   ],
   "source": [
    "def featureSelect_dataframe(X, y, criteria, k):\n",
    "\n",
    "    # initialize our function/method\n",
    "    reg = SelectKBest(criteria, k=k).fit(X,y)\n",
    "    \n",
    "    # transform after creating the reg (so we can use getsupport)\n",
    "    X_transformed = reg.transform(X)\n",
    "\n",
    "    # filter down X based on kept columns\n",
    "    X = X[[val for i,val in enumerate(X.columns) if reg.get_support()[i]]]\n",
    "\n",
    "    # return that dataframe\n",
    "    return X, reg.scores_\n",
    "\n",
    "X = dataset[[col for col in dataset.columns if \"Count\" not in col]]\n",
    "y = dataset['Count']\n",
    "\n",
    "new_x_data = []\n",
    "\n",
    "# F-value between label/feature for regression tasks.\n",
    "New_X, scoresX = featureSelect_dataframe(X, y, f_regression, 11)\n",
    "new_x_data_1 = {list(X.columns)[x]:scoresX[x] for x in range(0,len(list(X.columns)))}\n",
    "pprint(sorted(new_x_data_1.items(), key=lambda x:x[1], reverse=True))"
   ]
  },
  {
   "attachments": {},
   "cell_type": "markdown",
   "metadata": {},
   "source": [
    "## LSTM"
   ]
  },
  {
   "cell_type": "code",
   "execution_count": 24,
   "metadata": {},
   "outputs": [],
   "source": [
    "epochs = 3\n",
    "batch_size = 1\n",
    "verbose = 2\n",
    "\n",
    "MSE = [3.606321620941162, 3.5943119287490846, 3.6473069906234743, 3.6075675010681154, 3.746306562423706]"
   ]
  },
  {
   "attachments": {},
   "cell_type": "markdown",
   "metadata": {},
   "source": [
    "### Method 0\n",
    "Input: c(t), StationEnd\n",
    "\n",
    "Output: c(t+1)"
   ]
  },
  {
   "cell_type": "code",
   "execution_count": 8,
   "metadata": {},
   "outputs": [
    {
     "name": "stdout",
     "output_type": "stream",
     "text": [
      "Epoch 1/3\n"
     ]
    },
    {
     "name": "stderr",
     "output_type": "stream",
     "text": [
      "2023-06-07 16:02:12.602431: I tensorflow/core/common_runtime/executor.cc:1197] [/device:CPU:0] (DEBUG INFO) Executor start aborting (this does not indicate an error and you can ignore this message): INVALID_ARGUMENT: You must feed a value for placeholder tensor 'gradients/split_2_grad/concat/split_2/split_dim' with dtype int32\n",
      "\t [[{{node gradients/split_2_grad/concat/split_2/split_dim}}]]\n",
      "2023-06-07 16:02:12.603626: I tensorflow/core/common_runtime/executor.cc:1197] [/device:CPU:0] (DEBUG INFO) Executor start aborting (this does not indicate an error and you can ignore this message): INVALID_ARGUMENT: You must feed a value for placeholder tensor 'gradients/split_grad/concat/split/split_dim' with dtype int32\n",
      "\t [[{{node gradients/split_grad/concat/split/split_dim}}]]\n",
      "2023-06-07 16:02:12.604317: I tensorflow/core/common_runtime/executor.cc:1197] [/device:CPU:0] (DEBUG INFO) Executor start aborting (this does not indicate an error and you can ignore this message): INVALID_ARGUMENT: You must feed a value for placeholder tensor 'gradients/split_1_grad/concat/split_1/split_dim' with dtype int32\n",
      "\t [[{{node gradients/split_1_grad/concat/split_1/split_dim}}]]\n",
      "2023-06-07 16:02:12.833803: I tensorflow/core/common_runtime/executor.cc:1197] [/device:CPU:0] (DEBUG INFO) Executor start aborting (this does not indicate an error and you can ignore this message): INVALID_ARGUMENT: You must feed a value for placeholder tensor 'gradients/split_2_grad/concat/split_2/split_dim' with dtype int32\n",
      "\t [[{{node gradients/split_2_grad/concat/split_2/split_dim}}]]\n",
      "2023-06-07 16:02:12.835580: I tensorflow/core/common_runtime/executor.cc:1197] [/device:CPU:0] (DEBUG INFO) Executor start aborting (this does not indicate an error and you can ignore this message): INVALID_ARGUMENT: You must feed a value for placeholder tensor 'gradients/split_grad/concat/split/split_dim' with dtype int32\n",
      "\t [[{{node gradients/split_grad/concat/split/split_dim}}]]\n",
      "2023-06-07 16:02:12.836691: I tensorflow/core/common_runtime/executor.cc:1197] [/device:CPU:0] (DEBUG INFO) Executor start aborting (this does not indicate an error and you can ignore this message): INVALID_ARGUMENT: You must feed a value for placeholder tensor 'gradients/split_1_grad/concat/split_1/split_dim' with dtype int32\n",
      "\t [[{{node gradients/split_1_grad/concat/split_1/split_dim}}]]\n",
      "2023-06-07 16:02:13.223879: I tensorflow/core/common_runtime/executor.cc:1197] [/device:CPU:0] (DEBUG INFO) Executor start aborting (this does not indicate an error and you can ignore this message): INVALID_ARGUMENT: You must feed a value for placeholder tensor 'gradients/split_2_grad/concat/split_2/split_dim' with dtype int32\n",
      "\t [[{{node gradients/split_2_grad/concat/split_2/split_dim}}]]\n",
      "2023-06-07 16:02:13.225252: I tensorflow/core/common_runtime/executor.cc:1197] [/device:CPU:0] (DEBUG INFO) Executor start aborting (this does not indicate an error and you can ignore this message): INVALID_ARGUMENT: You must feed a value for placeholder tensor 'gradients/split_grad/concat/split/split_dim' with dtype int32\n",
      "\t [[{{node gradients/split_grad/concat/split/split_dim}}]]\n",
      "2023-06-07 16:02:13.225989: I tensorflow/core/common_runtime/executor.cc:1197] [/device:CPU:0] (DEBUG INFO) Executor start aborting (this does not indicate an error and you can ignore this message): INVALID_ARGUMENT: You must feed a value for placeholder tensor 'gradients/split_1_grad/concat/split_1/split_dim' with dtype int32\n",
      "\t [[{{node gradients/split_1_grad/concat/split_1/split_dim}}]]\n"
     ]
    },
    {
     "name": "stdout",
     "output_type": "stream",
     "text": [
      "183178/183178 - 229s - loss: 4.0575 - accuracy: 0.3338 - 229s/epoch - 1ms/step\n",
      "Epoch 2/3\n",
      "183178/183178 - 242s - loss: 3.8551 - accuracy: 0.3334 - 242s/epoch - 1ms/step\n",
      "Epoch 3/3\n",
      "183178/183178 - 224s - loss: 3.8079 - accuracy: 0.3328 - 224s/epoch - 1ms/step\n"
     ]
    },
    {
     "name": "stderr",
     "output_type": "stream",
     "text": [
      "2023-06-07 16:13:47.729459: I tensorflow/core/common_runtime/executor.cc:1197] [/device:CPU:0] (DEBUG INFO) Executor start aborting (this does not indicate an error and you can ignore this message): INVALID_ARGUMENT: You must feed a value for placeholder tensor 'gradients/split_2_grad/concat/split_2/split_dim' with dtype int32\n",
      "\t [[{{node gradients/split_2_grad/concat/split_2/split_dim}}]]\n",
      "2023-06-07 16:13:47.732357: I tensorflow/core/common_runtime/executor.cc:1197] [/device:CPU:0] (DEBUG INFO) Executor start aborting (this does not indicate an error and you can ignore this message): INVALID_ARGUMENT: You must feed a value for placeholder tensor 'gradients/split_grad/concat/split/split_dim' with dtype int32\n",
      "\t [[{{node gradients/split_grad/concat/split/split_dim}}]]\n",
      "2023-06-07 16:13:47.734452: I tensorflow/core/common_runtime/executor.cc:1197] [/device:CPU:0] (DEBUG INFO) Executor start aborting (this does not indicate an error and you can ignore this message): INVALID_ARGUMENT: You must feed a value for placeholder tensor 'gradients/split_1_grad/concat/split_1/split_dim' with dtype int32\n",
      "\t [[{{node gradients/split_1_grad/concat/split_1/split_dim}}]]\n"
     ]
    },
    {
     "name": "stdout",
     "output_type": "stream",
     "text": [
      "Epoch 1/3\n",
      "183010/183010 - 202s - loss: 3.7456 - accuracy: 0.3324 - 202s/epoch - 1ms/step\n",
      "Epoch 2/3\n",
      "183010/183010 - 202s - loss: 3.7153 - accuracy: 0.3326 - 202s/epoch - 1ms/step\n",
      "Epoch 3/3\n",
      "183010/183010 - 224s - loss: 3.6925 - accuracy: 0.3329 - 224s/epoch - 1ms/step\n",
      "Epoch 1/3\n",
      "182982/182982 - 177s - loss: 3.6987 - accuracy: 0.3325 - 177s/epoch - 966us/step\n",
      "Epoch 2/3\n",
      "182982/182982 - 165s - loss: 3.6930 - accuracy: 0.3327 - 165s/epoch - 899us/step\n",
      "Epoch 3/3\n",
      "182982/182982 - 164s - loss: 3.6926 - accuracy: 0.3325 - 164s/epoch - 899us/step\n",
      "Epoch 1/3\n",
      "182971/182971 - 165s - loss: 3.6824 - accuracy: 0.3330 - 165s/epoch - 903us/step\n",
      "Epoch 2/3\n",
      "182971/182971 - 165s - loss: 3.6824 - accuracy: 0.3329 - 165s/epoch - 901us/step\n",
      "Epoch 3/3\n",
      "182971/182971 - 164s - loss: 3.6798 - accuracy: 0.3328 - 164s/epoch - 898us/step\n",
      "Epoch 1/3\n",
      "182971/182971 - 164s - loss: 3.6735 - accuracy: 0.3333 - 164s/epoch - 896us/step\n",
      "Epoch 2/3\n",
      "182971/182971 - 164s - loss: 3.6701 - accuracy: 0.3333 - 164s/epoch - 895us/step\n",
      "Epoch 3/3\n",
      "182971/182971 - 164s - loss: 3.6753 - accuracy: 0.3330 - 164s/epoch - 894us/step\n",
      "Epoch 1/3\n",
      "182972/182972 - 165s - loss: 3.6798 - accuracy: 0.3323 - 165s/epoch - 903us/step\n",
      "Epoch 2/3\n",
      "182972/182972 - 165s - loss: 3.6711 - accuracy: 0.3324 - 165s/epoch - 902us/step\n",
      "Epoch 3/3\n",
      "182972/182972 - 166s - loss: 3.6756 - accuracy: 0.3321 - 166s/epoch - 906us/step\n",
      "Epoch 1/3\n",
      "183007/183007 - 171s - loss: 3.6768 - accuracy: 0.3325 - 171s/epoch - 933us/step\n",
      "Epoch 2/3\n",
      "183007/183007 - 173s - loss: 3.6733 - accuracy: 0.3324 - 173s/epoch - 946us/step\n",
      "Epoch 3/3\n",
      "183007/183007 - 164s - loss: 3.6740 - accuracy: 0.3322 - 164s/epoch - 896us/step\n",
      "Epoch 1/3\n",
      "183180/183180 - 163s - loss: 3.6609 - accuracy: 0.3331 - 163s/epoch - 889us/step\n",
      "Epoch 2/3\n",
      "183180/183180 - 163s - loss: 3.6648 - accuracy: 0.3329 - 163s/epoch - 889us/step\n",
      "Epoch 3/3\n",
      "183180/183180 - 162s - loss: 3.6657 - accuracy: 0.3331 - 162s/epoch - 885us/step\n",
      "Epoch 1/3\n",
      "183176/183176 - 162s - loss: 3.6432 - accuracy: 0.3327 - 162s/epoch - 887us/step\n",
      "Epoch 2/3\n",
      "183176/183176 - 162s - loss: 3.6466 - accuracy: 0.3327 - 162s/epoch - 882us/step\n",
      "Epoch 3/3\n",
      "183176/183176 - 162s - loss: 3.6402 - accuracy: 0.3325 - 162s/epoch - 884us/step\n",
      "Epoch 1/3\n",
      "183180/183180 - 163s - loss: 3.6738 - accuracy: 0.3330 - 163s/epoch - 888us/step\n",
      "Epoch 2/3\n",
      "183180/183180 - 163s - loss: 3.6699 - accuracy: 0.3328 - 163s/epoch - 890us/step\n",
      "Epoch 3/3\n",
      "183180/183180 - 165s - loss: 3.6628 - accuracy: 0.3325 - 165s/epoch - 899us/step\n",
      "------------------------------------------------------------------------\n",
      "Score per fold\n",
      "------------------------------------------------------------------------\n",
      "> Fold 1 - Loss: 3.8003220558166504 - Accuracy: 33.23609530925751%\n",
      "------------------------------------------------------------------------\n",
      "> Fold 2 - Loss: 3.759108543395996 - Accuracy: 33.207473158836365%\n",
      "------------------------------------------------------------------------\n",
      "> Fold 3 - Loss: 3.5479018688201904 - Accuracy: 33.14725160598755%\n",
      "------------------------------------------------------------------------\n",
      "> Fold 4 - Loss: 3.6621131896972656 - Accuracy: 33.28602313995361%\n",
      "------------------------------------------------------------------------\n",
      "> Fold 5 - Loss: 3.7706427574157715 - Accuracy: 32.78680443763733%\n",
      "------------------------------------------------------------------------\n",
      "> Fold 6 - Loss: 3.7026872634887695 - Accuracy: 33.737948536872864%\n",
      "------------------------------------------------------------------------\n",
      "> Fold 7 - Loss: 3.7449097633361816 - Accuracy: 33.825260400772095%\n",
      "------------------------------------------------------------------------\n",
      "> Fold 8 - Loss: 3.7246439456939697 - Accuracy: 33.12070369720459%\n",
      "------------------------------------------------------------------------\n",
      "> Fold 9 - Loss: 3.858353853225708 - Accuracy: 33.1833690404892%\n",
      "------------------------------------------------------------------------\n",
      "> Fold 10 - Loss: 3.548295021057129 - Accuracy: 33.09103548526764%\n",
      "------------------------------------------------------------------------\n",
      "Average scores for all folds:\n",
      "> Accuracy: 33.262196481227875 (+- 0.2902351801791327)\n",
      "> Loss: 3.7118978261947633\n",
      "------------------------------------------------------------------------\n"
     ]
    }
   ],
   "source": [
    "cols = [\"StationEnd\", \"WorkingDay\", \"Hour\", \"Count\", \"Count1\", \"Count1week\", \"Count2week\", \"Count3week\"]\n",
    "\n",
    "met1 = dataset[[col for col in dataset.columns if col in cols]]\n",
    "\n",
    "X = met1.drop(columns=[\"Count\"])\n",
    "y = met1[\"Count\"]\n",
    "\n",
    "X = np.reshape(X.values, (X.shape[0], 1, X.shape[1]))\n",
    "\n",
    "# Define the K-fold Cross Validator\n",
    "kfold = GroupKFold(n_splits=10)\n",
    "\n",
    "acc_per_fold = []\n",
    "loss_per_fold = []\n",
    "\n",
    "model_met1 = Sequential()\n",
    "model_met1.add(LSTM(4, input_shape=(1,met1.shape[1]-1)))\n",
    "model_met1.add(Dense(1))\n",
    "model_met1.compile(loss='mean_squared_error', optimizer='adam', metrics=[\"accuracy\"])\n",
    "\n",
    "# K-fold Cross Validation model evaluation\n",
    "for train, test in kfold.split(X, y, dataset[\"Day\"]):\n",
    "    model_met1.fit(X[train], y[train], epochs=epochs, batch_size=batch_size, verbose=verbose)\n",
    "\n",
    "    # Generate generalization metrics\n",
    "    scores = model_met1.evaluate(X[test], y[test], verbose=0)\n",
    "    acc_per_fold.append(scores[1] * 100)\n",
    "    loss_per_fold.append(scores[0])\n",
    "\n",
    "print('------------------------------------------------------------------------')\n",
    "print('Score per fold')\n",
    "for i in range(0, len(acc_per_fold)):\n",
    "    print('------------------------------------------------------------------------')\n",
    "    print(f'> Fold {i+1} - Loss: {loss_per_fold[i]} - Accuracy: {acc_per_fold[i]}%')\n",
    "print('------------------------------------------------------------------------')\n",
    "print('Average scores for all folds:')\n",
    "print(f'> Accuracy: {np.mean(acc_per_fold)} (+- {np.std(acc_per_fold)})')\n",
    "print(f'> Loss: {np.mean(loss_per_fold)}')\n",
    "print('------------------------------------------------------------------------')"
   ]
  },
  {
   "cell_type": "code",
   "execution_count": 12,
   "metadata": {},
   "outputs": [
    {
     "data": {
      "text/plain": [
       "Text(0.5, 0, 'Methods')"
      ]
     },
     "execution_count": 12,
     "metadata": {},
     "output_type": "execute_result"
    },
    {
     "data": {
      "image/png": "[encoded data removed]",
      "text/plain": [
       "<Figure size 640x480 with 1 Axes>"
      ]
     },
     "metadata": {},
     "output_type": "display_data"
    }
   ],
   "source": [
    "plt.plot([\"Regression\", \"LSTM\"], [3.9876557741635343, 3.7118978261947633], marker=\"o\")\n",
    "plt.legend([\"Mean Squared Error\"])\n",
    "plt.xlabel(\"Methods\")"
   ]
  },
  {
   "attachments": {},
   "cell_type": "markdown",
   "metadata": {},
   "source": [
    "### Method 1\n",
    "Input: ..., Temp\n",
    "\n",
    "Output: c(t+1)"
   ]
  },
  {
   "cell_type": "code",
   "execution_count": 9,
   "metadata": {},
   "outputs": [
    {
     "name": "stdout",
     "output_type": "stream",
     "text": [
      "Epoch 1/3\n"
     ]
    },
    {
     "name": "stderr",
     "output_type": "stream",
     "text": [
      "2023-06-07 17:30:20.846011: I tensorflow/core/common_runtime/executor.cc:1197] [/device:CPU:0] (DEBUG INFO) Executor start aborting (this does not indicate an error and you can ignore this message): INVALID_ARGUMENT: You must feed a value for placeholder tensor 'gradients/split_2_grad/concat/split_2/split_dim' with dtype int32\n",
      "\t [[{{node gradients/split_2_grad/concat/split_2/split_dim}}]]\n",
      "2023-06-07 17:30:20.847492: I tensorflow/core/common_runtime/executor.cc:1197] [/device:CPU:0] (DEBUG INFO) Executor start aborting (this does not indicate an error and you can ignore this message): INVALID_ARGUMENT: You must feed a value for placeholder tensor 'gradients/split_grad/concat/split/split_dim' with dtype int32\n",
      "\t [[{{node gradients/split_grad/concat/split/split_dim}}]]\n",
      "2023-06-07 17:30:20.848433: I tensorflow/core/common_runtime/executor.cc:1197] [/device:CPU:0] (DEBUG INFO) Executor start aborting (this does not indicate an error and you can ignore this message): INVALID_ARGUMENT: You must feed a value for placeholder tensor 'gradients/split_1_grad/concat/split_1/split_dim' with dtype int32\n",
      "\t [[{{node gradients/split_1_grad/concat/split_1/split_dim}}]]\n",
      "2023-06-07 17:30:21.095320: I tensorflow/core/common_runtime/executor.cc:1197] [/device:CPU:0] (DEBUG INFO) Executor start aborting (this does not indicate an error and you can ignore this message): INVALID_ARGUMENT: You must feed a value for placeholder tensor 'gradients/split_2_grad/concat/split_2/split_dim' with dtype int32\n",
      "\t [[{{node gradients/split_2_grad/concat/split_2/split_dim}}]]\n",
      "2023-06-07 17:30:21.097429: I tensorflow/core/common_runtime/executor.cc:1197] [/device:CPU:0] (DEBUG INFO) Executor start aborting (this does not indicate an error and you can ignore this message): INVALID_ARGUMENT: You must feed a value for placeholder tensor 'gradients/split_grad/concat/split/split_dim' with dtype int32\n",
      "\t [[{{node gradients/split_grad/concat/split/split_dim}}]]\n",
      "2023-06-07 17:30:21.098437: I tensorflow/core/common_runtime/executor.cc:1197] [/device:CPU:0] (DEBUG INFO) Executor start aborting (this does not indicate an error and you can ignore this message): INVALID_ARGUMENT: You must feed a value for placeholder tensor 'gradients/split_1_grad/concat/split_1/split_dim' with dtype int32\n",
      "\t [[{{node gradients/split_1_grad/concat/split_1/split_dim}}]]\n",
      "2023-06-07 17:30:21.495450: I tensorflow/core/common_runtime/executor.cc:1197] [/device:CPU:0] (DEBUG INFO) Executor start aborting (this does not indicate an error and you can ignore this message): INVALID_ARGUMENT: You must feed a value for placeholder tensor 'gradients/split_2_grad/concat/split_2/split_dim' with dtype int32\n",
      "\t [[{{node gradients/split_2_grad/concat/split_2/split_dim}}]]\n",
      "2023-06-07 17:30:21.496657: I tensorflow/core/common_runtime/executor.cc:1197] [/device:CPU:0] (DEBUG INFO) Executor start aborting (this does not indicate an error and you can ignore this message): INVALID_ARGUMENT: You must feed a value for placeholder tensor 'gradients/split_grad/concat/split/split_dim' with dtype int32\n",
      "\t [[{{node gradients/split_grad/concat/split/split_dim}}]]\n",
      "2023-06-07 17:30:21.497474: I tensorflow/core/common_runtime/executor.cc:1197] [/device:CPU:0] (DEBUG INFO) Executor start aborting (this does not indicate an error and you can ignore this message): INVALID_ARGUMENT: You must feed a value for placeholder tensor 'gradients/split_1_grad/concat/split_1/split_dim' with dtype int32\n",
      "\t [[{{node gradients/split_1_grad/concat/split_1/split_dim}}]]\n"
     ]
    },
    {
     "name": "stdout",
     "output_type": "stream",
     "text": [
      "183178/183178 - 165s - loss: 3.9966 - accuracy: 0.3333 - 165s/epoch - 902us/step\n",
      "Epoch 2/3\n",
      "183178/183178 - 163s - loss: 3.8081 - accuracy: 0.3337 - 163s/epoch - 890us/step\n",
      "Epoch 3/3\n",
      "183178/183178 - 162s - loss: 3.7269 - accuracy: 0.3330 - 162s/epoch - 884us/step\n"
     ]
    },
    {
     "name": "stderr",
     "output_type": "stream",
     "text": [
      "2023-06-07 17:38:31.266878: I tensorflow/core/common_runtime/executor.cc:1197] [/device:CPU:0] (DEBUG INFO) Executor start aborting (this does not indicate an error and you can ignore this message): INVALID_ARGUMENT: You must feed a value for placeholder tensor 'gradients/split_2_grad/concat/split_2/split_dim' with dtype int32\n",
      "\t [[{{node gradients/split_2_grad/concat/split_2/split_dim}}]]\n",
      "2023-06-07 17:38:31.267918: I tensorflow/core/common_runtime/executor.cc:1197] [/device:CPU:0] (DEBUG INFO) Executor start aborting (this does not indicate an error and you can ignore this message): INVALID_ARGUMENT: You must feed a value for placeholder tensor 'gradients/split_grad/concat/split/split_dim' with dtype int32\n",
      "\t [[{{node gradients/split_grad/concat/split/split_dim}}]]\n",
      "2023-06-07 17:38:31.268954: I tensorflow/core/common_runtime/executor.cc:1197] [/device:CPU:0] (DEBUG INFO) Executor start aborting (this does not indicate an error and you can ignore this message): INVALID_ARGUMENT: You must feed a value for placeholder tensor 'gradients/split_1_grad/concat/split_1/split_dim' with dtype int32\n",
      "\t [[{{node gradients/split_1_grad/concat/split_1/split_dim}}]]\n"
     ]
    },
    {
     "name": "stdout",
     "output_type": "stream",
     "text": [
      "Epoch 1/3\n",
      "183010/183010 - 162s - loss: 3.6574 - accuracy: 0.3332 - 162s/epoch - 886us/step\n",
      "Epoch 2/3\n",
      "183010/183010 - 162s - loss: 3.6363 - accuracy: 0.3334 - 162s/epoch - 886us/step\n",
      "Epoch 3/3\n",
      "183010/183010 - 163s - loss: 3.6279 - accuracy: 0.3334 - 163s/epoch - 888us/step\n",
      "Epoch 1/3\n",
      "182982/182982 - 164s - loss: 3.6330 - accuracy: 0.3332 - 164s/epoch - 895us/step\n",
      "Epoch 2/3\n",
      "182982/182982 - 163s - loss: 3.6321 - accuracy: 0.3333 - 163s/epoch - 893us/step\n",
      "Epoch 3/3\n",
      "182982/182982 - 163s - loss: 3.6270 - accuracy: 0.3333 - 163s/epoch - 893us/step\n",
      "Epoch 1/3\n",
      "182971/182971 - 161s - loss: 3.6199 - accuracy: 0.3335 - 161s/epoch - 880us/step\n",
      "Epoch 2/3\n",
      "182971/182971 - 160s - loss: 3.6183 - accuracy: 0.3335 - 160s/epoch - 875us/step\n",
      "Epoch 3/3\n",
      "182971/182971 - 161s - loss: 3.6165 - accuracy: 0.3335 - 161s/epoch - 878us/step\n",
      "Epoch 1/3\n",
      "182971/182971 - 161s - loss: 3.6060 - accuracy: 0.3340 - 161s/epoch - 879us/step\n",
      "Epoch 2/3\n",
      "182971/182971 - 161s - loss: 3.6065 - accuracy: 0.3339 - 161s/epoch - 881us/step\n",
      "Epoch 3/3\n",
      "182971/182971 - 161s - loss: 3.6056 - accuracy: 0.3340 - 161s/epoch - 878us/step\n",
      "Epoch 1/3\n",
      "182972/182972 - 161s - loss: 3.6148 - accuracy: 0.3331 - 161s/epoch - 880us/step\n",
      "Epoch 2/3\n",
      "182972/182972 - 161s - loss: 3.6112 - accuracy: 0.3331 - 161s/epoch - 879us/step\n",
      "Epoch 3/3\n",
      "182972/182972 - 161s - loss: 3.6125 - accuracy: 0.3330 - 161s/epoch - 881us/step\n",
      "Epoch 1/3\n",
      "183007/183007 - 161s - loss: 3.6058 - accuracy: 0.3329 - 161s/epoch - 877us/step\n",
      "Epoch 2/3\n",
      "183007/183007 - 161s - loss: 3.6103 - accuracy: 0.3329 - 161s/epoch - 877us/step\n",
      "Epoch 3/3\n",
      "183007/183007 - 160s - loss: 3.6088 - accuracy: 0.3328 - 160s/epoch - 873us/step\n",
      "Epoch 1/3\n",
      "183180/183180 - 159s - loss: 3.5976 - accuracy: 0.3336 - 159s/epoch - 869us/step\n",
      "Epoch 2/3\n",
      "183180/183180 - 159s - loss: 3.5938 - accuracy: 0.3337 - 159s/epoch - 868us/step\n",
      "Epoch 3/3\n",
      "183180/183180 - 159s - loss: 3.5940 - accuracy: 0.3336 - 159s/epoch - 868us/step\n",
      "Epoch 1/3\n",
      "183176/183176 - 159s - loss: 3.5723 - accuracy: 0.3334 - 159s/epoch - 868us/step\n",
      "Epoch 2/3\n",
      "183176/183176 - 159s - loss: 3.5794 - accuracy: 0.3335 - 159s/epoch - 868us/step\n",
      "Epoch 3/3\n",
      "183176/183176 - 159s - loss: 3.5767 - accuracy: 0.3335 - 159s/epoch - 867us/step\n",
      "Epoch 1/3\n",
      "183180/183180 - 159s - loss: 3.6039 - accuracy: 0.3338 - 159s/epoch - 866us/step\n",
      "Epoch 2/3\n",
      "183180/183180 - 159s - loss: 3.6059 - accuracy: 0.3336 - 159s/epoch - 868us/step\n",
      "Epoch 3/3\n",
      "183180/183180 - 159s - loss: 3.6055 - accuracy: 0.3338 - 159s/epoch - 866us/step\n",
      "------------------------------------------------------------------------\n",
      "Score per fold\n",
      "------------------------------------------------------------------------\n",
      "> Fold 1 - Loss: 3.561108350753784 - Accuracy: 33.344870805740356%\n",
      "------------------------------------------------------------------------\n",
      "> Fold 2 - Loss: 3.719430685043335 - Accuracy: 33.344775438308716%\n",
      "------------------------------------------------------------------------\n",
      "> Fold 3 - Loss: 3.6436097621917725 - Accuracy: 33.36761295795441%\n",
      "------------------------------------------------------------------------\n",
      "> Fold 4 - Loss: 3.5573365688323975 - Accuracy: 33.33496451377869%\n",
      "------------------------------------------------------------------------\n",
      "> Fold 5 - Loss: 3.580942153930664 - Accuracy: 32.948315143585205%\n",
      "------------------------------------------------------------------------\n",
      "> Fold 6 - Loss: 3.490499258041382 - Accuracy: 33.77220928668976%\n",
      "------------------------------------------------------------------------\n",
      "> Fold 7 - Loss: 3.5924088954925537 - Accuracy: 33.8448703289032%\n",
      "------------------------------------------------------------------------\n",
      "> Fold 8 - Loss: 3.585261344909668 - Accuracy: 33.15037190914154%\n",
      "------------------------------------------------------------------------\n",
      "> Fold 9 - Loss: 3.7785794734954834 - Accuracy: 33.40584337711334%\n",
      "------------------------------------------------------------------------\n",
      "> Fold 10 - Loss: 3.554039716720581 - Accuracy: 33.12564790248871%\n",
      "------------------------------------------------------------------------\n",
      "Average scores for all folds:\n",
      "> Accuracy: 33.36394816637039 (+- 0.2600877049218617)\n",
      "> Loss: 3.606321620941162\n",
      "------------------------------------------------------------------------\n"
     ]
    }
   ],
   "source": [
    "cols = [\"StationEnd\", \"WorkingDay\", \"Hour\", \"Count\", \"Count1\", \"Count1week\", \"Count2week\", \"Count3week\", \"Temp\"]\n",
    "\n",
    "met1 = dataset[[col for col in dataset.columns if col in cols]]\n",
    "\n",
    "X = met1.drop(columns=[\"Count\"])\n",
    "y = met1[\"Count\"]\n",
    "\n",
    "X = np.reshape(X.values, (X.shape[0], 1, X.shape[1]))\n",
    "\n",
    "# Define the K-fold Cross Validator\n",
    "kfold = GroupKFold(n_splits=10)\n",
    "\n",
    "acc_per_fold = []\n",
    "loss_per_fold = []\n",
    "\n",
    "model_met1 = Sequential()\n",
    "model_met1.add(LSTM(4, input_shape=(1,met1.shape[1]-1)))\n",
    "model_met1.add(Dense(1))\n",
    "model_met1.compile(loss='mean_squared_error', optimizer='adam', metrics=[\"accuracy\"])\n",
    "\n",
    "# K-fold Cross Validation model evaluation\n",
    "for train, test in kfold.split(X, y, dataset[\"Day\"]):\n",
    "    model_met1.fit(X[train], y[train], epochs=epochs, batch_size=batch_size, verbose=verbose)\n",
    "\n",
    "    # Generate generalization metrics\n",
    "    scores = model_met1.evaluate(X[test], y[test], verbose=0)\n",
    "    acc_per_fold.append(scores[1] * 100)\n",
    "    loss_per_fold.append(scores[0])\n",
    "\n",
    "print('------------------------------------------------------------------------')\n",
    "print('Score per fold')\n",
    "for i in range(0, len(acc_per_fold)):\n",
    "    print('------------------------------------------------------------------------')\n",
    "    print(f'> Fold {i+1} - Loss: {loss_per_fold[i]} - Accuracy: {acc_per_fold[i]}%')\n",
    "print('------------------------------------------------------------------------')\n",
    "print('Average scores for all folds:')\n",
    "print(f'> Accuracy: {np.mean(acc_per_fold)} (+- {np.std(acc_per_fold)})')\n",
    "print(f'> Loss: {np.mean(loss_per_fold)}')\n",
    "print('------------------------------------------------------------------------')"
   ]
  },
  {
   "attachments": {},
   "cell_type": "markdown",
   "metadata": {},
   "source": [
    "### Method 2\n",
    "Input: ..., Temp, ATemp\n",
    "\n",
    "Output: c(t+1)"
   ]
  },
  {
   "cell_type": "code",
   "execution_count": 10,
   "metadata": {},
   "outputs": [
    {
     "name": "stdout",
     "output_type": "stream",
     "text": [
      "Epoch 1/3\n"
     ]
    },
    {
     "name": "stderr",
     "output_type": "stream",
     "text": [
      "2023-06-07 18:50:52.396987: I tensorflow/core/common_runtime/executor.cc:1197] [/device:CPU:0] (DEBUG INFO) Executor start aborting (this does not indicate an error and you can ignore this message): INVALID_ARGUMENT: You must feed a value for placeholder tensor 'gradients/split_2_grad/concat/split_2/split_dim' with dtype int32\n",
      "\t [[{{node gradients/split_2_grad/concat/split_2/split_dim}}]]\n",
      "2023-06-07 18:50:52.398022: I tensorflow/core/common_runtime/executor.cc:1197] [/device:CPU:0] (DEBUG INFO) Executor start aborting (this does not indicate an error and you can ignore this message): INVALID_ARGUMENT: You must feed a value for placeholder tensor 'gradients/split_grad/concat/split/split_dim' with dtype int32\n",
      "\t [[{{node gradients/split_grad/concat/split/split_dim}}]]\n",
      "2023-06-07 18:50:52.398714: I tensorflow/core/common_runtime/executor.cc:1197] [/device:CPU:0] (DEBUG INFO) Executor start aborting (this does not indicate an error and you can ignore this message): INVALID_ARGUMENT: You must feed a value for placeholder tensor 'gradients/split_1_grad/concat/split_1/split_dim' with dtype int32\n",
      "\t [[{{node gradients/split_1_grad/concat/split_1/split_dim}}]]\n",
      "2023-06-07 18:50:52.894848: I tensorflow/core/common_runtime/executor.cc:1197] [/device:CPU:0] (DEBUG INFO) Executor start aborting (this does not indicate an error and you can ignore this message): INVALID_ARGUMENT: You must feed a value for placeholder tensor 'gradients/split_2_grad/concat/split_2/split_dim' with dtype int32\n",
      "\t [[{{node gradients/split_2_grad/concat/split_2/split_dim}}]]\n",
      "2023-06-07 18:50:52.895928: I tensorflow/core/common_runtime/executor.cc:1197] [/device:CPU:0] (DEBUG INFO) Executor start aborting (this does not indicate an error and you can ignore this message): INVALID_ARGUMENT: You must feed a value for placeholder tensor 'gradients/split_grad/concat/split/split_dim' with dtype int32\n",
      "\t [[{{node gradients/split_grad/concat/split/split_dim}}]]\n",
      "2023-06-07 18:50:52.896995: I tensorflow/core/common_runtime/executor.cc:1197] [/device:CPU:0] (DEBUG INFO) Executor start aborting (this does not indicate an error and you can ignore this message): INVALID_ARGUMENT: You must feed a value for placeholder tensor 'gradients/split_1_grad/concat/split_1/split_dim' with dtype int32\n",
      "\t [[{{node gradients/split_1_grad/concat/split_1/split_dim}}]]\n",
      "2023-06-07 18:50:53.232877: I tensorflow/core/common_runtime/executor.cc:1197] [/device:CPU:0] (DEBUG INFO) Executor start aborting (this does not indicate an error and you can ignore this message): INVALID_ARGUMENT: You must feed a value for placeholder tensor 'gradients/split_2_grad/concat/split_2/split_dim' with dtype int32\n",
      "\t [[{{node gradients/split_2_grad/concat/split_2/split_dim}}]]\n",
      "2023-06-07 18:50:53.233987: I tensorflow/core/common_runtime/executor.cc:1197] [/device:CPU:0] (DEBUG INFO) Executor start aborting (this does not indicate an error and you can ignore this message): INVALID_ARGUMENT: You must feed a value for placeholder tensor 'gradients/split_grad/concat/split/split_dim' with dtype int32\n",
      "\t [[{{node gradients/split_grad/concat/split/split_dim}}]]\n",
      "2023-06-07 18:50:53.234687: I tensorflow/core/common_runtime/executor.cc:1197] [/device:CPU:0] (DEBUG INFO) Executor start aborting (this does not indicate an error and you can ignore this message): INVALID_ARGUMENT: You must feed a value for placeholder tensor 'gradients/split_1_grad/concat/split_1/split_dim' with dtype int32\n",
      "\t [[{{node gradients/split_1_grad/concat/split_1/split_dim}}]]\n"
     ]
    },
    {
     "name": "stdout",
     "output_type": "stream",
     "text": [
      "183178/183178 - 160s - loss: 3.9623 - accuracy: 0.3337 - 160s/epoch - 876us/step\n",
      "Epoch 2/3\n",
      "183178/183178 - 159s - loss: 3.7794 - accuracy: 0.3332 - 159s/epoch - 866us/step\n",
      "Epoch 3/3\n",
      "183178/183178 - 160s - loss: 3.7173 - accuracy: 0.3329 - 160s/epoch - 872us/step\n"
     ]
    },
    {
     "name": "stderr",
     "output_type": "stream",
     "text": [
      "2023-06-07 18:58:51.358899: I tensorflow/core/common_runtime/executor.cc:1197] [/device:CPU:0] (DEBUG INFO) Executor start aborting (this does not indicate an error and you can ignore this message): INVALID_ARGUMENT: You must feed a value for placeholder tensor 'gradients/split_2_grad/concat/split_2/split_dim' with dtype int32\n",
      "\t [[{{node gradients/split_2_grad/concat/split_2/split_dim}}]]\n",
      "2023-06-07 18:58:51.359901: I tensorflow/core/common_runtime/executor.cc:1197] [/device:CPU:0] (DEBUG INFO) Executor start aborting (this does not indicate an error and you can ignore this message): INVALID_ARGUMENT: You must feed a value for placeholder tensor 'gradients/split_grad/concat/split/split_dim' with dtype int32\n",
      "\t [[{{node gradients/split_grad/concat/split/split_dim}}]]\n",
      "2023-06-07 18:58:51.360571: I tensorflow/core/common_runtime/executor.cc:1197] [/device:CPU:0] (DEBUG INFO) Executor start aborting (this does not indicate an error and you can ignore this message): INVALID_ARGUMENT: You must feed a value for placeholder tensor 'gradients/split_1_grad/concat/split_1/split_dim' with dtype int32\n",
      "\t [[{{node gradients/split_1_grad/concat/split_1/split_dim}}]]\n"
     ]
    },
    {
     "name": "stdout",
     "output_type": "stream",
     "text": [
      "Epoch 1/3\n",
      "183010/183010 - 158s - loss: 3.6619 - accuracy: 0.3331 - 158s/epoch - 865us/step\n",
      "Epoch 2/3\n",
      "183010/183010 - 160s - loss: 3.6386 - accuracy: 0.3332 - 160s/epoch - 872us/step\n",
      "Epoch 3/3\n",
      "183010/183010 - 160s - loss: 3.6231 - accuracy: 0.3337 - 160s/epoch - 876us/step\n",
      "Epoch 1/3\n",
      "182982/182982 - 160s - loss: 3.6296 - accuracy: 0.3334 - 160s/epoch - 873us/step\n",
      "Epoch 2/3\n",
      "182982/182982 - 158s - loss: 3.6258 - accuracy: 0.3333 - 158s/epoch - 861us/step\n",
      "Epoch 3/3\n",
      "182982/182982 - 159s - loss: 3.6215 - accuracy: 0.3332 - 159s/epoch - 866us/step\n",
      "Epoch 1/3\n",
      "182971/182971 - 160s - loss: 3.6168 - accuracy: 0.3335 - 160s/epoch - 874us/step\n",
      "Epoch 2/3\n",
      "182971/182971 - 159s - loss: 3.6081 - accuracy: 0.3336 - 159s/epoch - 868us/step\n",
      "Epoch 3/3\n",
      "182971/182971 - 159s - loss: 3.6103 - accuracy: 0.3335 - 159s/epoch - 869us/step\n",
      "Epoch 1/3\n",
      "182971/182971 - 158s - loss: 3.6089 - accuracy: 0.3339 - 158s/epoch - 866us/step\n",
      "Epoch 2/3\n",
      "182971/182971 - 159s - loss: 3.6055 - accuracy: 0.3340 - 159s/epoch - 868us/step\n",
      "Epoch 3/3\n",
      "182971/182971 - 160s - loss: 3.6026 - accuracy: 0.3340 - 160s/epoch - 877us/step\n",
      "Epoch 1/3\n",
      "182972/182972 - 160s - loss: 3.6135 - accuracy: 0.3330 - 160s/epoch - 872us/step\n",
      "Epoch 2/3\n",
      "182972/182972 - 159s - loss: 3.6116 - accuracy: 0.3329 - 159s/epoch - 867us/step\n",
      "Epoch 3/3\n",
      "182972/182972 - 158s - loss: 3.6051 - accuracy: 0.3330 - 158s/epoch - 861us/step\n",
      "Epoch 1/3\n",
      "183007/183007 - 158s - loss: 3.6103 - accuracy: 0.3330 - 158s/epoch - 865us/step\n",
      "Epoch 2/3\n",
      "183007/183007 - 159s - loss: 3.6034 - accuracy: 0.3330 - 159s/epoch - 870us/step\n",
      "Epoch 3/3\n",
      "183007/183007 - 159s - loss: 3.6004 - accuracy: 0.3331 - 159s/epoch - 870us/step\n",
      "Epoch 1/3\n",
      "183180/183180 - 160s - loss: 3.5904 - accuracy: 0.3338 - 160s/epoch - 875us/step\n",
      "Epoch 2/3\n",
      "183180/183180 - 158s - loss: 3.5925 - accuracy: 0.3337 - 158s/epoch - 865us/step\n",
      "Epoch 3/3\n",
      "183180/183180 - 160s - loss: 3.5895 - accuracy: 0.3337 - 160s/epoch - 872us/step\n",
      "Epoch 1/3\n",
      "183176/183176 - 159s - loss: 3.5730 - accuracy: 0.3336 - 159s/epoch - 870us/step\n",
      "Epoch 2/3\n",
      "183176/183176 - 160s - loss: 3.5712 - accuracy: 0.3335 - 160s/epoch - 873us/step\n",
      "Epoch 3/3\n",
      "183176/183176 - 159s - loss: 3.5638 - accuracy: 0.3336 - 159s/epoch - 867us/step\n",
      "Epoch 1/3\n",
      "183180/183180 - 158s - loss: 3.5991 - accuracy: 0.3339 - 158s/epoch - 865us/step\n",
      "Epoch 2/3\n",
      "183180/183180 - 161s - loss: 3.5973 - accuracy: 0.3339 - 161s/epoch - 876us/step\n",
      "Epoch 3/3\n",
      "183180/183180 - 158s - loss: 3.5940 - accuracy: 0.3339 - 158s/epoch - 863us/step\n",
      "------------------------------------------------------------------------\n",
      "Score per fold\n",
      "------------------------------------------------------------------------\n",
      "> Fold 1 - Loss: 3.538424253463745 - Accuracy: 33.27564895153046%\n",
      "------------------------------------------------------------------------\n",
      "> Fold 2 - Loss: 3.6598618030548096 - Accuracy: 33.271220326423645%\n",
      "------------------------------------------------------------------------\n",
      "> Fold 3 - Loss: 3.5096805095672607 - Accuracy: 33.41168463230133%\n",
      "------------------------------------------------------------------------\n",
      "> Fold 4 - Loss: 3.6507527828216553 - Accuracy: 33.344754576683044%\n",
      "------------------------------------------------------------------------\n",
      "> Fold 5 - Loss: 3.5533554553985596 - Accuracy: 32.90426731109619%\n",
      "------------------------------------------------------------------------\n",
      "> Fold 6 - Loss: 3.495572805404663 - Accuracy: 33.781999349594116%\n",
      "------------------------------------------------------------------------\n",
      "> Fold 7 - Loss: 3.5727860927581787 - Accuracy: 33.83506536483765%\n",
      "------------------------------------------------------------------------\n",
      "> Fold 8 - Loss: 3.597890853881836 - Accuracy: 33.02675187587738%\n",
      "------------------------------------------------------------------------\n",
      "> Fold 9 - Loss: 3.7793045043945312 - Accuracy: 33.36629271507263%\n",
      "------------------------------------------------------------------------\n",
      "> Fold 10 - Loss: 3.5854902267456055 - Accuracy: 33.1404834985733%\n",
      "------------------------------------------------------------------------\n",
      "Average scores for all folds:\n",
      "> Accuracy: 33.335816860198975 (+- 0.27978503391258064)\n",
      "> Loss: 3.5943119287490846\n",
      "------------------------------------------------------------------------\n"
     ]
    }
   ],
   "source": [
    "cols = [\"StationEnd\", \"WorkingDay\", \"Hour\", \"Count\", \"Count1\", \"Count1week\", \"Count2week\", \"Count3week\", \"Temp\", \"ATemp\"]\n",
    "\n",
    "met1 = dataset[[col for col in dataset.columns if col in cols]]\n",
    "\n",
    "X = met1.drop(columns=[\"Count\"])\n",
    "y = met1[\"Count\"]\n",
    "\n",
    "X = np.reshape(X.values, (X.shape[0], 1, X.shape[1]))\n",
    "\n",
    "# Define the K-fold Cross Validator\n",
    "kfold = GroupKFold(n_splits=10)\n",
    "\n",
    "acc_per_fold = []\n",
    "loss_per_fold = []\n",
    "\n",
    "model_met1 = Sequential()\n",
    "model_met1.add(LSTM(4, input_shape=(1,met1.shape[1]-1)))\n",
    "model_met1.add(Dense(1))\n",
    "model_met1.compile(loss='mean_squared_error', optimizer='adam', metrics=[\"accuracy\"])\n",
    "\n",
    "# K-fold Cross Validation model evaluation\n",
    "for train, test in kfold.split(X, y, dataset[\"Day\"]):\n",
    "    model_met1.fit(X[train], y[train], epochs=epochs, batch_size=batch_size, verbose=verbose)\n",
    "\n",
    "    # Generate generalization metrics\n",
    "    scores = model_met1.evaluate(X[test], y[test], verbose=0)\n",
    "    acc_per_fold.append(scores[1] * 100)\n",
    "    loss_per_fold.append(scores[0])\n",
    "\n",
    "print('------------------------------------------------------------------------')\n",
    "print('Score per fold')\n",
    "for i in range(0, len(acc_per_fold)):\n",
    "    print('------------------------------------------------------------------------')\n",
    "    print(f'> Fold {i+1} - Loss: {loss_per_fold[i]} - Accuracy: {acc_per_fold[i]}%')\n",
    "print('------------------------------------------------------------------------')\n",
    "print('Average scores for all folds:')\n",
    "print(f'> Accuracy: {np.mean(acc_per_fold)} (+- {np.std(acc_per_fold)})')\n",
    "print(f'> Loss: {np.mean(loss_per_fold)}')\n",
    "print('------------------------------------------------------------------------')"
   ]
  },
  {
   "attachments": {},
   "cell_type": "markdown",
   "metadata": {},
   "source": [
    "### Method 3\n",
    "Input: ..., Temp, ATemp, Humidity\n",
    "\n",
    "Output: c(t+1)"
   ]
  },
  {
   "cell_type": "code",
   "execution_count": 11,
   "metadata": {},
   "outputs": [
    {
     "name": "stdout",
     "output_type": "stream",
     "text": [
      "Epoch 1/3\n"
     ]
    },
    {
     "name": "stderr",
     "output_type": "stream",
     "text": [
      "2023-06-07 20:10:31.205251: I tensorflow/core/common_runtime/executor.cc:1197] [/device:CPU:0] (DEBUG INFO) Executor start aborting (this does not indicate an error and you can ignore this message): INVALID_ARGUMENT: You must feed a value for placeholder tensor 'gradients/split_2_grad/concat/split_2/split_dim' with dtype int32\n",
      "\t [[{{node gradients/split_2_grad/concat/split_2/split_dim}}]]\n",
      "2023-06-07 20:10:31.206531: I tensorflow/core/common_runtime/executor.cc:1197] [/device:CPU:0] (DEBUG INFO) Executor start aborting (this does not indicate an error and you can ignore this message): INVALID_ARGUMENT: You must feed a value for placeholder tensor 'gradients/split_grad/concat/split/split_dim' with dtype int32\n",
      "\t [[{{node gradients/split_grad/concat/split/split_dim}}]]\n",
      "2023-06-07 20:10:31.207296: I tensorflow/core/common_runtime/executor.cc:1197] [/device:CPU:0] (DEBUG INFO) Executor start aborting (this does not indicate an error and you can ignore this message): INVALID_ARGUMENT: You must feed a value for placeholder tensor 'gradients/split_1_grad/concat/split_1/split_dim' with dtype int32\n",
      "\t [[{{node gradients/split_1_grad/concat/split_1/split_dim}}]]\n",
      "2023-06-07 20:10:31.392138: I tensorflow/core/common_runtime/executor.cc:1197] [/device:CPU:0] (DEBUG INFO) Executor start aborting (this does not indicate an error and you can ignore this message): INVALID_ARGUMENT: You must feed a value for placeholder tensor 'gradients/split_2_grad/concat/split_2/split_dim' with dtype int32\n",
      "\t [[{{node gradients/split_2_grad/concat/split_2/split_dim}}]]\n",
      "2023-06-07 20:10:31.393133: I tensorflow/core/common_runtime/executor.cc:1197] [/device:CPU:0] (DEBUG INFO) Executor start aborting (this does not indicate an error and you can ignore this message): INVALID_ARGUMENT: You must feed a value for placeholder tensor 'gradients/split_grad/concat/split/split_dim' with dtype int32\n",
      "\t [[{{node gradients/split_grad/concat/split/split_dim}}]]\n",
      "2023-06-07 20:10:31.393853: I tensorflow/core/common_runtime/executor.cc:1197] [/device:CPU:0] (DEBUG INFO) Executor start aborting (this does not indicate an error and you can ignore this message): INVALID_ARGUMENT: You must feed a value for placeholder tensor 'gradients/split_1_grad/concat/split_1/split_dim' with dtype int32\n",
      "\t [[{{node gradients/split_1_grad/concat/split_1/split_dim}}]]\n",
      "2023-06-07 20:10:31.695204: I tensorflow/core/common_runtime/executor.cc:1197] [/device:CPU:0] (DEBUG INFO) Executor start aborting (this does not indicate an error and you can ignore this message): INVALID_ARGUMENT: You must feed a value for placeholder tensor 'gradients/split_2_grad/concat/split_2/split_dim' with dtype int32\n",
      "\t [[{{node gradients/split_2_grad/concat/split_2/split_dim}}]]\n",
      "2023-06-07 20:10:31.696403: I tensorflow/core/common_runtime/executor.cc:1197] [/device:CPU:0] (DEBUG INFO) Executor start aborting (this does not indicate an error and you can ignore this message): INVALID_ARGUMENT: You must feed a value for placeholder tensor 'gradients/split_grad/concat/split/split_dim' with dtype int32\n",
      "\t [[{{node gradients/split_grad/concat/split/split_dim}}]]\n",
      "2023-06-07 20:10:31.697292: I tensorflow/core/common_runtime/executor.cc:1197] [/device:CPU:0] (DEBUG INFO) Executor start aborting (this does not indicate an error and you can ignore this message): INVALID_ARGUMENT: You must feed a value for placeholder tensor 'gradients/split_1_grad/concat/split_1/split_dim' with dtype int32\n",
      "\t [[{{node gradients/split_1_grad/concat/split_1/split_dim}}]]\n"
     ]
    },
    {
     "name": "stdout",
     "output_type": "stream",
     "text": [
      "183178/183178 - 165s - loss: 3.9611 - accuracy: 0.3332 - 165s/epoch - 901us/step\n",
      "Epoch 2/3\n",
      "183178/183178 - 163s - loss: 3.7784 - accuracy: 0.3337 - 163s/epoch - 890us/step\n",
      "Epoch 3/3\n",
      "183178/183178 - 163s - loss: 3.7596 - accuracy: 0.3335 - 163s/epoch - 889us/step\n"
     ]
    },
    {
     "name": "stderr",
     "output_type": "stream",
     "text": [
      "2023-06-07 20:18:42.487865: I tensorflow/core/common_runtime/executor.cc:1197] [/device:CPU:0] (DEBUG INFO) Executor start aborting (this does not indicate an error and you can ignore this message): INVALID_ARGUMENT: You must feed a value for placeholder tensor 'gradients/split_2_grad/concat/split_2/split_dim' with dtype int32\n",
      "\t [[{{node gradients/split_2_grad/concat/split_2/split_dim}}]]\n",
      "2023-06-07 20:18:42.489119: I tensorflow/core/common_runtime/executor.cc:1197] [/device:CPU:0] (DEBUG INFO) Executor start aborting (this does not indicate an error and you can ignore this message): INVALID_ARGUMENT: You must feed a value for placeholder tensor 'gradients/split_grad/concat/split/split_dim' with dtype int32\n",
      "\t [[{{node gradients/split_grad/concat/split/split_dim}}]]\n",
      "2023-06-07 20:18:42.489965: I tensorflow/core/common_runtime/executor.cc:1197] [/device:CPU:0] (DEBUG INFO) Executor start aborting (this does not indicate an error and you can ignore this message): INVALID_ARGUMENT: You must feed a value for placeholder tensor 'gradients/split_1_grad/concat/split_1/split_dim' with dtype int32\n",
      "\t [[{{node gradients/split_1_grad/concat/split_1/split_dim}}]]\n"
     ]
    },
    {
     "name": "stdout",
     "output_type": "stream",
     "text": [
      "Epoch 1/3\n",
      "183010/183010 - 165s - loss: 3.7341 - accuracy: 0.3334 - 165s/epoch - 900us/step\n",
      "Epoch 2/3\n",
      "183010/183010 - 163s - loss: 3.7284 - accuracy: 0.3333 - 163s/epoch - 890us/step\n",
      "Epoch 3/3\n",
      "183010/183010 - 164s - loss: 3.7213 - accuracy: 0.3330 - 164s/epoch - 898us/step\n",
      "Epoch 1/3\n",
      "182982/182982 - 164s - loss: 3.7354 - accuracy: 0.3327 - 164s/epoch - 897us/step\n",
      "Epoch 2/3\n",
      "182982/182982 - 164s - loss: 3.7248 - accuracy: 0.3325 - 164s/epoch - 894us/step\n",
      "Epoch 3/3\n",
      "182982/182982 - 164s - loss: 3.7270 - accuracy: 0.3324 - 164s/epoch - 894us/step\n",
      "Epoch 1/3\n",
      "182971/182971 - 163s - loss: 3.7219 - accuracy: 0.3323 - 163s/epoch - 893us/step\n",
      "Epoch 2/3\n",
      "182971/182971 - 164s - loss: 3.7159 - accuracy: 0.3323 - 164s/epoch - 897us/step\n",
      "Epoch 3/3\n",
      "182971/182971 - 165s - loss: 3.7142 - accuracy: 0.3319 - 165s/epoch - 903us/step\n",
      "Epoch 1/3\n",
      "182971/182971 - 164s - loss: 3.6934 - accuracy: 0.3323 - 164s/epoch - 895us/step\n",
      "Epoch 2/3\n",
      "182971/182971 - 164s - loss: 3.6551 - accuracy: 0.3337 - 164s/epoch - 898us/step\n",
      "Epoch 3/3\n",
      "182971/182971 - 164s - loss: 3.6319 - accuracy: 0.3338 - 164s/epoch - 897us/step\n",
      "Epoch 1/3\n",
      "182972/182972 - 165s - loss: 3.6249 - accuracy: 0.3330 - 165s/epoch - 899us/step\n",
      "Epoch 2/3\n",
      "182972/182972 - 164s - loss: 3.6246 - accuracy: 0.3329 - 164s/epoch - 898us/step\n",
      "Epoch 3/3\n",
      "182972/182972 - 164s - loss: 3.6207 - accuracy: 0.3331 - 164s/epoch - 896us/step\n",
      "Epoch 1/3\n",
      "183007/183007 - 163s - loss: 3.6129 - accuracy: 0.3331 - 163s/epoch - 893us/step\n",
      "Epoch 2/3\n",
      "183007/183007 - 163s - loss: 3.6105 - accuracy: 0.3331 - 163s/epoch - 893us/step\n",
      "Epoch 3/3\n",
      "183007/183007 - 165s - loss: 3.6117 - accuracy: 0.3332 - 165s/epoch - 903us/step\n",
      "Epoch 1/3\n",
      "183180/183180 - 165s - loss: 3.5928 - accuracy: 0.3340 - 165s/epoch - 899us/step\n",
      "Epoch 2/3\n",
      "183180/183180 - 167s - loss: 3.5944 - accuracy: 0.3340 - 167s/epoch - 909us/step\n",
      "Epoch 3/3\n",
      "183180/183180 - 165s - loss: 3.5972 - accuracy: 0.3340 - 165s/epoch - 902us/step\n",
      "Epoch 1/3\n",
      "183176/183176 - 165s - loss: 3.5732 - accuracy: 0.3337 - 165s/epoch - 899us/step\n",
      "Epoch 2/3\n",
      "183176/183176 - 164s - loss: 3.5686 - accuracy: 0.3337 - 164s/epoch - 898us/step\n",
      "Epoch 3/3\n",
      "183176/183176 - 164s - loss: 3.5691 - accuracy: 0.3338 - 164s/epoch - 896us/step\n",
      "Epoch 1/3\n",
      "183180/183180 - 165s - loss: 3.6001 - accuracy: 0.3341 - 165s/epoch - 900us/step\n",
      "Epoch 2/3\n",
      "183180/183180 - 165s - loss: 3.5936 - accuracy: 0.3340 - 165s/epoch - 902us/step\n",
      "Epoch 3/3\n",
      "183180/183180 - 165s - loss: 3.5955 - accuracy: 0.3340 - 165s/epoch - 902us/step\n",
      "------------------------------------------------------------------------\n",
      "Score per fold\n",
      "------------------------------------------------------------------------\n",
      "> Fold 1 - Loss: 3.6204488277435303 - Accuracy: 33.37948024272919%\n",
      "------------------------------------------------------------------------\n",
      "> Fold 2 - Loss: 3.964092969894409 - Accuracy: 32.908350229263306%\n",
      "------------------------------------------------------------------------\n",
      "> Fold 3 - Loss: 3.6542396545410156 - Accuracy: 33.431270718574524%\n",
      "------------------------------------------------------------------------\n",
      "> Fold 4 - Loss: 3.631666660308838 - Accuracy: 33.02662372589111%\n",
      "------------------------------------------------------------------------\n",
      "> Fold 5 - Loss: 3.6310949325561523 - Accuracy: 32.89937376976013%\n",
      "------------------------------------------------------------------------\n",
      "> Fold 6 - Loss: 3.4757792949676514 - Accuracy: 33.77220928668976%\n",
      "------------------------------------------------------------------------\n",
      "> Fold 7 - Loss: 3.527104616165161 - Accuracy: 33.83996784687042%\n",
      "------------------------------------------------------------------------\n",
      "> Fold 8 - Loss: 3.632967472076416 - Accuracy: 33.16026329994202%\n",
      "------------------------------------------------------------------------\n",
      "> Fold 9 - Loss: 3.7606143951416016 - Accuracy: 33.41078758239746%\n",
      "------------------------------------------------------------------------\n",
      "> Fold 10 - Loss: 3.575061082839966 - Accuracy: 33.14542770385742%\n",
      "------------------------------------------------------------------------\n",
      "Average scores for all folds:\n",
      "> Accuracy: 33.297375440597534 (+- 0.31342390599953446)\n",
      "> Loss: 3.6473069906234743\n",
      "------------------------------------------------------------------------\n"
     ]
    }
   ],
   "source": [
    "cols = [\"StationEnd\", \"WorkingDay\", \"Hour\", \"Count\", \"Count1\", \"Count1week\", \"Count2week\", \"Count3week\", \"Temp\", \"ATemp\", \"Humidity\"]\n",
    "\n",
    "met1 = dataset[[col for col in dataset.columns if col in cols]]\n",
    "\n",
    "X = met1.drop(columns=[\"Count\"])\n",
    "y = met1[\"Count\"]\n",
    "\n",
    "X = np.reshape(X.values, (X.shape[0], 1, X.shape[1]))\n",
    "\n",
    "# Define the K-fold Cross Validator\n",
    "kfold = GroupKFold(n_splits=10)\n",
    "\n",
    "acc_per_fold = []\n",
    "loss_per_fold = []\n",
    "\n",
    "model_met1 = Sequential()\n",
    "model_met1.add(LSTM(4, input_shape=(1,met1.shape[1]-1)))\n",
    "model_met1.add(Dense(1))\n",
    "model_met1.compile(loss='mean_squared_error', optimizer='adam', metrics=[\"accuracy\"])\n",
    "\n",
    "# K-fold Cross Validation model evaluation\n",
    "for train, test in kfold.split(X, y, dataset[\"Day\"]):\n",
    "    model_met1.fit(X[train], y[train], epochs=epochs, batch_size=batch_size, verbose=verbose)\n",
    "\n",
    "    # Generate generalization metrics\n",
    "    scores = model_met1.evaluate(X[test], y[test], verbose=0)\n",
    "    acc_per_fold.append(scores[1] * 100)\n",
    "    loss_per_fold.append(scores[0])\n",
    "\n",
    "print('------------------------------------------------------------------------')\n",
    "print('Score per fold')\n",
    "for i in range(0, len(acc_per_fold)):\n",
    "    print('------------------------------------------------------------------------')\n",
    "    print(f'> Fold {i+1} - Loss: {loss_per_fold[i]} - Accuracy: {acc_per_fold[i]}%')\n",
    "print('------------------------------------------------------------------------')\n",
    "print('Average scores for all folds:')\n",
    "print(f'> Accuracy: {np.mean(acc_per_fold)} (+- {np.std(acc_per_fold)})')\n",
    "print(f'> Loss: {np.mean(loss_per_fold)}')\n",
    "print('------------------------------------------------------------------------')"
   ]
  },
  {
   "attachments": {},
   "cell_type": "markdown",
   "metadata": {},
   "source": [
    "### Method 4\n",
    "Input: ..., Temp, ATemp, Humidity, WeatherSituation\n",
    "\n",
    "Output: c(t+1)"
   ]
  },
  {
   "cell_type": "code",
   "execution_count": null,
   "metadata": {},
   "outputs": [],
   "source": [
    "dataset = pd.get_dummies(data=dataset, columns=[\"WeatherSituation\"], dtype=int)"
   ]
  },
  {
   "cell_type": "code",
   "execution_count": 22,
   "metadata": {},
   "outputs": [
    {
     "name": "stdout",
     "output_type": "stream",
     "text": [
      "Epoch 1/3\n"
     ]
    },
    {
     "name": "stderr",
     "output_type": "stream",
     "text": [
      "2023-06-09 09:10:44.203251: I tensorflow/core/common_runtime/executor.cc:1197] [/device:CPU:0] (DEBUG INFO) Executor start aborting (this does not indicate an error and you can ignore this message): INVALID_ARGUMENT: You must feed a value for placeholder tensor 'gradients/split_2_grad/concat/split_2/split_dim' with dtype int32\n",
      "\t [[{{node gradients/split_2_grad/concat/split_2/split_dim}}]]\n",
      "2023-06-09 09:10:44.205051: I tensorflow/core/common_runtime/executor.cc:1197] [/device:CPU:0] (DEBUG INFO) Executor start aborting (this does not indicate an error and you can ignore this message): INVALID_ARGUMENT: You must feed a value for placeholder tensor 'gradients/split_grad/concat/split/split_dim' with dtype int32\n",
      "\t [[{{node gradients/split_grad/concat/split/split_dim}}]]\n",
      "2023-06-09 09:10:44.205835: I tensorflow/core/common_runtime/executor.cc:1197] [/device:CPU:0] (DEBUG INFO) Executor start aborting (this does not indicate an error and you can ignore this message): INVALID_ARGUMENT: You must feed a value for placeholder tensor 'gradients/split_1_grad/concat/split_1/split_dim' with dtype int32\n",
      "\t [[{{node gradients/split_1_grad/concat/split_1/split_dim}}]]\n",
      "2023-06-09 09:10:44.399545: I tensorflow/core/common_runtime/executor.cc:1197] [/device:CPU:0] (DEBUG INFO) Executor start aborting (this does not indicate an error and you can ignore this message): INVALID_ARGUMENT: You must feed a value for placeholder tensor 'gradients/split_2_grad/concat/split_2/split_dim' with dtype int32\n",
      "\t [[{{node gradients/split_2_grad/concat/split_2/split_dim}}]]\n",
      "2023-06-09 09:10:44.400358: I tensorflow/core/common_runtime/executor.cc:1197] [/device:CPU:0] (DEBUG INFO) Executor start aborting (this does not indicate an error and you can ignore this message): INVALID_ARGUMENT: You must feed a value for placeholder tensor 'gradients/split_grad/concat/split/split_dim' with dtype int32\n",
      "\t [[{{node gradients/split_grad/concat/split/split_dim}}]]\n",
      "2023-06-09 09:10:44.401058: I tensorflow/core/common_runtime/executor.cc:1197] [/device:CPU:0] (DEBUG INFO) Executor start aborting (this does not indicate an error and you can ignore this message): INVALID_ARGUMENT: You must feed a value for placeholder tensor 'gradients/split_1_grad/concat/split_1/split_dim' with dtype int32\n",
      "\t [[{{node gradients/split_1_grad/concat/split_1/split_dim}}]]\n",
      "2023-06-09 09:10:44.711305: I tensorflow/core/common_runtime/executor.cc:1197] [/device:CPU:0] (DEBUG INFO) Executor start aborting (this does not indicate an error and you can ignore this message): INVALID_ARGUMENT: You must feed a value for placeholder tensor 'gradients/split_2_grad/concat/split_2/split_dim' with dtype int32\n",
      "\t [[{{node gradients/split_2_grad/concat/split_2/split_dim}}]]\n",
      "2023-06-09 09:10:44.712374: I tensorflow/core/common_runtime/executor.cc:1197] [/device:CPU:0] (DEBUG INFO) Executor start aborting (this does not indicate an error and you can ignore this message): INVALID_ARGUMENT: You must feed a value for placeholder tensor 'gradients/split_grad/concat/split/split_dim' with dtype int32\n",
      "\t [[{{node gradients/split_grad/concat/split/split_dim}}]]\n",
      "2023-06-09 09:10:44.713112: I tensorflow/core/common_runtime/executor.cc:1197] [/device:CPU:0] (DEBUG INFO) Executor start aborting (this does not indicate an error and you can ignore this message): INVALID_ARGUMENT: You must feed a value for placeholder tensor 'gradients/split_1_grad/concat/split_1/split_dim' with dtype int32\n",
      "\t [[{{node gradients/split_1_grad/concat/split_1/split_dim}}]]\n"
     ]
    },
    {
     "name": "stdout",
     "output_type": "stream",
     "text": [
      "183178/183178 - 178s - loss: 3.9929 - accuracy: 0.3336 - 178s/epoch - 974us/step\n",
      "Epoch 2/3\n",
      "183178/183178 - 189s - loss: 3.7760 - accuracy: 0.3335 - 189s/epoch - 1ms/step\n",
      "Epoch 3/3\n",
      "183178/183178 - 174s - loss: 3.7089 - accuracy: 0.3332 - 174s/epoch - 952us/step\n"
     ]
    },
    {
     "name": "stderr",
     "output_type": "stream",
     "text": [
      "2023-06-09 09:19:46.087408: I tensorflow/core/common_runtime/executor.cc:1197] [/device:CPU:0] (DEBUG INFO) Executor start aborting (this does not indicate an error and you can ignore this message): INVALID_ARGUMENT: You must feed a value for placeholder tensor 'gradients/split_2_grad/concat/split_2/split_dim' with dtype int32\n",
      "\t [[{{node gradients/split_2_grad/concat/split_2/split_dim}}]]\n",
      "2023-06-09 09:19:46.088883: I tensorflow/core/common_runtime/executor.cc:1197] [/device:CPU:0] (DEBUG INFO) Executor start aborting (this does not indicate an error and you can ignore this message): INVALID_ARGUMENT: You must feed a value for placeholder tensor 'gradients/split_grad/concat/split/split_dim' with dtype int32\n",
      "\t [[{{node gradients/split_grad/concat/split/split_dim}}]]\n",
      "2023-06-09 09:19:46.089734: I tensorflow/core/common_runtime/executor.cc:1197] [/device:CPU:0] (DEBUG INFO) Executor start aborting (this does not indicate an error and you can ignore this message): INVALID_ARGUMENT: You must feed a value for placeholder tensor 'gradients/split_1_grad/concat/split_1/split_dim' with dtype int32\n",
      "\t [[{{node gradients/split_1_grad/concat/split_1/split_dim}}]]\n"
     ]
    },
    {
     "name": "stdout",
     "output_type": "stream",
     "text": [
      "Epoch 1/3\n",
      "183010/183010 - 167s - loss: 3.6548 - accuracy: 0.3332 - 167s/epoch - 915us/step\n",
      "Epoch 2/3\n",
      "183010/183010 - 167s - loss: 3.6285 - accuracy: 0.3332 - 167s/epoch - 915us/step\n",
      "Epoch 3/3\n",
      "183010/183010 - 166s - loss: 3.6154 - accuracy: 0.3333 - 166s/epoch - 909us/step\n",
      "Epoch 1/3\n",
      "182982/182982 - 167s - loss: 3.6211 - accuracy: 0.3330 - 167s/epoch - 911us/step\n",
      "Epoch 2/3\n",
      "182982/182982 - 167s - loss: 3.6117 - accuracy: 0.3331 - 167s/epoch - 911us/step\n",
      "Epoch 3/3\n",
      "182982/182982 - 166s - loss: 3.6050 - accuracy: 0.3332 - 166s/epoch - 908us/step\n",
      "Epoch 1/3\n",
      "182971/182971 - 177s - loss: 3.6041 - accuracy: 0.3335 - 177s/epoch - 968us/step\n",
      "Epoch 2/3\n",
      "182971/182971 - 176s - loss: 3.6016 - accuracy: 0.3336 - 176s/epoch - 959us/step\n",
      "Epoch 3/3\n",
      "182971/182971 - 187s - loss: 3.5998 - accuracy: 0.3337 - 187s/epoch - 1ms/step\n",
      "Epoch 1/3\n",
      "182971/182971 - 174s - loss: 3.5967 - accuracy: 0.3340 - 174s/epoch - 954us/step\n",
      "Epoch 2/3\n",
      "182971/182971 - 171s - loss: 3.5927 - accuracy: 0.3342 - 171s/epoch - 934us/step\n",
      "Epoch 3/3\n",
      "182971/182971 - 166s - loss: 3.5915 - accuracy: 0.3341 - 166s/epoch - 907us/step\n",
      "Epoch 1/3\n",
      "182972/182972 - 168s - loss: 3.6030 - accuracy: 0.3331 - 168s/epoch - 918us/step\n",
      "Epoch 2/3\n",
      "182972/182972 - 168s - loss: 3.5957 - accuracy: 0.3332 - 168s/epoch - 919us/step\n",
      "Epoch 3/3\n",
      "182972/182972 - 168s - loss: 3.5989 - accuracy: 0.3331 - 168s/epoch - 919us/step\n",
      "Epoch 1/3\n",
      "183007/183007 - 167s - loss: 3.5970 - accuracy: 0.3332 - 167s/epoch - 912us/step\n",
      "Epoch 2/3\n",
      "183007/183007 - 166s - loss: 3.5947 - accuracy: 0.3331 - 166s/epoch - 907us/step\n",
      "Epoch 3/3\n",
      "183007/183007 - 165s - loss: 3.5873 - accuracy: 0.3331 - 165s/epoch - 901us/step\n",
      "Epoch 1/3\n",
      "183180/183180 - 163s - loss: 3.5821 - accuracy: 0.3339 - 163s/epoch - 890us/step\n",
      "Epoch 2/3\n",
      "183180/183180 - 163s - loss: 3.5778 - accuracy: 0.3340 - 163s/epoch - 890us/step\n",
      "Epoch 3/3\n",
      "183180/183180 - 163s - loss: 3.5824 - accuracy: 0.3339 - 163s/epoch - 891us/step\n",
      "Epoch 1/3\n",
      "183176/183176 - 173s - loss: 3.5560 - accuracy: 0.3335 - 173s/epoch - 942us/step\n",
      "Epoch 2/3\n",
      "183176/183176 - 178s - loss: 3.5594 - accuracy: 0.3337 - 178s/epoch - 970us/step\n",
      "Epoch 3/3\n",
      "183176/183176 - 186s - loss: 3.5597 - accuracy: 0.3336 - 186s/epoch - 1ms/step\n",
      "Epoch 1/3\n",
      "183180/183180 - 174s - loss: 3.5801 - accuracy: 0.3338 - 174s/epoch - 952us/step\n",
      "Epoch 2/3\n",
      "183180/183180 - 175s - loss: 3.5845 - accuracy: 0.3339 - 175s/epoch - 955us/step\n",
      "Epoch 3/3\n",
      "183180/183180 - 174s - loss: 3.5867 - accuracy: 0.3338 - 174s/epoch - 951us/step\n",
      "------------------------------------------------------------------------\n",
      "Score per fold\n",
      "------------------------------------------------------------------------\n",
      "> Fold 1 - Loss: 3.5960004329681396 - Accuracy: 33.37948024272919%\n",
      "------------------------------------------------------------------------\n",
      "> Fold 2 - Loss: 3.636977434158325 - Accuracy: 33.18295478820801%\n",
      "------------------------------------------------------------------------\n",
      "> Fold 3 - Loss: 3.541996717453003 - Accuracy: 33.46065282821655%\n",
      "------------------------------------------------------------------------\n",
      "> Fold 4 - Loss: 3.543893575668335 - Accuracy: 33.32028090953827%\n",
      "------------------------------------------------------------------------\n",
      "> Fold 5 - Loss: 3.5108251571655273 - Accuracy: 32.948315143585205%\n",
      "------------------------------------------------------------------------\n",
      "> Fold 6 - Loss: 3.5767529010772705 - Accuracy: 33.80157649517059%\n",
      "------------------------------------------------------------------------\n",
      "> Fold 7 - Loss: 3.7516391277313232 - Accuracy: 33.8448703289032%\n",
      "------------------------------------------------------------------------\n",
      "> Fold 8 - Loss: 3.590724468231201 - Accuracy: 33.071255683898926%\n",
      "------------------------------------------------------------------------\n",
      "> Fold 9 - Loss: 3.79655122756958 - Accuracy: 33.400899171829224%\n",
      "------------------------------------------------------------------------\n",
      "> Fold 10 - Loss: 3.5303139686584473 - Accuracy: 33.135539293289185%\n",
      "------------------------------------------------------------------------\n",
      "Average scores for all folds:\n",
      "> Accuracy: 33.354582488536835 (+- 0.27895190977640666)\n",
      "> Loss: 3.6075675010681154\n",
      "------------------------------------------------------------------------\n"
     ]
    }
   ],
   "source": [
    "cols = [\"StationEnd\", \"WorkingDay\", \"Hour\", \"Count\", \"Count1\", \"Count1week\", \"Count2week\", \"Count3week\", \"Temp\", \"ATemp\", \"WeatherSituation_1.0\", \"WeatherSituation_2.0\", \"WeatherSituation_3.0\", \"WeatherSituation_4.0\", \"Humidity\"]\n",
    "\n",
    "met1 = dataset[[col for col in dataset.columns if col in cols]]\n",
    "\n",
    "X = met1.drop(columns=[\"Count\"])\n",
    "y = met1[\"Count\"]\n",
    "\n",
    "X = np.reshape(X.values, (X.shape[0], 1, X.shape[1]))\n",
    "\n",
    "# Define the K-fold Cross Validator\n",
    "kfold = GroupKFold(n_splits=10)\n",
    "\n",
    "acc_per_fold = []\n",
    "loss_per_fold = []\n",
    "\n",
    "model_met1 = Sequential()\n",
    "model_met1.add(LSTM(4, input_shape=(1,met1.shape[1]-1)))\n",
    "model_met1.add(Dense(1))\n",
    "model_met1.compile(loss='mean_squared_error', optimizer='adam', metrics=[\"accuracy\"])\n",
    "\n",
    "# K-fold Cross Validation model evaluation\n",
    "for train, test in kfold.split(X, y, dataset[\"Day\"]):\n",
    "    model_met1.fit(X[train], y[train], epochs=epochs, batch_size=batch_size, verbose=verbose)\n",
    "\n",
    "    # Generate generalization metrics\n",
    "    scores = model_met1.evaluate(X[test], y[test], verbose=0)\n",
    "    acc_per_fold.append(scores[1] * 100)\n",
    "    loss_per_fold.append(scores[0])\n",
    "\n",
    "print('------------------------------------------------------------------------')\n",
    "print('Score per fold')\n",
    "for i in range(0, len(acc_per_fold)):\n",
    "    print('------------------------------------------------------------------------')\n",
    "    print(f'> Fold {i+1} - Loss: {loss_per_fold[i]} - Accuracy: {acc_per_fold[i]}%')\n",
    "print('------------------------------------------------------------------------')\n",
    "print('Average scores for all folds:')\n",
    "print(f'> Accuracy: {np.mean(acc_per_fold)} (+- {np.std(acc_per_fold)})')\n",
    "print(f'> Loss: {np.mean(loss_per_fold)}')\n",
    "print('------------------------------------------------------------------------')"
   ]
  },
  {
   "attachments": {},
   "cell_type": "markdown",
   "metadata": {},
   "source": [
    "### Method 5\n",
    "Input: ..., Temp, ATemp, Humidity, WeatherSituation, Windspeed\n",
    "\n",
    "Output: c(t+1)"
   ]
  },
  {
   "cell_type": "code",
   "execution_count": 23,
   "metadata": {},
   "outputs": [
    {
     "name": "stdout",
     "output_type": "stream",
     "text": [
      "Epoch 1/3\n"
     ]
    },
    {
     "name": "stderr",
     "output_type": "stream",
     "text": [
      "2023-06-09 10:36:34.315882: I tensorflow/core/common_runtime/executor.cc:1197] [/device:CPU:0] (DEBUG INFO) Executor start aborting (this does not indicate an error and you can ignore this message): INVALID_ARGUMENT: You must feed a value for placeholder tensor 'gradients/split_2_grad/concat/split_2/split_dim' with dtype int32\n",
      "\t [[{{node gradients/split_2_grad/concat/split_2/split_dim}}]]\n",
      "2023-06-09 10:36:34.317220: I tensorflow/core/common_runtime/executor.cc:1197] [/device:CPU:0] (DEBUG INFO) Executor start aborting (this does not indicate an error and you can ignore this message): INVALID_ARGUMENT: You must feed a value for placeholder tensor 'gradients/split_grad/concat/split/split_dim' with dtype int32\n",
      "\t [[{{node gradients/split_grad/concat/split/split_dim}}]]\n",
      "2023-06-09 10:36:34.318096: I tensorflow/core/common_runtime/executor.cc:1197] [/device:CPU:0] (DEBUG INFO) Executor start aborting (this does not indicate an error and you can ignore this message): INVALID_ARGUMENT: You must feed a value for placeholder tensor 'gradients/split_1_grad/concat/split_1/split_dim' with dtype int32\n",
      "\t [[{{node gradients/split_1_grad/concat/split_1/split_dim}}]]\n",
      "2023-06-09 10:36:34.588252: I tensorflow/core/common_runtime/executor.cc:1197] [/device:CPU:0] (DEBUG INFO) Executor start aborting (this does not indicate an error and you can ignore this message): INVALID_ARGUMENT: You must feed a value for placeholder tensor 'gradients/split_2_grad/concat/split_2/split_dim' with dtype int32\n",
      "\t [[{{node gradients/split_2_grad/concat/split_2/split_dim}}]]\n",
      "2023-06-09 10:36:34.589669: I tensorflow/core/common_runtime/executor.cc:1197] [/device:CPU:0] (DEBUG INFO) Executor start aborting (this does not indicate an error and you can ignore this message): INVALID_ARGUMENT: You must feed a value for placeholder tensor 'gradients/split_grad/concat/split/split_dim' with dtype int32\n",
      "\t [[{{node gradients/split_grad/concat/split/split_dim}}]]\n",
      "2023-06-09 10:36:34.590636: I tensorflow/core/common_runtime/executor.cc:1197] [/device:CPU:0] (DEBUG INFO) Executor start aborting (this does not indicate an error and you can ignore this message): INVALID_ARGUMENT: You must feed a value for placeholder tensor 'gradients/split_1_grad/concat/split_1/split_dim' with dtype int32\n",
      "\t [[{{node gradients/split_1_grad/concat/split_1/split_dim}}]]\n",
      "2023-06-09 10:36:35.012828: I tensorflow/core/common_runtime/executor.cc:1197] [/device:CPU:0] (DEBUG INFO) Executor start aborting (this does not indicate an error and you can ignore this message): INVALID_ARGUMENT: You must feed a value for placeholder tensor 'gradients/split_2_grad/concat/split_2/split_dim' with dtype int32\n",
      "\t [[{{node gradients/split_2_grad/concat/split_2/split_dim}}]]\n",
      "2023-06-09 10:36:35.014085: I tensorflow/core/common_runtime/executor.cc:1197] [/device:CPU:0] (DEBUG INFO) Executor start aborting (this does not indicate an error and you can ignore this message): INVALID_ARGUMENT: You must feed a value for placeholder tensor 'gradients/split_grad/concat/split/split_dim' with dtype int32\n",
      "\t [[{{node gradients/split_grad/concat/split/split_dim}}]]\n",
      "2023-06-09 10:36:35.015273: I tensorflow/core/common_runtime/executor.cc:1197] [/device:CPU:0] (DEBUG INFO) Executor start aborting (this does not indicate an error and you can ignore this message): INVALID_ARGUMENT: You must feed a value for placeholder tensor 'gradients/split_1_grad/concat/split_1/split_dim' with dtype int32\n",
      "\t [[{{node gradients/split_1_grad/concat/split_1/split_dim}}]]\n"
     ]
    },
    {
     "name": "stdout",
     "output_type": "stream",
     "text": [
      "183178/183178 - 169s - loss: 3.9868 - accuracy: 0.3337 - 169s/epoch - 923us/step\n",
      "Epoch 2/3\n",
      "183178/183178 - 159s - loss: 3.8030 - accuracy: 0.3338 - 159s/epoch - 867us/step\n",
      "Epoch 3/3\n",
      "183178/183178 - 159s - loss: 3.7753 - accuracy: 0.3336 - 159s/epoch - 867us/step\n"
     ]
    },
    {
     "name": "stderr",
     "output_type": "stream",
     "text": [
      "2023-06-09 10:44:41.300825: I tensorflow/core/common_runtime/executor.cc:1197] [/device:CPU:0] (DEBUG INFO) Executor start aborting (this does not indicate an error and you can ignore this message): INVALID_ARGUMENT: You must feed a value for placeholder tensor 'gradients/split_2_grad/concat/split_2/split_dim' with dtype int32\n",
      "\t [[{{node gradients/split_2_grad/concat/split_2/split_dim}}]]\n",
      "2023-06-09 10:44:41.302004: I tensorflow/core/common_runtime/executor.cc:1197] [/device:CPU:0] (DEBUG INFO) Executor start aborting (this does not indicate an error and you can ignore this message): INVALID_ARGUMENT: You must feed a value for placeholder tensor 'gradients/split_grad/concat/split/split_dim' with dtype int32\n",
      "\t [[{{node gradients/split_grad/concat/split/split_dim}}]]\n",
      "2023-06-09 10:44:41.302822: I tensorflow/core/common_runtime/executor.cc:1197] [/device:CPU:0] (DEBUG INFO) Executor start aborting (this does not indicate an error and you can ignore this message): INVALID_ARGUMENT: You must feed a value for placeholder tensor 'gradients/split_1_grad/concat/split_1/split_dim' with dtype int32\n",
      "\t [[{{node gradients/split_1_grad/concat/split_1/split_dim}}]]\n"
     ]
    },
    {
     "name": "stdout",
     "output_type": "stream",
     "text": [
      "Epoch 1/3\n",
      "183010/183010 - 166s - loss: 3.7378 - accuracy: 0.3336 - 166s/epoch - 906us/step\n",
      "Epoch 2/3\n",
      "183010/183010 - 166s - loss: 3.7305 - accuracy: 0.3337 - 166s/epoch - 908us/step\n",
      "Epoch 3/3\n",
      "183010/183010 - 164s - loss: 3.7298 - accuracy: 0.3338 - 164s/epoch - 896us/step\n",
      "Epoch 1/3\n",
      "182982/182982 - 158s - loss: 3.7379 - accuracy: 0.3337 - 158s/epoch - 865us/step\n",
      "Epoch 2/3\n",
      "182982/182982 - 158s - loss: 3.7308 - accuracy: 0.3338 - 158s/epoch - 866us/step\n",
      "Epoch 3/3\n",
      "182982/182982 - 159s - loss: 3.7301 - accuracy: 0.3337 - 159s/epoch - 870us/step\n",
      "Epoch 1/3\n",
      "182971/182971 - 163s - loss: 3.7264 - accuracy: 0.3339 - 163s/epoch - 890us/step\n",
      "Epoch 2/3\n",
      "182971/182971 - 153s - loss: 3.7288 - accuracy: 0.3339 - 153s/epoch - 834us/step\n",
      "Epoch 3/3\n",
      "182971/182971 - 160s - loss: 3.7256 - accuracy: 0.3339 - 160s/epoch - 872us/step\n",
      "Epoch 1/3\n",
      "182971/182971 - 173s - loss: 3.7234 - accuracy: 0.3343 - 173s/epoch - 944us/step\n",
      "Epoch 2/3\n",
      "182971/182971 - 171s - loss: 3.7269 - accuracy: 0.3342 - 171s/epoch - 933us/step\n",
      "Epoch 3/3\n",
      "182971/182971 - 165s - loss: 3.7251 - accuracy: 0.3341 - 165s/epoch - 900us/step\n",
      "Epoch 1/3\n",
      "182972/182972 - 167s - loss: 3.7334 - accuracy: 0.3332 - 167s/epoch - 914us/step\n",
      "Epoch 2/3\n",
      "182972/182972 - 174s - loss: 3.7377 - accuracy: 0.3333 - 174s/epoch - 953us/step\n",
      "Epoch 3/3\n",
      "182972/182972 - 161s - loss: 3.7359 - accuracy: 0.3333 - 161s/epoch - 879us/step\n",
      "Epoch 1/3\n",
      "183007/183007 - 168s - loss: 3.7311 - accuracy: 0.3332 - 168s/epoch - 918us/step\n",
      "Epoch 2/3\n",
      "183007/183007 - 173s - loss: 3.7308 - accuracy: 0.3332 - 173s/epoch - 945us/step\n",
      "Epoch 3/3\n",
      "183007/183007 - 174s - loss: 3.7299 - accuracy: 0.3332 - 174s/epoch - 951us/step\n",
      "Epoch 1/3\n",
      "183180/183180 - 160s - loss: 3.7175 - accuracy: 0.3339 - 160s/epoch - 871us/step\n",
      "Epoch 2/3\n",
      "183180/183180 - 153s - loss: 3.7172 - accuracy: 0.3338 - 153s/epoch - 833us/step\n",
      "Epoch 3/3\n",
      "183180/183180 - 153s - loss: 3.7134 - accuracy: 0.3337 - 153s/epoch - 836us/step\n",
      "Epoch 1/3\n",
      "183176/183176 - 162s - loss: 3.6910 - accuracy: 0.3336 - 162s/epoch - 884us/step\n",
      "Epoch 2/3\n",
      "183176/183176 - 162s - loss: 3.6919 - accuracy: 0.3335 - 162s/epoch - 882us/step\n",
      "Epoch 3/3\n",
      "183176/183176 - 162s - loss: 3.6931 - accuracy: 0.3336 - 162s/epoch - 882us/step\n",
      "Epoch 1/3\n",
      "183180/183180 - 163s - loss: 3.7155 - accuracy: 0.3338 - 163s/epoch - 888us/step\n",
      "Epoch 2/3\n",
      "183180/183180 - 160s - loss: 3.7164 - accuracy: 0.3339 - 160s/epoch - 872us/step\n",
      "Epoch 3/3\n",
      "183180/183180 - 163s - loss: 3.7224 - accuracy: 0.3338 - 163s/epoch - 892us/step\n",
      "------------------------------------------------------------------------\n",
      "Score per fold\n",
      "------------------------------------------------------------------------\n",
      "> Fold 1 - Loss: 3.663987874984741 - Accuracy: 33.33498239517212%\n",
      "------------------------------------------------------------------------\n",
      "> Fold 2 - Loss: 3.7853994369506836 - Accuracy: 33.271220326423645%\n",
      "------------------------------------------------------------------------\n",
      "> Fold 3 - Loss: 3.697601795196533 - Accuracy: 33.44106674194336%\n",
      "------------------------------------------------------------------------\n",
      "> Fold 4 - Loss: 3.7457921504974365 - Accuracy: 33.35943520069122%\n",
      "------------------------------------------------------------------------\n",
      "> Fold 5 - Loss: 3.647047281265259 - Accuracy: 32.948315143585205%\n",
      "------------------------------------------------------------------------\n",
      "> Fold 6 - Loss: 3.549590587615967 - Accuracy: 33.786892890930176%\n",
      "------------------------------------------------------------------------\n",
      "> Fold 7 - Loss: 3.6841683387756348 - Accuracy: 33.83506536483765%\n",
      "------------------------------------------------------------------------\n",
      "> Fold 8 - Loss: 3.7412326335906982 - Accuracy: 33.1404834985733%\n",
      "------------------------------------------------------------------------\n",
      "> Fold 9 - Loss: 3.9664089679718018 - Accuracy: 33.4206759929657%\n",
      "------------------------------------------------------------------------\n",
      "> Fold 10 - Loss: 3.9818365573883057 - Accuracy: 33.1404834985733%\n",
      "------------------------------------------------------------------------\n",
      "Average scores for all folds:\n",
      "> Accuracy: 33.36786210536957 (+- 0.26304511908543815)\n",
      "> Loss: 3.746306562423706\n",
      "------------------------------------------------------------------------\n"
     ]
    }
   ],
   "source": [
    "cols = [\"StationEnd\", \"WorkingDay\", \"Hour\", \"Count\", \"Count1\", \"Count1week\", \"Count2week\", \"Count3week\", \"Temp\", \"ATemp\", \"WeatherSituation_1.0\", \"WeatherSituation_2.0\", \"WeatherSituation_3.0\", \"WeatherSituation_4.0\", \"Humidity\", \"Windspeed\"]\n",
    "\n",
    "met1 = dataset[[col for col in dataset.columns if col in cols]]\n",
    "\n",
    "X = met1.drop(columns=[\"Count\"])\n",
    "y = met1[\"Count\"]\n",
    "\n",
    "X = np.reshape(X.values, (X.shape[0], 1, X.shape[1]))\n",
    "\n",
    "# Define the K-fold Cross Validator\n",
    "kfold = GroupKFold(n_splits=10)\n",
    "\n",
    "acc_per_fold = []\n",
    "loss_per_fold = []\n",
    "\n",
    "model_met1 = Sequential()\n",
    "model_met1.add(LSTM(4, input_shape=(1,met1.shape[1]-1)))\n",
    "model_met1.add(Dense(1))\n",
    "model_met1.compile(loss='mean_squared_error', optimizer='adam', metrics=[\"accuracy\"])\n",
    "\n",
    "# K-fold Cross Validation model evaluation\n",
    "for train, test in kfold.split(X, y, dataset[\"Day\"]):\n",
    "    model_met1.fit(X[train], y[train], epochs=epochs, batch_size=batch_size, verbose=verbose)\n",
    "\n",
    "    # Generate generalization metrics\n",
    "    scores = model_met1.evaluate(X[test], y[test], verbose=0)\n",
    "    acc_per_fold.append(scores[1] * 100)\n",
    "    loss_per_fold.append(scores[0])\n",
    "\n",
    "print('------------------------------------------------------------------------')\n",
    "print('Score per fold')\n",
    "for i in range(0, len(acc_per_fold)):\n",
    "    print('------------------------------------------------------------------------')\n",
    "    print(f'> Fold {i+1} - Loss: {loss_per_fold[i]} - Accuracy: {acc_per_fold[i]}%')\n",
    "print('------------------------------------------------------------------------')\n",
    "print('Average scores for all folds:')\n",
    "print(f'> Accuracy: {np.mean(acc_per_fold)} (+- {np.std(acc_per_fold)})')\n",
    "print(f'> Loss: {np.mean(loss_per_fold)}')\n",
    "print('------------------------------------------------------------------------')"
   ]
  },
  {
   "attachments": {},
   "cell_type": "markdown",
   "metadata": {},
   "source": [
    "## Graphs"
   ]
  },
  {
   "cell_type": "code",
   "execution_count": 25,
   "metadata": {},
   "outputs": [
    {
     "data": {
      "text/plain": [
       "Text(0.5, 0, 'Methods')"
      ]
     },
     "execution_count": 25,
     "metadata": {},
     "output_type": "execute_result"
    },
    {
     "data": {
      "image/png": "[encoded data removed]",
      "text/plain": [
       "<Figure size 640x480 with 1 Axes>"
      ]
     },
     "metadata": {},
     "output_type": "display_data"
    }
   ],
   "source": [
    "plt.plot(list(range(1,len(MSE)+1)), MSE, marker=\"o\")\n",
    "plt.title(\"Mean Squared Error by method\")\n",
    "plt.xlabel(\"Methods\")"
   ]
  },
  {
   "cell_type": "code",
   "execution_count": 26,
   "metadata": {},
   "outputs": [
    {
     "data": {
      "text/plain": [
       "Text(0.5, 0, 'Methods')"
      ]
     },
     "execution_count": 26,
     "metadata": {},
     "output_type": "execute_result"
    },
    {
     "data": {
      "image/png": "[encoded data removed]",
      "text/plain": [
       "<Figure size 640x480 with 1 Axes>"
      ]
     },
     "metadata": {},
     "output_type": "display_data"
    }
   ],
   "source": [
    "plt.plot([\"Regression\", \"LSTM\", \"Best Method\"], [3.9876557741635343, 3.7118978261947633, 3.5943119287490846], marker=\"o\")\n",
    "plt.title(\"Mean Squared Error - Comparison\")\n",
    "plt.xlabel(\"Methods\")"
   ]
  }
 ],
 "metadata": {
  "kernelspec": {
   "display_name": "base",
   "language": "python",
   "name": "python3"
  },
  "language_info": {
   "codemirror_mode": {
    "name": "ipython",
    "version": 3
   },
   "file_extension": ".py",
   "mimetype": "text/x-python",
   "name": "python",
   "nbconvert_exporter": "python",
   "pygments_lexer": "ipython3",
   "version": "3.8.10"
  },
  "orig_nbformat": 4
 },
 "nbformat": 4,
 "nbformat_minor": 2
}
