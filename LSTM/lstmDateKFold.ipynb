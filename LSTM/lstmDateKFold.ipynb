{
 "cells": [
  {
   "attachments": {},
   "cell_type": "markdown",
   "metadata": {},
   "source": [
    "# LSTM Modelling "
   ]
  },
  {
   "cell_type": "code",
   "execution_count": 16,
   "metadata": {},
   "outputs": [],
   "source": [
    "import numpy as np\n",
    "import pandas as pd\n",
    "import random\n",
    "from datetime import datetime\n",
    "import matplotlib.pyplot as plt\n",
    "from pprint import pprint\n",
    "\n",
    "from sklearn.feature_selection import SelectKBest\n",
    "from sklearn.feature_selection import f_regression\n",
    "from sklearn.preprocessing import MinMaxScaler\n",
    "from sklearn.metrics import mean_absolute_error\n",
    "\n",
    "from tensorflow.keras.models import Sequential\n",
    "from tensorflow.keras.layers import Dense\n",
    "from tensorflow.keras.layers import LSTM\n",
    "from sklearn.model_selection import GroupKFold\n",
    "\n",
    "import warnings\n",
    "warnings.filterwarnings(\"ignore\")"
   ]
  },
  {
   "attachments": {},
   "cell_type": "markdown",
   "metadata": {},
   "source": [
    "## Data Refactor"
   ]
  },
  {
   "cell_type": "code",
   "execution_count": 17,
   "metadata": {},
   "outputs": [],
   "source": [
    "dataset = pd.read_csv(\"../DateDatasets/dataset.csv\").drop(columns=[\"Unnamed: 0\"])"
   ]
  },
  {
   "cell_type": "code",
   "execution_count": 18,
   "metadata": {},
   "outputs": [],
   "source": [
    "trips = pd.read_csv(\"../CSVFiles/datatrips.csv\").drop(columns=[\"Unnamed: 0\"])\n",
    "\n",
    "day = []\n",
    "year = []\n",
    "for trip in trips.values:\n",
    "    date = datetime.strptime(trip[0], \"%Y-%m-%d %H:%M:%S\").timetuple()\n",
    "    day.append(date.tm_yday)\n",
    "    year.append(date.tm_year)\n",
    "\n",
    "trips = trips.drop(columns=[\"DateEnd\"])\n",
    "trips[\"Day\"] = day\n",
    "trips[\"Year\"] = year"
   ]
  },
  {
   "cell_type": "code",
   "execution_count": 19,
   "metadata": {},
   "outputs": [],
   "source": [
    "new_data = pd.DataFrame({\"Holiday\": [], \"Weekday\": [], \"WeatherSituation\": [], \"Temp\": [], \"ATemp\": [], \"Humidity\": [], \"Windspeed\": []})\n",
    "\n",
    "for data in dataset.values:\n",
    "    hour = data[0]\n",
    "    station = data[1]\n",
    "    day = data[3]\n",
    "    year = data[4]\n",
    "\n",
    "    df = trips.loc[(trips[\"StationEnd\"] == station) & (trips[\"Day\"] == day) & (trips[\"Year\"] == year) & (trips[\"Hour\"] == hour)].values[0][6:-1]\n",
    "    new_data.loc[len(new_data)] = np.delete(df, 2)\n",
    "\n",
    "dataset = dataset.join(new_data)"
   ]
  },
  {
   "cell_type": "code",
   "execution_count": 20,
   "metadata": {},
   "outputs": [],
   "source": [
    "dataset.to_csv(\"../DateDatasets/dataset.csv\")"
   ]
  },
  {
   "attachments": {},
   "cell_type": "markdown",
   "metadata": {},
   "source": [
    "## Correlation Features"
   ]
  },
  {
   "cell_type": "code",
   "execution_count": 21,
   "metadata": {},
   "outputs": [
    {
     "name": "stdout",
     "output_type": "stream",
     "text": [
      "[('Temp', 10436.527125289169),\n",
      " ('ATemp', 10280.850373783074),\n",
      " ('Year', 7092.1562101395475),\n",
      " ('Humidity', 4553.546738421971),\n",
      " ('Hour', 2521.675519475486),\n",
      " ('WeatherSituation', 1577.7531873242183),\n",
      " ('Day', 1020.0092383643951),\n",
      " ('StationEnd', 221.11531013433412),\n",
      " ('Windspeed', 189.9517425616836),\n",
      " ('Holiday', 56.248513129294146),\n",
      " ('Weekday', 47.644297362870226),\n",
      " ('WorkingDay', 39.98836012369895)]\n"
     ]
    }
   ],
   "source": [
    "def featureSelect_dataframe(X, y, criteria, k):\n",
    "\n",
    "    # initialize our function/method\n",
    "    reg = SelectKBest(criteria, k=k).fit(X,y)\n",
    "    \n",
    "    # transform after creating the reg (so we can use getsupport)\n",
    "    X_transformed = reg.transform(X)\n",
    "\n",
    "    # filter down X based on kept columns\n",
    "    X = X[[val for i,val in enumerate(X.columns) if reg.get_support()[i]]]\n",
    "\n",
    "    # return that dataframe\n",
    "    return X, reg.scores_\n",
    "\n",
    "X = dataset[[col for col in dataset.columns if \"Count\" not in col]]\n",
    "y = dataset['Count']\n",
    "\n",
    "new_x_data = []\n",
    "\n",
    "# F-value between label/feature for regression tasks.\n",
    "New_X, scoresX = featureSelect_dataframe(X, y, f_regression, 11)\n",
    "new_x_data_1 = {list(X.columns)[x]:scoresX[x] for x in range(0,len(list(X.columns)))}\n",
    "pprint(sorted(new_x_data_1.items(), key=lambda x:x[1], reverse=True))"
   ]
  },
  {
   "attachments": {},
   "cell_type": "markdown",
   "metadata": {},
   "source": [
    "## LSTM"
   ]
  },
  {
   "cell_type": "code",
   "execution_count": 40,
   "metadata": {},
   "outputs": [],
   "source": [
    "epochs = 3\n",
    "batch_size = 1\n",
    "verbose = 2\n",
    "\n",
    "MSE = [1.3783450722694397, 1.3512973546981812, 1.3557748436927795, 1.3466290950775146, 1.349846351146698]"
   ]
  },
  {
   "attachments": {},
   "cell_type": "markdown",
   "metadata": {},
   "source": [
    "### Method 0\n",
    "Input: c(t), StationEnd\n",
    "\n",
    "Output: c(t+1)"
   ]
  },
  {
   "cell_type": "code",
   "execution_count": 23,
   "metadata": {},
   "outputs": [
    {
     "name": "stdout",
     "output_type": "stream",
     "text": [
      "Epoch 1/3\n"
     ]
    },
    {
     "name": "stderr",
     "output_type": "stream",
     "text": [
      "2023-06-30 17:39:46.259865: I tensorflow/core/common_runtime/executor.cc:1197] [/device:CPU:0] (DEBUG INFO) Executor start aborting (this does not indicate an error and you can ignore this message): INVALID_ARGUMENT: You must feed a value for placeholder tensor 'gradients/split_2_grad/concat/split_2/split_dim' with dtype int32\n",
      "\t [[{{node gradients/split_2_grad/concat/split_2/split_dim}}]]\n",
      "2023-06-30 17:39:46.261611: I tensorflow/core/common_runtime/executor.cc:1197] [/device:CPU:0] (DEBUG INFO) Executor start aborting (this does not indicate an error and you can ignore this message): INVALID_ARGUMENT: You must feed a value for placeholder tensor 'gradients/split_grad/concat/split/split_dim' with dtype int32\n",
      "\t [[{{node gradients/split_grad/concat/split/split_dim}}]]\n",
      "2023-06-30 17:39:46.263243: I tensorflow/core/common_runtime/executor.cc:1197] [/device:CPU:0] (DEBUG INFO) Executor start aborting (this does not indicate an error and you can ignore this message): INVALID_ARGUMENT: You must feed a value for placeholder tensor 'gradients/split_1_grad/concat/split_1/split_dim' with dtype int32\n",
      "\t [[{{node gradients/split_1_grad/concat/split_1/split_dim}}]]\n",
      "2023-06-30 17:39:46.518443: I tensorflow/core/common_runtime/executor.cc:1197] [/device:CPU:0] (DEBUG INFO) Executor start aborting (this does not indicate an error and you can ignore this message): INVALID_ARGUMENT: You must feed a value for placeholder tensor 'gradients/split_2_grad/concat/split_2/split_dim' with dtype int32\n",
      "\t [[{{node gradients/split_2_grad/concat/split_2/split_dim}}]]\n",
      "2023-06-30 17:39:46.520380: I tensorflow/core/common_runtime/executor.cc:1197] [/device:CPU:0] (DEBUG INFO) Executor start aborting (this does not indicate an error and you can ignore this message): INVALID_ARGUMENT: You must feed a value for placeholder tensor 'gradients/split_grad/concat/split/split_dim' with dtype int32\n",
      "\t [[{{node gradients/split_grad/concat/split/split_dim}}]]\n",
      "2023-06-30 17:39:46.522030: I tensorflow/core/common_runtime/executor.cc:1197] [/device:CPU:0] (DEBUG INFO) Executor start aborting (this does not indicate an error and you can ignore this message): INVALID_ARGUMENT: You must feed a value for placeholder tensor 'gradients/split_1_grad/concat/split_1/split_dim' with dtype int32\n",
      "\t [[{{node gradients/split_1_grad/concat/split_1/split_dim}}]]\n",
      "2023-06-30 17:39:46.994076: I tensorflow/core/common_runtime/executor.cc:1197] [/device:CPU:0] (DEBUG INFO) Executor start aborting (this does not indicate an error and you can ignore this message): INVALID_ARGUMENT: You must feed a value for placeholder tensor 'gradients/split_2_grad/concat/split_2/split_dim' with dtype int32\n",
      "\t [[{{node gradients/split_2_grad/concat/split_2/split_dim}}]]\n",
      "2023-06-30 17:39:46.996435: I tensorflow/core/common_runtime/executor.cc:1197] [/device:CPU:0] (DEBUG INFO) Executor start aborting (this does not indicate an error and you can ignore this message): INVALID_ARGUMENT: You must feed a value for placeholder tensor 'gradients/split_grad/concat/split/split_dim' with dtype int32\n",
      "\t [[{{node gradients/split_grad/concat/split/split_dim}}]]\n",
      "2023-06-30 17:39:46.997971: I tensorflow/core/common_runtime/executor.cc:1197] [/device:CPU:0] (DEBUG INFO) Executor start aborting (this does not indicate an error and you can ignore this message): INVALID_ARGUMENT: You must feed a value for placeholder tensor 'gradients/split_1_grad/concat/split_1/split_dim' with dtype int32\n",
      "\t [[{{node gradients/split_1_grad/concat/split_1/split_dim}}]]\n"
     ]
    },
    {
     "name": "stdout",
     "output_type": "stream",
     "text": [
      "190913/190913 - 168s - loss: 1.4562 - accuracy: 0.3448 - 168s/epoch - 879us/step\n",
      "Epoch 2/3\n",
      "190913/190913 - 156s - loss: 1.4287 - accuracy: 0.3449 - 156s/epoch - 819us/step\n",
      "Epoch 3/3\n",
      "190913/190913 - 156s - loss: 1.4194 - accuracy: 0.3447 - 156s/epoch - 820us/step\n"
     ]
    },
    {
     "name": "stderr",
     "output_type": "stream",
     "text": [
      "2023-06-30 17:47:47.189157: I tensorflow/core/common_runtime/executor.cc:1197] [/device:CPU:0] (DEBUG INFO) Executor start aborting (this does not indicate an error and you can ignore this message): INVALID_ARGUMENT: You must feed a value for placeholder tensor 'gradients/split_2_grad/concat/split_2/split_dim' with dtype int32\n",
      "\t [[{{node gradients/split_2_grad/concat/split_2/split_dim}}]]\n",
      "2023-06-30 17:47:47.190205: I tensorflow/core/common_runtime/executor.cc:1197] [/device:CPU:0] (DEBUG INFO) Executor start aborting (this does not indicate an error and you can ignore this message): INVALID_ARGUMENT: You must feed a value for placeholder tensor 'gradients/split_grad/concat/split/split_dim' with dtype int32\n",
      "\t [[{{node gradients/split_grad/concat/split/split_dim}}]]\n",
      "2023-06-30 17:47:47.191247: I tensorflow/core/common_runtime/executor.cc:1197] [/device:CPU:0] (DEBUG INFO) Executor start aborting (this does not indicate an error and you can ignore this message): INVALID_ARGUMENT: You must feed a value for placeholder tensor 'gradients/split_1_grad/concat/split_1/split_dim' with dtype int32\n",
      "\t [[{{node gradients/split_1_grad/concat/split_1/split_dim}}]]\n"
     ]
    },
    {
     "name": "stdout",
     "output_type": "stream",
     "text": [
      "Epoch 1/3\n",
      "190911/190911 - 156s - loss: 1.4121 - accuracy: 0.3454 - 156s/epoch - 818us/step\n",
      "Epoch 2/3\n",
      "190911/190911 - 156s - loss: 1.4087 - accuracy: 0.3456 - 156s/epoch - 817us/step\n",
      "Epoch 3/3\n",
      "190911/190911 - 156s - loss: 1.4066 - accuracy: 0.3456 - 156s/epoch - 817us/step\n",
      "Epoch 1/3\n",
      "190601/190601 - 156s - loss: 1.4119 - accuracy: 0.3444 - 156s/epoch - 817us/step\n",
      "Epoch 2/3\n",
      "190601/190601 - 156s - loss: 1.4112 - accuracy: 0.3443 - 156s/epoch - 818us/step\n",
      "Epoch 3/3\n",
      "190601/190601 - 156s - loss: 1.4099 - accuracy: 0.3443 - 156s/epoch - 821us/step\n",
      "Epoch 1/3\n",
      "190628/190628 - 156s - loss: 1.4066 - accuracy: 0.3445 - 156s/epoch - 819us/step\n",
      "Epoch 2/3\n",
      "190628/190628 - 157s - loss: 1.4060 - accuracy: 0.3445 - 157s/epoch - 825us/step\n",
      "Epoch 3/3\n",
      "190628/190628 - 156s - loss: 1.4054 - accuracy: 0.3445 - 156s/epoch - 819us/step\n",
      "Epoch 1/3\n",
      "190698/190698 - 156s - loss: 1.4032 - accuracy: 0.3446 - 156s/epoch - 816us/step\n",
      "Epoch 2/3\n",
      "190698/190698 - 156s - loss: 1.4024 - accuracy: 0.3446 - 156s/epoch - 817us/step\n",
      "Epoch 3/3\n",
      "190698/190698 - 156s - loss: 1.4020 - accuracy: 0.3447 - 156s/epoch - 816us/step\n",
      "Epoch 1/3\n",
      "190914/190914 - 156s - loss: 1.3989 - accuracy: 0.3454 - 156s/epoch - 815us/step\n",
      "Epoch 2/3\n",
      "190914/190914 - 156s - loss: 1.3980 - accuracy: 0.3455 - 156s/epoch - 816us/step\n",
      "Epoch 3/3\n",
      "190914/190914 - 156s - loss: 1.3960 - accuracy: 0.3455 - 156s/epoch - 816us/step\n",
      "Epoch 1/3\n",
      "190616/190616 - 155s - loss: 1.3949 - accuracy: 0.3447 - 155s/epoch - 814us/step\n",
      "Epoch 2/3\n",
      "190616/190616 - 156s - loss: 1.3942 - accuracy: 0.3447 - 156s/epoch - 819us/step\n",
      "Epoch 3/3\n",
      "190616/190616 - 157s - loss: 1.3924 - accuracy: 0.3447 - 157s/epoch - 823us/step\n",
      "Epoch 1/3\n",
      "190664/190664 - 156s - loss: 1.3902 - accuracy: 0.3449 - 156s/epoch - 818us/step\n",
      "Epoch 2/3\n",
      "190664/190664 - 156s - loss: 1.3887 - accuracy: 0.3449 - 156s/epoch - 819us/step\n",
      "Epoch 3/3\n",
      "190664/190664 - 156s - loss: 1.3879 - accuracy: 0.3449 - 156s/epoch - 818us/step\n",
      "Epoch 1/3\n",
      "190699/190699 - 156s - loss: 1.3916 - accuracy: 0.3440 - 156s/epoch - 818us/step\n",
      "Epoch 2/3\n",
      "190699/190699 - 156s - loss: 1.3909 - accuracy: 0.3440 - 156s/epoch - 820us/step\n",
      "Epoch 3/3\n",
      "190699/190699 - 156s - loss: 1.3894 - accuracy: 0.3440 - 156s/epoch - 819us/step\n",
      "Epoch 1/3\n",
      "190915/190915 - 156s - loss: 1.3853 - accuracy: 0.3456 - 156s/epoch - 818us/step\n",
      "Epoch 2/3\n",
      "190915/190915 - 157s - loss: 1.3845 - accuracy: 0.3456 - 157s/epoch - 820us/step\n",
      "Epoch 3/3\n",
      "190915/190915 - 156s - loss: 1.3845 - accuracy: 0.3456 - 156s/epoch - 818us/step\n",
      "------------------------------------------------------------------------\n",
      "Score per fold\n",
      "------------------------------------------------------------------------\n",
      "> Fold 1 - Loss: 1.4059258699417114 - Accuracy: 34.48997139930725%\n",
      "------------------------------------------------------------------------\n",
      "> Fold 2 - Loss: 1.4230746030807495 - Accuracy: 33.716729283332825%\n",
      "------------------------------------------------------------------------\n",
      "> Fold 3 - Loss: 1.3600893020629883 - Accuracy: 34.70726013183594%\n",
      "------------------------------------------------------------------------\n",
      "> Fold 4 - Loss: 1.3755335807800293 - Accuracy: 34.69493091106415%\n",
      "------------------------------------------------------------------------\n",
      "> Fold 5 - Loss: 1.3940765857696533 - Accuracy: 34.59746837615967%\n",
      "------------------------------------------------------------------------\n",
      "> Fold 6 - Loss: 1.3942434787750244 - Accuracy: 33.97822976112366%\n",
      "------------------------------------------------------------------------\n",
      "> Fold 7 - Loss: 1.399350881576538 - Accuracy: 34.7457230091095%\n",
      "------------------------------------------------------------------------\n",
      "> Fold 8 - Loss: 1.4087915420532227 - Accuracy: 34.570395946502686%\n",
      "------------------------------------------------------------------------\n",
      "> Fold 9 - Loss: 1.376778483390808 - Accuracy: 35.38490533828735%\n",
      "------------------------------------------------------------------------\n",
      "> Fold 10 - Loss: 1.419541358947754 - Accuracy: 33.99885892868042%\n",
      "------------------------------------------------------------------------\n",
      "Average scores for all folds:\n",
      "> Accuracy: 34.488447308540344 (+- 0.4554682478580037)\n",
      "> Loss: 1.395740568637848\n",
      "------------------------------------------------------------------------\n"
     ]
    }
   ],
   "source": [
    "cols = [\"StationEnd\", \"WorkingDay\", \"Hour\", \"Count\", \"Count1\", \"Count1week\", \"Count2week\", \"Count3week\"]\n",
    "\n",
    "met1 = dataset[[col for col in dataset.columns if col in cols]]\n",
    "\n",
    "X = met1.drop(columns=[\"Count\"])\n",
    "y = met1[\"Count\"]\n",
    "\n",
    "X = np.reshape(X.values, (X.shape[0], 1, X.shape[1]))\n",
    "\n",
    "# Define the K-fold Cross Validator\n",
    "kfold = GroupKFold(n_splits=10)\n",
    "\n",
    "acc_per_fold = []\n",
    "loss_per_fold = []\n",
    "\n",
    "model_met1 = Sequential()\n",
    "model_met1.add(LSTM(4, input_shape=(1,met1.shape[1]-1)))\n",
    "model_met1.add(Dense(1))\n",
    "model_met1.compile(loss='mean_absolute_error', optimizer='adam', metrics=[\"accuracy\"])\n",
    "\n",
    "# K-fold Cross Validation model evaluation\n",
    "for train, test in kfold.split(X, y, dataset[\"Day\"]):\n",
    "    model_met1.fit(X[train], y[train], epochs=epochs, batch_size=batch_size, verbose=verbose)\n",
    "\n",
    "    # Generate generalization metrics\n",
    "    scores = model_met1.evaluate(X[test], y[test], verbose=0)\n",
    "    acc_per_fold.append(scores[1] * 100)\n",
    "    loss_per_fold.append(scores[0])\n",
    "\n",
    "print('------------------------------------------------------------------------')\n",
    "print('Score per fold')\n",
    "for i in range(0, len(acc_per_fold)):\n",
    "    print('------------------------------------------------------------------------')\n",
    "    print(f'> Fold {i+1} - Loss: {loss_per_fold[i]} - Accuracy: {acc_per_fold[i]}%')\n",
    "print('------------------------------------------------------------------------')\n",
    "print('Average scores for all folds:')\n",
    "print(f'> Accuracy: {np.mean(acc_per_fold)} (+- {np.std(acc_per_fold)})')\n",
    "print(f'> Loss: {np.mean(loss_per_fold)}')\n",
    "print('------------------------------------------------------------------------')"
   ]
  },
  {
   "cell_type": "code",
   "execution_count": 33,
   "metadata": {},
   "outputs": [
    {
     "data": {
      "text/plain": [
       "Text(0.5, 0, 'Methods')"
      ]
     },
     "execution_count": 33,
     "metadata": {},
     "output_type": "execute_result"
    },
    {
     "data": {
      "image/png": "[encoded data removed]",
      "text/plain": [
       "<Figure size 640x480 with 1 Axes>"
      ]
     },
     "metadata": {},
     "output_type": "display_data"
    }
   ],
   "source": [
    "plt.plot([\"Regression\", \"LSTM\"], [1.1546453573093387, 1.395740568637848], marker=\"o\")\n",
    "plt.legend([\"Mean Squared Error\"])\n",
    "plt.xlabel(\"Methods\")"
   ]
  },
  {
   "attachments": {},
   "cell_type": "markdown",
   "metadata": {},
   "source": [
    "### Method 1\n",
    "Input: ..., Temp\n",
    "\n",
    "Output: c(t+1)"
   ]
  },
  {
   "cell_type": "code",
   "execution_count": 39,
   "metadata": {},
   "outputs": [
    {
     "name": "stdout",
     "output_type": "stream",
     "text": [
      "Epoch 1/3\n"
     ]
    },
    {
     "name": "stderr",
     "output_type": "stream",
     "text": [
      "2023-07-03 09:25:25.918519: I tensorflow/core/common_runtime/executor.cc:1197] [/device:CPU:0] (DEBUG INFO) Executor start aborting (this does not indicate an error and you can ignore this message): INVALID_ARGUMENT: You must feed a value for placeholder tensor 'gradients/split_2_grad/concat/split_2/split_dim' with dtype int32\n",
      "\t [[{{node gradients/split_2_grad/concat/split_2/split_dim}}]]\n",
      "2023-07-03 09:25:25.919450: I tensorflow/core/common_runtime/executor.cc:1197] [/device:CPU:0] (DEBUG INFO) Executor start aborting (this does not indicate an error and you can ignore this message): INVALID_ARGUMENT: You must feed a value for placeholder tensor 'gradients/split_grad/concat/split/split_dim' with dtype int32\n",
      "\t [[{{node gradients/split_grad/concat/split/split_dim}}]]\n",
      "2023-07-03 09:25:25.920089: I tensorflow/core/common_runtime/executor.cc:1197] [/device:CPU:0] (DEBUG INFO) Executor start aborting (this does not indicate an error and you can ignore this message): INVALID_ARGUMENT: You must feed a value for placeholder tensor 'gradients/split_1_grad/concat/split_1/split_dim' with dtype int32\n",
      "\t [[{{node gradients/split_1_grad/concat/split_1/split_dim}}]]\n",
      "2023-07-03 09:25:26.138807: I tensorflow/core/common_runtime/executor.cc:1197] [/device:CPU:0] (DEBUG INFO) Executor start aborting (this does not indicate an error and you can ignore this message): INVALID_ARGUMENT: You must feed a value for placeholder tensor 'gradients/split_2_grad/concat/split_2/split_dim' with dtype int32\n",
      "\t [[{{node gradients/split_2_grad/concat/split_2/split_dim}}]]\n",
      "2023-07-03 09:25:26.140429: I tensorflow/core/common_runtime/executor.cc:1197] [/device:CPU:0] (DEBUG INFO) Executor start aborting (this does not indicate an error and you can ignore this message): INVALID_ARGUMENT: You must feed a value for placeholder tensor 'gradients/split_grad/concat/split/split_dim' with dtype int32\n",
      "\t [[{{node gradients/split_grad/concat/split/split_dim}}]]\n",
      "2023-07-03 09:25:26.141396: I tensorflow/core/common_runtime/executor.cc:1197] [/device:CPU:0] (DEBUG INFO) Executor start aborting (this does not indicate an error and you can ignore this message): INVALID_ARGUMENT: You must feed a value for placeholder tensor 'gradients/split_1_grad/concat/split_1/split_dim' with dtype int32\n",
      "\t [[{{node gradients/split_1_grad/concat/split_1/split_dim}}]]\n",
      "2023-07-03 09:25:26.494397: I tensorflow/core/common_runtime/executor.cc:1197] [/device:CPU:0] (DEBUG INFO) Executor start aborting (this does not indicate an error and you can ignore this message): INVALID_ARGUMENT: You must feed a value for placeholder tensor 'gradients/split_2_grad/concat/split_2/split_dim' with dtype int32\n",
      "\t [[{{node gradients/split_2_grad/concat/split_2/split_dim}}]]\n",
      "2023-07-03 09:25:26.495909: I tensorflow/core/common_runtime/executor.cc:1197] [/device:CPU:0] (DEBUG INFO) Executor start aborting (this does not indicate an error and you can ignore this message): INVALID_ARGUMENT: You must feed a value for placeholder tensor 'gradients/split_grad/concat/split/split_dim' with dtype int32\n",
      "\t [[{{node gradients/split_grad/concat/split/split_dim}}]]\n",
      "2023-07-03 09:25:26.496838: I tensorflow/core/common_runtime/executor.cc:1197] [/device:CPU:0] (DEBUG INFO) Executor start aborting (this does not indicate an error and you can ignore this message): INVALID_ARGUMENT: You must feed a value for placeholder tensor 'gradients/split_1_grad/concat/split_1/split_dim' with dtype int32\n",
      "\t [[{{node gradients/split_1_grad/concat/split_1/split_dim}}]]\n"
     ]
    },
    {
     "name": "stdout",
     "output_type": "stream",
     "text": [
      "190913/190913 - 171s - loss: 1.4496 - accuracy: 0.3446 - 171s/epoch - 894us/step\n",
      "Epoch 2/3\n",
      "190913/190913 - 165s - loss: 1.4165 - accuracy: 0.3451 - 165s/epoch - 865us/step\n",
      "Epoch 3/3\n",
      "190913/190913 - 165s - loss: 1.3991 - accuracy: 0.3450 - 165s/epoch - 864us/step\n"
     ]
    },
    {
     "name": "stderr",
     "output_type": "stream",
     "text": [
      "2023-07-03 09:33:46.903972: I tensorflow/core/common_runtime/executor.cc:1197] [/device:CPU:0] (DEBUG INFO) Executor start aborting (this does not indicate an error and you can ignore this message): INVALID_ARGUMENT: You must feed a value for placeholder tensor 'gradients/split_2_grad/concat/split_2/split_dim' with dtype int32\n",
      "\t [[{{node gradients/split_2_grad/concat/split_2/split_dim}}]]\n",
      "2023-07-03 09:33:46.905342: I tensorflow/core/common_runtime/executor.cc:1197] [/device:CPU:0] (DEBUG INFO) Executor start aborting (this does not indicate an error and you can ignore this message): INVALID_ARGUMENT: You must feed a value for placeholder tensor 'gradients/split_grad/concat/split/split_dim' with dtype int32\n",
      "\t [[{{node gradients/split_grad/concat/split/split_dim}}]]\n",
      "2023-07-03 09:33:46.906148: I tensorflow/core/common_runtime/executor.cc:1197] [/device:CPU:0] (DEBUG INFO) Executor start aborting (this does not indicate an error and you can ignore this message): INVALID_ARGUMENT: You must feed a value for placeholder tensor 'gradients/split_1_grad/concat/split_1/split_dim' with dtype int32\n",
      "\t [[{{node gradients/split_1_grad/concat/split_1/split_dim}}]]\n"
     ]
    },
    {
     "name": "stdout",
     "output_type": "stream",
     "text": [
      "Epoch 1/3\n",
      "190911/190911 - 167s - loss: 1.3884 - accuracy: 0.3459 - 167s/epoch - 873us/step\n",
      "Epoch 2/3\n",
      "190911/190911 - 170s - loss: 1.3823 - accuracy: 0.3459 - 170s/epoch - 890us/step\n",
      "Epoch 3/3\n",
      "190911/190911 - 166s - loss: 1.3782 - accuracy: 0.3459 - 166s/epoch - 869us/step\n",
      "Epoch 1/3\n",
      "190601/190601 - 164s - loss: 1.3788 - accuracy: 0.3447 - 164s/epoch - 858us/step\n",
      "Epoch 2/3\n",
      "190601/190601 - 167s - loss: 1.3762 - accuracy: 0.3447 - 167s/epoch - 877us/step\n",
      "Epoch 3/3\n",
      "190601/190601 - 166s - loss: 1.3742 - accuracy: 0.3446 - 166s/epoch - 869us/step\n",
      "Epoch 1/3\n",
      "190628/190628 - 161s - loss: 1.3718 - accuracy: 0.3448 - 161s/epoch - 846us/step\n",
      "Epoch 2/3\n",
      "190628/190628 - 167s - loss: 1.3707 - accuracy: 0.3447 - 167s/epoch - 878us/step\n",
      "Epoch 3/3\n",
      "190628/190628 - 173s - loss: 1.3697 - accuracy: 0.3448 - 173s/epoch - 908us/step\n",
      "Epoch 1/3\n",
      "190698/190698 - 168s - loss: 1.3686 - accuracy: 0.3448 - 168s/epoch - 883us/step\n",
      "Epoch 2/3\n",
      "190698/190698 - 160s - loss: 1.3668 - accuracy: 0.3448 - 160s/epoch - 837us/step\n",
      "Epoch 3/3\n",
      "190698/190698 - 159s - loss: 1.3678 - accuracy: 0.3448 - 159s/epoch - 833us/step\n",
      "Epoch 1/3\n",
      "190914/190914 - 154s - loss: 1.3648 - accuracy: 0.3455 - 154s/epoch - 807us/step\n",
      "Epoch 2/3\n",
      "190914/190914 - 150s - loss: 1.3653 - accuracy: 0.3455 - 150s/epoch - 788us/step\n",
      "Epoch 3/3\n",
      "190914/190914 - 150s - loss: 1.3648 - accuracy: 0.3455 - 150s/epoch - 788us/step\n",
      "Epoch 1/3\n",
      "190616/190616 - 149s - loss: 1.3628 - accuracy: 0.3447 - 149s/epoch - 783us/step\n",
      "Epoch 2/3\n",
      "190616/190616 - 148s - loss: 1.3632 - accuracy: 0.3446 - 148s/epoch - 779us/step\n",
      "Epoch 3/3\n",
      "190616/190616 - 150s - loss: 1.3624 - accuracy: 0.3447 - 150s/epoch - 789us/step\n",
      "Epoch 1/3\n",
      "190664/190664 - 149s - loss: 1.3617 - accuracy: 0.3448 - 149s/epoch - 780us/step\n",
      "Epoch 2/3\n",
      "190664/190664 - 148s - loss: 1.3608 - accuracy: 0.3448 - 148s/epoch - 778us/step\n",
      "Epoch 3/3\n",
      "190664/190664 - 148s - loss: 1.3610 - accuracy: 0.3448 - 148s/epoch - 776us/step\n",
      "Epoch 1/3\n",
      "190699/190699 - 149s - loss: 1.3650 - accuracy: 0.3439 - 149s/epoch - 783us/step\n",
      "Epoch 2/3\n",
      "190699/190699 - 149s - loss: 1.3653 - accuracy: 0.3439 - 149s/epoch - 782us/step\n",
      "Epoch 3/3\n",
      "190699/190699 - 150s - loss: 1.3645 - accuracy: 0.3439 - 150s/epoch - 784us/step\n",
      "Epoch 1/3\n",
      "190915/190915 - 150s - loss: 1.3602 - accuracy: 0.3455 - 150s/epoch - 788us/step\n",
      "Epoch 2/3\n",
      "190915/190915 - 156s - loss: 1.3603 - accuracy: 0.3455 - 156s/epoch - 815us/step\n",
      "Epoch 3/3\n",
      "190915/190915 - 162s - loss: 1.3604 - accuracy: 0.3455 - 162s/epoch - 850us/step\n",
      "------------------------------------------------------------------------\n",
      "Score per fold\n",
      "------------------------------------------------------------------------\n",
      "> Fold 1 - Loss: 1.3946982622146606 - Accuracy: 34.48997139930725%\n",
      "------------------------------------------------------------------------\n",
      "> Fold 2 - Loss: 1.4246326684951782 - Accuracy: 33.716729283332825%\n",
      "------------------------------------------------------------------------\n",
      "> Fold 3 - Loss: 1.3631997108459473 - Accuracy: 34.79156792163849%\n",
      "------------------------------------------------------------------------\n",
      "> Fold 4 - Loss: 1.3548188209533691 - Accuracy: 34.60582494735718%\n",
      "------------------------------------------------------------------------\n",
      "> Fold 5 - Loss: 1.349732756614685 - Accuracy: 34.6162885427475%\n",
      "------------------------------------------------------------------------\n",
      "> Fold 6 - Loss: 1.4168428182601929 - Accuracy: 33.97822976112366%\n",
      "------------------------------------------------------------------------\n",
      "> Fold 7 - Loss: 1.3579071760177612 - Accuracy: 34.7457230091095%\n",
      "------------------------------------------------------------------------\n",
      "> Fold 8 - Loss: 1.3776136636734009 - Accuracy: 34.570395946502686%\n",
      "------------------------------------------------------------------------\n",
      "> Fold 9 - Loss: 1.357204556465149 - Accuracy: 35.30020713806152%\n",
      "------------------------------------------------------------------------\n",
      "> Fold 10 - Loss: 1.3868002891540527 - Accuracy: 33.96082818508148%\n",
      "------------------------------------------------------------------------\n",
      "Average scores for all folds:\n",
      "> Accuracy: 34.47757661342621 (+- 0.44575066817963555)\n",
      "> Loss: 1.3783450722694397\n",
      "------------------------------------------------------------------------\n"
     ]
    }
   ],
   "source": [
    "cols = [\"StationEnd\", \"WorkingDay\", \"Hour\", \"Count\", \"Count1\", \"Count1week\", \"Count2week\", \"Count3week\", \"Temp\"]\n",
    "\n",
    "met1 = dataset[[col for col in dataset.columns if col in cols]]\n",
    "\n",
    "X = met1.drop(columns=[\"Count\"])\n",
    "y = met1[\"Count\"]\n",
    "\n",
    "X = np.reshape(X.values, (X.shape[0], 1, X.shape[1]))\n",
    "\n",
    "# Define the K-fold Cross Validator\n",
    "kfold = GroupKFold(n_splits=10)\n",
    "\n",
    "acc_per_fold = []\n",
    "loss_per_fold = []\n",
    "\n",
    "model_met1 = Sequential()\n",
    "model_met1.add(LSTM(4, input_shape=(1,met1.shape[1]-1)))\n",
    "model_met1.add(Dense(1))\n",
    "model_met1.compile(loss='mean_absolute_error', optimizer='adam', metrics=[\"accuracy\"])\n",
    "\n",
    "# K-fold Cross Validation model evaluation\n",
    "for train, test in kfold.split(X, y, dataset[\"Day\"]):\n",
    "    model_met1.fit(X[train], y[train], epochs=epochs, batch_size=batch_size, verbose=verbose)\n",
    "\n",
    "    # Generate generalization metrics\n",
    "    scores = model_met1.evaluate(X[test], y[test], verbose=0)\n",
    "    acc_per_fold.append(scores[1] * 100)\n",
    "    loss_per_fold.append(scores[0])\n",
    "\n",
    "print('------------------------------------------------------------------------')\n",
    "print('Score per fold')\n",
    "for i in range(0, len(acc_per_fold)):\n",
    "    print('------------------------------------------------------------------------')\n",
    "    print(f'> Fold {i+1} - Loss: {loss_per_fold[i]} - Accuracy: {acc_per_fold[i]}%')\n",
    "print('------------------------------------------------------------------------')\n",
    "print('Average scores for all folds:')\n",
    "print(f'> Accuracy: {np.mean(acc_per_fold)} (+- {np.std(acc_per_fold)})')\n",
    "print(f'> Loss: {np.mean(loss_per_fold)}')\n",
    "print('------------------------------------------------------------------------')"
   ]
  },
  {
   "attachments": {},
   "cell_type": "markdown",
   "metadata": {},
   "source": [
    "### Method 2\n",
    "Input: ..., Temp, ATemp\n",
    "\n",
    "Output: c(t+1)"
   ]
  },
  {
   "cell_type": "code",
   "execution_count": 26,
   "metadata": {},
   "outputs": [
    {
     "name": "stdout",
     "output_type": "stream",
     "text": [
      "Epoch 1/3\n"
     ]
    },
    {
     "name": "stderr",
     "output_type": "stream",
     "text": [
      "2023-06-30 20:15:29.099430: I tensorflow/core/common_runtime/executor.cc:1197] [/device:CPU:0] (DEBUG INFO) Executor start aborting (this does not indicate an error and you can ignore this message): INVALID_ARGUMENT: You must feed a value for placeholder tensor 'gradients/split_2_grad/concat/split_2/split_dim' with dtype int32\n",
      "\t [[{{node gradients/split_2_grad/concat/split_2/split_dim}}]]\n",
      "2023-06-30 20:15:29.100585: I tensorflow/core/common_runtime/executor.cc:1197] [/device:CPU:0] (DEBUG INFO) Executor start aborting (this does not indicate an error and you can ignore this message): INVALID_ARGUMENT: You must feed a value for placeholder tensor 'gradients/split_grad/concat/split/split_dim' with dtype int32\n",
      "\t [[{{node gradients/split_grad/concat/split/split_dim}}]]\n",
      "2023-06-30 20:15:29.101374: I tensorflow/core/common_runtime/executor.cc:1197] [/device:CPU:0] (DEBUG INFO) Executor start aborting (this does not indicate an error and you can ignore this message): INVALID_ARGUMENT: You must feed a value for placeholder tensor 'gradients/split_1_grad/concat/split_1/split_dim' with dtype int32\n",
      "\t [[{{node gradients/split_1_grad/concat/split_1/split_dim}}]]\n",
      "2023-06-30 20:15:29.304810: I tensorflow/core/common_runtime/executor.cc:1197] [/device:CPU:0] (DEBUG INFO) Executor start aborting (this does not indicate an error and you can ignore this message): INVALID_ARGUMENT: You must feed a value for placeholder tensor 'gradients/split_2_grad/concat/split_2/split_dim' with dtype int32\n",
      "\t [[{{node gradients/split_2_grad/concat/split_2/split_dim}}]]\n",
      "2023-06-30 20:15:29.306245: I tensorflow/core/common_runtime/executor.cc:1197] [/device:CPU:0] (DEBUG INFO) Executor start aborting (this does not indicate an error and you can ignore this message): INVALID_ARGUMENT: You must feed a value for placeholder tensor 'gradients/split_grad/concat/split/split_dim' with dtype int32\n",
      "\t [[{{node gradients/split_grad/concat/split/split_dim}}]]\n",
      "2023-06-30 20:15:29.307272: I tensorflow/core/common_runtime/executor.cc:1197] [/device:CPU:0] (DEBUG INFO) Executor start aborting (this does not indicate an error and you can ignore this message): INVALID_ARGUMENT: You must feed a value for placeholder tensor 'gradients/split_1_grad/concat/split_1/split_dim' with dtype int32\n",
      "\t [[{{node gradients/split_1_grad/concat/split_1/split_dim}}]]\n",
      "2023-06-30 20:15:29.663087: I tensorflow/core/common_runtime/executor.cc:1197] [/device:CPU:0] (DEBUG INFO) Executor start aborting (this does not indicate an error and you can ignore this message): INVALID_ARGUMENT: You must feed a value for placeholder tensor 'gradients/split_2_grad/concat/split_2/split_dim' with dtype int32\n",
      "\t [[{{node gradients/split_2_grad/concat/split_2/split_dim}}]]\n",
      "2023-06-30 20:15:29.664246: I tensorflow/core/common_runtime/executor.cc:1197] [/device:CPU:0] (DEBUG INFO) Executor start aborting (this does not indicate an error and you can ignore this message): INVALID_ARGUMENT: You must feed a value for placeholder tensor 'gradients/split_grad/concat/split/split_dim' with dtype int32\n",
      "\t [[{{node gradients/split_grad/concat/split/split_dim}}]]\n",
      "2023-06-30 20:15:29.665077: I tensorflow/core/common_runtime/executor.cc:1197] [/device:CPU:0] (DEBUG INFO) Executor start aborting (this does not indicate an error and you can ignore this message): INVALID_ARGUMENT: You must feed a value for placeholder tensor 'gradients/split_1_grad/concat/split_1/split_dim' with dtype int32\n",
      "\t [[{{node gradients/split_1_grad/concat/split_1/split_dim}}]]\n"
     ]
    },
    {
     "name": "stdout",
     "output_type": "stream",
     "text": [
      "190913/190913 - 157s - loss: 1.4496 - accuracy: 0.3448 - 157s/epoch - 823us/step\n",
      "Epoch 2/3\n",
      "190913/190913 - 155s - loss: 1.3982 - accuracy: 0.3450 - 155s/epoch - 812us/step\n",
      "Epoch 3/3\n",
      "190913/190913 - 155s - loss: 1.3828 - accuracy: 0.3450 - 155s/epoch - 810us/step\n"
     ]
    },
    {
     "name": "stderr",
     "output_type": "stream",
     "text": [
      "2023-06-30 20:23:15.992899: I tensorflow/core/common_runtime/executor.cc:1197] [/device:CPU:0] (DEBUG INFO) Executor start aborting (this does not indicate an error and you can ignore this message): INVALID_ARGUMENT: You must feed a value for placeholder tensor 'gradients/split_2_grad/concat/split_2/split_dim' with dtype int32\n",
      "\t [[{{node gradients/split_2_grad/concat/split_2/split_dim}}]]\n",
      "2023-06-30 20:23:15.994080: I tensorflow/core/common_runtime/executor.cc:1197] [/device:CPU:0] (DEBUG INFO) Executor start aborting (this does not indicate an error and you can ignore this message): INVALID_ARGUMENT: You must feed a value for placeholder tensor 'gradients/split_grad/concat/split/split_dim' with dtype int32\n",
      "\t [[{{node gradients/split_grad/concat/split/split_dim}}]]\n",
      "2023-06-30 20:23:15.994797: I tensorflow/core/common_runtime/executor.cc:1197] [/device:CPU:0] (DEBUG INFO) Executor start aborting (this does not indicate an error and you can ignore this message): INVALID_ARGUMENT: You must feed a value for placeholder tensor 'gradients/split_1_grad/concat/split_1/split_dim' with dtype int32\n",
      "\t [[{{node gradients/split_1_grad/concat/split_1/split_dim}}]]\n"
     ]
    },
    {
     "name": "stdout",
     "output_type": "stream",
     "text": [
      "Epoch 1/3\n",
      "190911/190911 - 155s - loss: 1.3738 - accuracy: 0.3459 - 155s/epoch - 810us/step\n",
      "Epoch 2/3\n",
      "190911/190911 - 155s - loss: 1.3720 - accuracy: 0.3459 - 155s/epoch - 811us/step\n",
      "Epoch 3/3\n",
      "190911/190911 - 155s - loss: 1.3692 - accuracy: 0.3459 - 155s/epoch - 810us/step\n",
      "Epoch 1/3\n",
      "190601/190601 - 154s - loss: 1.3726 - accuracy: 0.3447 - 154s/epoch - 810us/step\n",
      "Epoch 2/3\n",
      "190601/190601 - 154s - loss: 1.3711 - accuracy: 0.3447 - 154s/epoch - 810us/step\n",
      "Epoch 3/3\n",
      "190601/190601 - 155s - loss: 1.3679 - accuracy: 0.3446 - 155s/epoch - 811us/step\n",
      "Epoch 1/3\n",
      "190628/190628 - 155s - loss: 1.3622 - accuracy: 0.3448 - 155s/epoch - 811us/step\n",
      "Epoch 2/3\n",
      "190628/190628 - 156s - loss: 1.3590 - accuracy: 0.3448 - 156s/epoch - 819us/step\n",
      "Epoch 3/3\n",
      "190628/190628 - 155s - loss: 1.3565 - accuracy: 0.3448 - 155s/epoch - 812us/step\n",
      "Epoch 1/3\n",
      "190698/190698 - 155s - loss: 1.3536 - accuracy: 0.3449 - 155s/epoch - 813us/step\n",
      "Epoch 2/3\n",
      "190698/190698 - 155s - loss: 1.3521 - accuracy: 0.3449 - 155s/epoch - 812us/step\n",
      "Epoch 3/3\n",
      "190698/190698 - 154s - loss: 1.3507 - accuracy: 0.3449 - 154s/epoch - 810us/step\n",
      "Epoch 1/3\n",
      "190914/190914 - 155s - loss: 1.3471 - accuracy: 0.3456 - 155s/epoch - 810us/step\n",
      "Epoch 2/3\n",
      "190914/190914 - 155s - loss: 1.3454 - accuracy: 0.3456 - 155s/epoch - 810us/step\n",
      "Epoch 3/3\n",
      "190914/190914 - 155s - loss: 1.3458 - accuracy: 0.3456 - 155s/epoch - 812us/step\n",
      "Epoch 1/3\n",
      "190616/190616 - 155s - loss: 1.3437 - accuracy: 0.3447 - 155s/epoch - 811us/step\n",
      "Epoch 2/3\n",
      "190616/190616 - 154s - loss: 1.3428 - accuracy: 0.3447 - 154s/epoch - 809us/step\n",
      "Epoch 3/3\n",
      "190616/190616 - 155s - loss: 1.3429 - accuracy: 0.3448 - 155s/epoch - 815us/step\n",
      "Epoch 1/3\n",
      "190664/190664 - 154s - loss: 1.3397 - accuracy: 0.3449 - 154s/epoch - 810us/step\n",
      "Epoch 2/3\n",
      "190664/190664 - 154s - loss: 1.3403 - accuracy: 0.3449 - 154s/epoch - 810us/step\n",
      "Epoch 3/3\n",
      "190664/190664 - 155s - loss: 1.3386 - accuracy: 0.3449 - 155s/epoch - 811us/step\n",
      "Epoch 1/3\n",
      "190699/190699 - 154s - loss: 1.3414 - accuracy: 0.3440 - 154s/epoch - 808us/step\n",
      "Epoch 2/3\n",
      "190699/190699 - 154s - loss: 1.3412 - accuracy: 0.3440 - 154s/epoch - 807us/step\n",
      "Epoch 3/3\n",
      "190699/190699 - 154s - loss: 1.3413 - accuracy: 0.3440 - 154s/epoch - 808us/step\n",
      "Epoch 1/3\n",
      "190915/190915 - 154s - loss: 1.3375 - accuracy: 0.3456 - 154s/epoch - 807us/step\n",
      "Epoch 2/3\n",
      "190915/190915 - 154s - loss: 1.3370 - accuracy: 0.3455 - 154s/epoch - 806us/step\n",
      "Epoch 3/3\n",
      "190915/190915 - 154s - loss: 1.3365 - accuracy: 0.3455 - 154s/epoch - 806us/step\n",
      "------------------------------------------------------------------------\n",
      "Score per fold\n",
      "------------------------------------------------------------------------\n",
      "> Fold 1 - Loss: 1.3868159055709839 - Accuracy: 34.48997139930725%\n",
      "------------------------------------------------------------------------\n",
      "> Fold 2 - Loss: 1.3821332454681396 - Accuracy: 33.716729283332825%\n",
      "------------------------------------------------------------------------\n",
      "> Fold 3 - Loss: 1.338446855545044 - Accuracy: 34.74941551685333%\n",
      "------------------------------------------------------------------------\n",
      "> Fold 4 - Loss: 1.3315794467926025 - Accuracy: 34.69493091106415%\n",
      "------------------------------------------------------------------------\n",
      "> Fold 5 - Loss: 1.326590895652771 - Accuracy: 34.6162885427475%\n",
      "------------------------------------------------------------------------\n",
      "> Fold 6 - Loss: 1.349890112876892 - Accuracy: 33.97822976112366%\n",
      "------------------------------------------------------------------------\n",
      "> Fold 7 - Loss: 1.3475391864776611 - Accuracy: 34.74103510379791%\n",
      "------------------------------------------------------------------------\n",
      "> Fold 8 - Loss: 1.367093563079834 - Accuracy: 34.570395946502686%\n",
      "------------------------------------------------------------------------\n",
      "> Fold 9 - Loss: 1.3265455961227417 - Accuracy: 35.41313707828522%\n",
      "------------------------------------------------------------------------\n",
      "> Fold 10 - Loss: 1.3563387393951416 - Accuracy: 33.99410545825958%\n",
      "------------------------------------------------------------------------\n",
      "Average scores for all folds:\n",
      "> Accuracy: 34.49642390012741 (+- 0.46392469137274783)\n",
      "> Loss: 1.3512973546981812\n",
      "------------------------------------------------------------------------\n"
     ]
    }
   ],
   "source": [
    "cols = [\"StationEnd\", \"WorkingDay\", \"Hour\", \"Count\", \"Count1\", \"Count1week\", \"Count2week\", \"Count3week\", \"Temp\", \"ATemp\"]\n",
    "\n",
    "met1 = dataset[[col for col in dataset.columns if col in cols]]\n",
    "\n",
    "X = met1.drop(columns=[\"Count\"])\n",
    "y = met1[\"Count\"]\n",
    "\n",
    "X = np.reshape(X.values, (X.shape[0], 1, X.shape[1]))\n",
    "\n",
    "# Define the K-fold Cross Validator\n",
    "kfold = GroupKFold(n_splits=10)\n",
    "\n",
    "acc_per_fold = []\n",
    "loss_per_fold = []\n",
    "\n",
    "model_met1 = Sequential()\n",
    "model_met1.add(LSTM(4, input_shape=(1,met1.shape[1]-1)))\n",
    "model_met1.add(Dense(1))\n",
    "model_met1.compile(loss='mean_absolute_error', optimizer='adam', metrics=[\"accuracy\"])\n",
    "\n",
    "# K-fold Cross Validation model evaluation\n",
    "for train, test in kfold.split(X, y, dataset[\"Day\"]):\n",
    "    model_met1.fit(X[train], y[train], epochs=epochs, batch_size=batch_size, verbose=verbose)\n",
    "\n",
    "    # Generate generalization metrics\n",
    "    scores = model_met1.evaluate(X[test], y[test], verbose=0)\n",
    "    acc_per_fold.append(scores[1] * 100)\n",
    "    loss_per_fold.append(scores[0])\n",
    "\n",
    "print('------------------------------------------------------------------------')\n",
    "print('Score per fold')\n",
    "for i in range(0, len(acc_per_fold)):\n",
    "    print('------------------------------------------------------------------------')\n",
    "    print(f'> Fold {i+1} - Loss: {loss_per_fold[i]} - Accuracy: {acc_per_fold[i]}%')\n",
    "print('------------------------------------------------------------------------')\n",
    "print('Average scores for all folds:')\n",
    "print(f'> Accuracy: {np.mean(acc_per_fold)} (+- {np.std(acc_per_fold)})')\n",
    "print(f'> Loss: {np.mean(loss_per_fold)}')\n",
    "print('------------------------------------------------------------------------')"
   ]
  },
  {
   "attachments": {},
   "cell_type": "markdown",
   "metadata": {},
   "source": [
    "### Method 3\n",
    "Input: ..., Temp, ATemp, Humidity\n",
    "\n",
    "Output: c(t+1)"
   ]
  },
  {
   "cell_type": "code",
   "execution_count": 27,
   "metadata": {},
   "outputs": [
    {
     "name": "stdout",
     "output_type": "stream",
     "text": [
      "Epoch 1/3\n"
     ]
    },
    {
     "name": "stderr",
     "output_type": "stream",
     "text": [
      "2023-06-30 21:32:53.554919: I tensorflow/core/common_runtime/executor.cc:1197] [/device:CPU:0] (DEBUG INFO) Executor start aborting (this does not indicate an error and you can ignore this message): INVALID_ARGUMENT: You must feed a value for placeholder tensor 'gradients/split_2_grad/concat/split_2/split_dim' with dtype int32\n",
      "\t [[{{node gradients/split_2_grad/concat/split_2/split_dim}}]]\n",
      "2023-06-30 21:32:53.556089: I tensorflow/core/common_runtime/executor.cc:1197] [/device:CPU:0] (DEBUG INFO) Executor start aborting (this does not indicate an error and you can ignore this message): INVALID_ARGUMENT: You must feed a value for placeholder tensor 'gradients/split_grad/concat/split/split_dim' with dtype int32\n",
      "\t [[{{node gradients/split_grad/concat/split/split_dim}}]]\n",
      "2023-06-30 21:32:53.557229: I tensorflow/core/common_runtime/executor.cc:1197] [/device:CPU:0] (DEBUG INFO) Executor start aborting (this does not indicate an error and you can ignore this message): INVALID_ARGUMENT: You must feed a value for placeholder tensor 'gradients/split_1_grad/concat/split_1/split_dim' with dtype int32\n",
      "\t [[{{node gradients/split_1_grad/concat/split_1/split_dim}}]]\n",
      "2023-06-30 21:32:53.766719: I tensorflow/core/common_runtime/executor.cc:1197] [/device:CPU:0] (DEBUG INFO) Executor start aborting (this does not indicate an error and you can ignore this message): INVALID_ARGUMENT: You must feed a value for placeholder tensor 'gradients/split_2_grad/concat/split_2/split_dim' with dtype int32\n",
      "\t [[{{node gradients/split_2_grad/concat/split_2/split_dim}}]]\n",
      "2023-06-30 21:32:53.767833: I tensorflow/core/common_runtime/executor.cc:1197] [/device:CPU:0] (DEBUG INFO) Executor start aborting (this does not indicate an error and you can ignore this message): INVALID_ARGUMENT: You must feed a value for placeholder tensor 'gradients/split_grad/concat/split/split_dim' with dtype int32\n",
      "\t [[{{node gradients/split_grad/concat/split/split_dim}}]]\n",
      "2023-06-30 21:32:53.768892: I tensorflow/core/common_runtime/executor.cc:1197] [/device:CPU:0] (DEBUG INFO) Executor start aborting (this does not indicate an error and you can ignore this message): INVALID_ARGUMENT: You must feed a value for placeholder tensor 'gradients/split_1_grad/concat/split_1/split_dim' with dtype int32\n",
      "\t [[{{node gradients/split_1_grad/concat/split_1/split_dim}}]]\n",
      "2023-06-30 21:32:54.126776: I tensorflow/core/common_runtime/executor.cc:1197] [/device:CPU:0] (DEBUG INFO) Executor start aborting (this does not indicate an error and you can ignore this message): INVALID_ARGUMENT: You must feed a value for placeholder tensor 'gradients/split_2_grad/concat/split_2/split_dim' with dtype int32\n",
      "\t [[{{node gradients/split_2_grad/concat/split_2/split_dim}}]]\n",
      "2023-06-30 21:32:54.128427: I tensorflow/core/common_runtime/executor.cc:1197] [/device:CPU:0] (DEBUG INFO) Executor start aborting (this does not indicate an error and you can ignore this message): INVALID_ARGUMENT: You must feed a value for placeholder tensor 'gradients/split_grad/concat/split/split_dim' with dtype int32\n",
      "\t [[{{node gradients/split_grad/concat/split/split_dim}}]]\n",
      "2023-06-30 21:32:54.129472: I tensorflow/core/common_runtime/executor.cc:1197] [/device:CPU:0] (DEBUG INFO) Executor start aborting (this does not indicate an error and you can ignore this message): INVALID_ARGUMENT: You must feed a value for placeholder tensor 'gradients/split_1_grad/concat/split_1/split_dim' with dtype int32\n",
      "\t [[{{node gradients/split_1_grad/concat/split_1/split_dim}}]]\n"
     ]
    },
    {
     "name": "stdout",
     "output_type": "stream",
     "text": [
      "190913/190913 - 160s - loss: 1.4392 - accuracy: 0.3450 - 160s/epoch - 838us/step\n",
      "Epoch 2/3\n",
      "190913/190913 - 161s - loss: 1.3896 - accuracy: 0.3450 - 161s/epoch - 845us/step\n",
      "Epoch 3/3\n",
      "190913/190913 - 161s - loss: 1.3755 - accuracy: 0.3449 - 161s/epoch - 844us/step\n"
     ]
    },
    {
     "name": "stderr",
     "output_type": "stream",
     "text": [
      "2023-06-30 21:40:56.191190: I tensorflow/core/common_runtime/executor.cc:1197] [/device:CPU:0] (DEBUG INFO) Executor start aborting (this does not indicate an error and you can ignore this message): INVALID_ARGUMENT: You must feed a value for placeholder tensor 'gradients/split_2_grad/concat/split_2/split_dim' with dtype int32\n",
      "\t [[{{node gradients/split_2_grad/concat/split_2/split_dim}}]]\n",
      "2023-06-30 21:40:56.191980: I tensorflow/core/common_runtime/executor.cc:1197] [/device:CPU:0] (DEBUG INFO) Executor start aborting (this does not indicate an error and you can ignore this message): INVALID_ARGUMENT: You must feed a value for placeholder tensor 'gradients/split_grad/concat/split/split_dim' with dtype int32\n",
      "\t [[{{node gradients/split_grad/concat/split/split_dim}}]]\n",
      "2023-06-30 21:40:56.192941: I tensorflow/core/common_runtime/executor.cc:1197] [/device:CPU:0] (DEBUG INFO) Executor start aborting (this does not indicate an error and you can ignore this message): INVALID_ARGUMENT: You must feed a value for placeholder tensor 'gradients/split_1_grad/concat/split_1/split_dim' with dtype int32\n",
      "\t [[{{node gradients/split_1_grad/concat/split_1/split_dim}}]]\n"
     ]
    },
    {
     "name": "stdout",
     "output_type": "stream",
     "text": [
      "Epoch 1/3\n",
      "190911/190911 - 161s - loss: 1.3647 - accuracy: 0.3458 - 161s/epoch - 843us/step\n",
      "Epoch 2/3\n",
      "190911/190911 - 161s - loss: 1.3605 - accuracy: 0.3458 - 161s/epoch - 843us/step\n",
      "Epoch 3/3\n",
      "190911/190911 - 162s - loss: 1.3570 - accuracy: 0.3457 - 162s/epoch - 847us/step\n",
      "Epoch 1/3\n",
      "190601/190601 - 161s - loss: 1.3588 - accuracy: 0.3446 - 161s/epoch - 847us/step\n",
      "Epoch 2/3\n",
      "190601/190601 - 160s - loss: 1.3549 - accuracy: 0.3445 - 160s/epoch - 839us/step\n",
      "Epoch 3/3\n",
      "190601/190601 - 160s - loss: 1.3531 - accuracy: 0.3445 - 160s/epoch - 839us/step\n",
      "Epoch 1/3\n",
      "190628/190628 - 160s - loss: 1.3488 - accuracy: 0.3446 - 160s/epoch - 841us/step\n",
      "Epoch 2/3\n",
      "190628/190628 - 161s - loss: 1.3477 - accuracy: 0.3446 - 161s/epoch - 847us/step\n",
      "Epoch 3/3\n",
      "190628/190628 - 160s - loss: 1.3466 - accuracy: 0.3447 - 160s/epoch - 837us/step\n",
      "Epoch 1/3\n",
      "190698/190698 - 161s - loss: 1.3452 - accuracy: 0.3447 - 161s/epoch - 843us/step\n",
      "Epoch 2/3\n",
      "190698/190698 - 163s - loss: 1.3440 - accuracy: 0.3448 - 163s/epoch - 852us/step\n",
      "Epoch 3/3\n",
      "190698/190698 - 161s - loss: 1.3429 - accuracy: 0.3447 - 161s/epoch - 847us/step\n",
      "Epoch 1/3\n",
      "190914/190914 - 163s - loss: 1.3400 - accuracy: 0.3454 - 163s/epoch - 852us/step\n",
      "Epoch 2/3\n",
      "190914/190914 - 161s - loss: 1.3393 - accuracy: 0.3454 - 161s/epoch - 846us/step\n",
      "Epoch 3/3\n",
      "190914/190914 - 161s - loss: 1.3389 - accuracy: 0.3454 - 161s/epoch - 843us/step\n",
      "Epoch 1/3\n",
      "190616/190616 - 162s - loss: 1.3387 - accuracy: 0.3445 - 162s/epoch - 849us/step\n",
      "Epoch 2/3\n",
      "190616/190616 - 160s - loss: 1.3372 - accuracy: 0.3445 - 160s/epoch - 837us/step\n",
      "Epoch 3/3\n",
      "190616/190616 - 160s - loss: 1.3372 - accuracy: 0.3445 - 160s/epoch - 841us/step\n",
      "Epoch 1/3\n",
      "190664/190664 - 158s - loss: 1.3348 - accuracy: 0.3447 - 158s/epoch - 829us/step\n",
      "Epoch 2/3\n",
      "190664/190664 - 162s - loss: 1.3347 - accuracy: 0.3447 - 162s/epoch - 848us/step\n",
      "Epoch 3/3\n",
      "190664/190664 - 161s - loss: 1.3346 - accuracy: 0.3447 - 161s/epoch - 843us/step\n",
      "Epoch 1/3\n",
      "190699/190699 - 162s - loss: 1.3380 - accuracy: 0.3437 - 162s/epoch - 849us/step\n",
      "Epoch 2/3\n",
      "190699/190699 - 162s - loss: 1.3373 - accuracy: 0.3437 - 162s/epoch - 849us/step\n",
      "Epoch 3/3\n",
      "190699/190699 - 161s - loss: 1.3370 - accuracy: 0.3438 - 161s/epoch - 842us/step\n",
      "Epoch 1/3\n",
      "190915/190915 - 160s - loss: 1.3337 - accuracy: 0.3453 - 160s/epoch - 839us/step\n",
      "Epoch 2/3\n",
      "190915/190915 - 160s - loss: 1.3328 - accuracy: 0.3453 - 160s/epoch - 839us/step\n",
      "Epoch 3/3\n",
      "190915/190915 - 160s - loss: 1.3330 - accuracy: 0.3453 - 160s/epoch - 838us/step\n",
      "------------------------------------------------------------------------\n",
      "Score per fold\n",
      "------------------------------------------------------------------------\n",
      "> Fold 1 - Loss: 1.3858685493469238 - Accuracy: 34.48997139930725%\n",
      "------------------------------------------------------------------------\n",
      "> Fold 2 - Loss: 1.3758960962295532 - Accuracy: 33.393535017967224%\n",
      "------------------------------------------------------------------------\n",
      "> Fold 3 - Loss: 1.3138236999511719 - Accuracy: 34.79156792163849%\n",
      "------------------------------------------------------------------------\n",
      "> Fold 4 - Loss: 1.334185242652893 - Accuracy: 34.69493091106415%\n",
      "------------------------------------------------------------------------\n",
      "> Fold 5 - Loss: 1.338785171508789 - Accuracy: 34.6162885427475%\n",
      "------------------------------------------------------------------------\n",
      "> Fold 6 - Loss: 1.3752726316452026 - Accuracy: 33.77858102321625%\n",
      "------------------------------------------------------------------------\n",
      "> Fold 7 - Loss: 1.3464051485061646 - Accuracy: 34.7457230091095%\n",
      "------------------------------------------------------------------------\n",
      "> Fold 8 - Loss: 1.3583433628082275 - Accuracy: 34.570395946502686%\n",
      "------------------------------------------------------------------------\n",
      "> Fold 9 - Loss: 1.33077073097229 - Accuracy: 35.40372550487518%\n",
      "------------------------------------------------------------------------\n",
      "> Fold 10 - Loss: 1.3983978033065796 - Accuracy: 33.99885892868042%\n",
      "------------------------------------------------------------------------\n",
      "Average scores for all folds:\n",
      "> Accuracy: 34.448357820510864 (+- 0.5466143072169608)\n",
      "> Loss: 1.3557748436927795\n",
      "------------------------------------------------------------------------\n"
     ]
    }
   ],
   "source": [
    "cols = [\"StationEnd\", \"WorkingDay\", \"Hour\", \"Count\", \"Count1\", \"Count1week\", \"Count2week\", \"Count3week\", \"Temp\", \"ATemp\", \"Humidity\"]\n",
    "\n",
    "met1 = dataset[[col for col in dataset.columns if col in cols]]\n",
    "\n",
    "X = met1.drop(columns=[\"Count\"])\n",
    "y = met1[\"Count\"]\n",
    "\n",
    "X = np.reshape(X.values, (X.shape[0], 1, X.shape[1]))\n",
    "\n",
    "# Define the K-fold Cross Validator\n",
    "kfold = GroupKFold(n_splits=10)\n",
    "\n",
    "acc_per_fold = []\n",
    "loss_per_fold = []\n",
    "\n",
    "model_met1 = Sequential()\n",
    "model_met1.add(LSTM(4, input_shape=(1,met1.shape[1]-1)))\n",
    "model_met1.add(Dense(1))\n",
    "model_met1.compile(loss='mean_absolute_error', optimizer='adam', metrics=[\"accuracy\"])\n",
    "\n",
    "# K-fold Cross Validation model evaluation\n",
    "for train, test in kfold.split(X, y, dataset[\"Day\"]):\n",
    "    model_met1.fit(X[train], y[train], epochs=epochs, batch_size=batch_size, verbose=verbose)\n",
    "\n",
    "    # Generate generalization metrics\n",
    "    scores = model_met1.evaluate(X[test], y[test], verbose=0)\n",
    "    acc_per_fold.append(scores[1] * 100)\n",
    "    loss_per_fold.append(scores[0])\n",
    "\n",
    "print('------------------------------------------------------------------------')\n",
    "print('Score per fold')\n",
    "for i in range(0, len(acc_per_fold)):\n",
    "    print('------------------------------------------------------------------------')\n",
    "    print(f'> Fold {i+1} - Loss: {loss_per_fold[i]} - Accuracy: {acc_per_fold[i]}%')\n",
    "print('------------------------------------------------------------------------')\n",
    "print('Average scores for all folds:')\n",
    "print(f'> Accuracy: {np.mean(acc_per_fold)} (+- {np.std(acc_per_fold)})')\n",
    "print(f'> Loss: {np.mean(loss_per_fold)}')\n",
    "print('------------------------------------------------------------------------')"
   ]
  },
  {
   "attachments": {},
   "cell_type": "markdown",
   "metadata": {},
   "source": [
    "### Method 4\n",
    "Input: ..., Temp, ATemp, Humidity, WeatherSituation\n",
    "\n",
    "Output: c(t+1)"
   ]
  },
  {
   "cell_type": "code",
   "execution_count": 28,
   "metadata": {},
   "outputs": [],
   "source": [
    "dataset = pd.get_dummies(data=dataset, columns=[\"WeatherSituation\"], dtype=int)"
   ]
  },
  {
   "cell_type": "code",
   "execution_count": 29,
   "metadata": {},
   "outputs": [
    {
     "name": "stdout",
     "output_type": "stream",
     "text": [
      "Epoch 1/3\n"
     ]
    },
    {
     "name": "stderr",
     "output_type": "stream",
     "text": [
      "2023-06-30 22:53:23.267572: I tensorflow/core/common_runtime/executor.cc:1197] [/device:CPU:0] (DEBUG INFO) Executor start aborting (this does not indicate an error and you can ignore this message): INVALID_ARGUMENT: You must feed a value for placeholder tensor 'gradients/split_2_grad/concat/split_2/split_dim' with dtype int32\n",
      "\t [[{{node gradients/split_2_grad/concat/split_2/split_dim}}]]\n",
      "2023-06-30 22:53:23.268678: I tensorflow/core/common_runtime/executor.cc:1197] [/device:CPU:0] (DEBUG INFO) Executor start aborting (this does not indicate an error and you can ignore this message): INVALID_ARGUMENT: You must feed a value for placeholder tensor 'gradients/split_grad/concat/split/split_dim' with dtype int32\n",
      "\t [[{{node gradients/split_grad/concat/split/split_dim}}]]\n",
      "2023-06-30 22:53:23.269376: I tensorflow/core/common_runtime/executor.cc:1197] [/device:CPU:0] (DEBUG INFO) Executor start aborting (this does not indicate an error and you can ignore this message): INVALID_ARGUMENT: You must feed a value for placeholder tensor 'gradients/split_1_grad/concat/split_1/split_dim' with dtype int32\n",
      "\t [[{{node gradients/split_1_grad/concat/split_1/split_dim}}]]\n",
      "2023-06-30 22:53:23.438615: I tensorflow/core/common_runtime/executor.cc:1197] [/device:CPU:0] (DEBUG INFO) Executor start aborting (this does not indicate an error and you can ignore this message): INVALID_ARGUMENT: You must feed a value for placeholder tensor 'gradients/split_2_grad/concat/split_2/split_dim' with dtype int32\n",
      "\t [[{{node gradients/split_2_grad/concat/split_2/split_dim}}]]\n",
      "2023-06-30 22:53:23.439586: I tensorflow/core/common_runtime/executor.cc:1197] [/device:CPU:0] (DEBUG INFO) Executor start aborting (this does not indicate an error and you can ignore this message): INVALID_ARGUMENT: You must feed a value for placeholder tensor 'gradients/split_grad/concat/split/split_dim' with dtype int32\n",
      "\t [[{{node gradients/split_grad/concat/split/split_dim}}]]\n",
      "2023-06-30 22:53:23.440383: I tensorflow/core/common_runtime/executor.cc:1197] [/device:CPU:0] (DEBUG INFO) Executor start aborting (this does not indicate an error and you can ignore this message): INVALID_ARGUMENT: You must feed a value for placeholder tensor 'gradients/split_1_grad/concat/split_1/split_dim' with dtype int32\n",
      "\t [[{{node gradients/split_1_grad/concat/split_1/split_dim}}]]\n",
      "2023-06-30 22:53:23.722034: I tensorflow/core/common_runtime/executor.cc:1197] [/device:CPU:0] (DEBUG INFO) Executor start aborting (this does not indicate an error and you can ignore this message): INVALID_ARGUMENT: You must feed a value for placeholder tensor 'gradients/split_2_grad/concat/split_2/split_dim' with dtype int32\n",
      "\t [[{{node gradients/split_2_grad/concat/split_2/split_dim}}]]\n",
      "2023-06-30 22:53:23.723086: I tensorflow/core/common_runtime/executor.cc:1197] [/device:CPU:0] (DEBUG INFO) Executor start aborting (this does not indicate an error and you can ignore this message): INVALID_ARGUMENT: You must feed a value for placeholder tensor 'gradients/split_grad/concat/split/split_dim' with dtype int32\n",
      "\t [[{{node gradients/split_grad/concat/split/split_dim}}]]\n",
      "2023-06-30 22:53:23.723818: I tensorflow/core/common_runtime/executor.cc:1197] [/device:CPU:0] (DEBUG INFO) Executor start aborting (this does not indicate an error and you can ignore this message): INVALID_ARGUMENT: You must feed a value for placeholder tensor 'gradients/split_1_grad/concat/split_1/split_dim' with dtype int32\n",
      "\t [[{{node gradients/split_1_grad/concat/split_1/split_dim}}]]\n"
     ]
    },
    {
     "name": "stdout",
     "output_type": "stream",
     "text": [
      "190913/190913 - 168s - loss: 1.4397 - accuracy: 0.3450 - 168s/epoch - 877us/step\n",
      "Epoch 2/3\n",
      "190913/190913 - 167s - loss: 1.3926 - accuracy: 0.3450 - 167s/epoch - 874us/step\n",
      "Epoch 3/3\n",
      "190913/190913 - 166s - loss: 1.3809 - accuracy: 0.3448 - 166s/epoch - 870us/step\n"
     ]
    },
    {
     "name": "stderr",
     "output_type": "stream",
     "text": [
      "2023-06-30 23:01:44.073183: I tensorflow/core/common_runtime/executor.cc:1197] [/device:CPU:0] (DEBUG INFO) Executor start aborting (this does not indicate an error and you can ignore this message): INVALID_ARGUMENT: You must feed a value for placeholder tensor 'gradients/split_2_grad/concat/split_2/split_dim' with dtype int32\n",
      "\t [[{{node gradients/split_2_grad/concat/split_2/split_dim}}]]\n",
      "2023-06-30 23:01:44.074318: I tensorflow/core/common_runtime/executor.cc:1197] [/device:CPU:0] (DEBUG INFO) Executor start aborting (this does not indicate an error and you can ignore this message): INVALID_ARGUMENT: You must feed a value for placeholder tensor 'gradients/split_grad/concat/split/split_dim' with dtype int32\n",
      "\t [[{{node gradients/split_grad/concat/split/split_dim}}]]\n",
      "2023-06-30 23:01:44.075008: I tensorflow/core/common_runtime/executor.cc:1197] [/device:CPU:0] (DEBUG INFO) Executor start aborting (this does not indicate an error and you can ignore this message): INVALID_ARGUMENT: You must feed a value for placeholder tensor 'gradients/split_1_grad/concat/split_1/split_dim' with dtype int32\n",
      "\t [[{{node gradients/split_1_grad/concat/split_1/split_dim}}]]\n"
     ]
    },
    {
     "name": "stdout",
     "output_type": "stream",
     "text": [
      "Epoch 1/3\n",
      "190911/190911 - 165s - loss: 1.3703 - accuracy: 0.3455 - 165s/epoch - 863us/step\n",
      "Epoch 2/3\n",
      "190911/190911 - 166s - loss: 1.3637 - accuracy: 0.3455 - 166s/epoch - 869us/step\n",
      "Epoch 3/3\n",
      "190911/190911 - 167s - loss: 1.3611 - accuracy: 0.3456 - 167s/epoch - 876us/step\n",
      "Epoch 1/3\n",
      "190601/190601 - 168s - loss: 1.3643 - accuracy: 0.3444 - 168s/epoch - 879us/step\n",
      "Epoch 2/3\n",
      "190601/190601 - 167s - loss: 1.3636 - accuracy: 0.3444 - 167s/epoch - 875us/step\n",
      "Epoch 3/3\n",
      "190601/190601 - 167s - loss: 1.3618 - accuracy: 0.3443 - 167s/epoch - 878us/step\n",
      "Epoch 1/3\n",
      "190628/190628 - 165s - loss: 1.3581 - accuracy: 0.3446 - 165s/epoch - 868us/step\n",
      "Epoch 2/3\n",
      "190628/190628 - 167s - loss: 1.3547 - accuracy: 0.3447 - 167s/epoch - 874us/step\n",
      "Epoch 3/3\n",
      "190628/190628 - 167s - loss: 1.3528 - accuracy: 0.3447 - 167s/epoch - 877us/step\n",
      "Epoch 1/3\n",
      "190698/190698 - 166s - loss: 1.3505 - accuracy: 0.3447 - 166s/epoch - 872us/step\n",
      "Epoch 2/3\n",
      "190698/190698 - 167s - loss: 1.3482 - accuracy: 0.3447 - 167s/epoch - 877us/step\n",
      "Epoch 3/3\n",
      "190698/190698 - 165s - loss: 1.3477 - accuracy: 0.3447 - 165s/epoch - 867us/step\n",
      "Epoch 1/3\n",
      "190914/190914 - 167s - loss: 1.3441 - accuracy: 0.3454 - 167s/epoch - 873us/step\n",
      "Epoch 2/3\n",
      "190914/190914 - 166s - loss: 1.3417 - accuracy: 0.3454 - 166s/epoch - 868us/step\n",
      "Epoch 3/3\n",
      "190914/190914 - 167s - loss: 1.3418 - accuracy: 0.3454 - 167s/epoch - 873us/step\n",
      "Epoch 1/3\n",
      "190616/190616 - 166s - loss: 1.3412 - accuracy: 0.3446 - 166s/epoch - 869us/step\n",
      "Epoch 2/3\n",
      "190616/190616 - 166s - loss: 1.3398 - accuracy: 0.3446 - 166s/epoch - 873us/step\n",
      "Epoch 3/3\n",
      "190616/190616 - 167s - loss: 1.3396 - accuracy: 0.3446 - 167s/epoch - 874us/step\n",
      "Epoch 1/3\n",
      "190664/190664 - 166s - loss: 1.3376 - accuracy: 0.3448 - 166s/epoch - 872us/step\n",
      "Epoch 2/3\n",
      "190664/190664 - 167s - loss: 1.3360 - accuracy: 0.3447 - 167s/epoch - 877us/step\n",
      "Epoch 3/3\n",
      "190664/190664 - 165s - loss: 1.3360 - accuracy: 0.3447 - 165s/epoch - 866us/step\n",
      "Epoch 1/3\n",
      "190699/190699 - 166s - loss: 1.3384 - accuracy: 0.3438 - 166s/epoch - 871us/step\n",
      "Epoch 2/3\n",
      "190699/190699 - 166s - loss: 1.3378 - accuracy: 0.3438 - 166s/epoch - 871us/step\n",
      "Epoch 3/3\n",
      "190699/190699 - 166s - loss: 1.3373 - accuracy: 0.3438 - 166s/epoch - 872us/step\n",
      "Epoch 1/3\n",
      "190915/190915 - 166s - loss: 1.3338 - accuracy: 0.3454 - 166s/epoch - 871us/step\n",
      "Epoch 2/3\n",
      "190915/190915 - 166s - loss: 1.3350 - accuracy: 0.3454 - 166s/epoch - 871us/step\n",
      "Epoch 3/3\n",
      "190915/190915 - 166s - loss: 1.3339 - accuracy: 0.3453 - 166s/epoch - 871us/step\n",
      "------------------------------------------------------------------------\n",
      "Score per fold\n",
      "------------------------------------------------------------------------\n",
      "> Fold 1 - Loss: 1.3693020343780518 - Accuracy: 34.48997139930725%\n",
      "------------------------------------------------------------------------\n",
      "> Fold 2 - Loss: 1.3763421773910522 - Accuracy: 33.71197581291199%\n",
      "------------------------------------------------------------------------\n",
      "> Fold 3 - Loss: 1.3266122341156006 - Accuracy: 34.782201051712036%\n",
      "------------------------------------------------------------------------\n",
      "> Fold 4 - Loss: 1.3282616138458252 - Accuracy: 34.67148244380951%\n",
      "------------------------------------------------------------------------\n",
      "> Fold 5 - Loss: 1.33486807346344 - Accuracy: 34.6162885427475%\n",
      "------------------------------------------------------------------------\n",
      "> Fold 6 - Loss: 1.3464033603668213 - Accuracy: 33.97822976112366%\n",
      "------------------------------------------------------------------------\n",
      "> Fold 7 - Loss: 1.3278766870498657 - Accuracy: 34.7457230091095%\n",
      "------------------------------------------------------------------------\n",
      "> Fold 8 - Loss: 1.3544336557388306 - Accuracy: 34.560999274253845%\n",
      "------------------------------------------------------------------------\n",
      "> Fold 9 - Loss: 1.3408316373825073 - Accuracy: 35.4084312915802%\n",
      "------------------------------------------------------------------------\n",
      "> Fold 10 - Loss: 1.3613594770431519 - Accuracy: 33.97509157657623%\n",
      "------------------------------------------------------------------------\n",
      "Average scores for all folds:\n",
      "> Accuracy: 34.49403941631317 (+- 0.4669491673973722)\n",
      "> Loss: 1.3466290950775146\n",
      "------------------------------------------------------------------------\n"
     ]
    }
   ],
   "source": [
    "cols = [\"StationEnd\", \"WorkingDay\", \"Hour\", \"Count\", \"Count1\", \"Count1week\", \"Count2week\", \"Count3week\", \"Temp\", \"ATemp\", \"WeatherSituation_1.0\", \"WeatherSituation_2.0\", \"WeatherSituation_3.0\", \"WeatherSituation_4.0\", \"Humidity\"]\n",
    "\n",
    "met1 = dataset[[col for col in dataset.columns if col in cols]]\n",
    "\n",
    "X = met1.drop(columns=[\"Count\"])\n",
    "y = met1[\"Count\"]\n",
    "\n",
    "X = np.reshape(X.values, (X.shape[0], 1, X.shape[1]))\n",
    "\n",
    "# Define the K-fold Cross Validator\n",
    "kfold = GroupKFold(n_splits=10)\n",
    "\n",
    "acc_per_fold = []\n",
    "loss_per_fold = []\n",
    "\n",
    "model_met1 = Sequential()\n",
    "model_met1.add(LSTM(4, input_shape=(1,met1.shape[1]-1)))\n",
    "model_met1.add(Dense(1))\n",
    "model_met1.compile(loss='mean_absolute_error', optimizer='adam', metrics=[\"accuracy\"])\n",
    "\n",
    "# K-fold Cross Validation model evaluation\n",
    "for train, test in kfold.split(X, y, dataset[\"Day\"]):\n",
    "    model_met1.fit(X[train], y[train], epochs=epochs, batch_size=batch_size, verbose=verbose)\n",
    "\n",
    "    # Generate generalization metrics\n",
    "    scores = model_met1.evaluate(X[test], y[test], verbose=0)\n",
    "    acc_per_fold.append(scores[1] * 100)\n",
    "    loss_per_fold.append(scores[0])\n",
    "\n",
    "print('------------------------------------------------------------------------')\n",
    "print('Score per fold')\n",
    "for i in range(0, len(acc_per_fold)):\n",
    "    print('------------------------------------------------------------------------')\n",
    "    print(f'> Fold {i+1} - Loss: {loss_per_fold[i]} - Accuracy: {acc_per_fold[i]}%')\n",
    "print('------------------------------------------------------------------------')\n",
    "print('Average scores for all folds:')\n",
    "print(f'> Accuracy: {np.mean(acc_per_fold)} (+- {np.std(acc_per_fold)})')\n",
    "print(f'> Loss: {np.mean(loss_per_fold)}')\n",
    "print('------------------------------------------------------------------------')"
   ]
  },
  {
   "attachments": {},
   "cell_type": "markdown",
   "metadata": {},
   "source": [
    "### Method 5\n",
    "Input: ..., Temp, ATemp, Humidity, WeatherSituation, Windspeed\n",
    "\n",
    "Output: c(t+1)"
   ]
  },
  {
   "cell_type": "code",
   "execution_count": 30,
   "metadata": {},
   "outputs": [
    {
     "name": "stdout",
     "output_type": "stream",
     "text": [
      "Epoch 1/3\n"
     ]
    },
    {
     "name": "stderr",
     "output_type": "stream",
     "text": [
      "2023-07-01 00:16:39.583988: I tensorflow/core/common_runtime/executor.cc:1197] [/device:CPU:0] (DEBUG INFO) Executor start aborting (this does not indicate an error and you can ignore this message): INVALID_ARGUMENT: You must feed a value for placeholder tensor 'gradients/split_2_grad/concat/split_2/split_dim' with dtype int32\n",
      "\t [[{{node gradients/split_2_grad/concat/split_2/split_dim}}]]\n",
      "2023-07-01 00:16:39.584916: I tensorflow/core/common_runtime/executor.cc:1197] [/device:CPU:0] (DEBUG INFO) Executor start aborting (this does not indicate an error and you can ignore this message): INVALID_ARGUMENT: You must feed a value for placeholder tensor 'gradients/split_grad/concat/split/split_dim' with dtype int32\n",
      "\t [[{{node gradients/split_grad/concat/split/split_dim}}]]\n",
      "2023-07-01 00:16:39.585646: I tensorflow/core/common_runtime/executor.cc:1197] [/device:CPU:0] (DEBUG INFO) Executor start aborting (this does not indicate an error and you can ignore this message): INVALID_ARGUMENT: You must feed a value for placeholder tensor 'gradients/split_1_grad/concat/split_1/split_dim' with dtype int32\n",
      "\t [[{{node gradients/split_1_grad/concat/split_1/split_dim}}]]\n",
      "2023-07-01 00:16:39.753518: I tensorflow/core/common_runtime/executor.cc:1197] [/device:CPU:0] (DEBUG INFO) Executor start aborting (this does not indicate an error and you can ignore this message): INVALID_ARGUMENT: You must feed a value for placeholder tensor 'gradients/split_2_grad/concat/split_2/split_dim' with dtype int32\n",
      "\t [[{{node gradients/split_2_grad/concat/split_2/split_dim}}]]\n",
      "2023-07-01 00:16:39.754333: I tensorflow/core/common_runtime/executor.cc:1197] [/device:CPU:0] (DEBUG INFO) Executor start aborting (this does not indicate an error and you can ignore this message): INVALID_ARGUMENT: You must feed a value for placeholder tensor 'gradients/split_grad/concat/split/split_dim' with dtype int32\n",
      "\t [[{{node gradients/split_grad/concat/split/split_dim}}]]\n",
      "2023-07-01 00:16:39.755113: I tensorflow/core/common_runtime/executor.cc:1197] [/device:CPU:0] (DEBUG INFO) Executor start aborting (this does not indicate an error and you can ignore this message): INVALID_ARGUMENT: You must feed a value for placeholder tensor 'gradients/split_1_grad/concat/split_1/split_dim' with dtype int32\n",
      "\t [[{{node gradients/split_1_grad/concat/split_1/split_dim}}]]\n",
      "2023-07-01 00:16:40.045488: I tensorflow/core/common_runtime/executor.cc:1197] [/device:CPU:0] (DEBUG INFO) Executor start aborting (this does not indicate an error and you can ignore this message): INVALID_ARGUMENT: You must feed a value for placeholder tensor 'gradients/split_2_grad/concat/split_2/split_dim' with dtype int32\n",
      "\t [[{{node gradients/split_2_grad/concat/split_2/split_dim}}]]\n",
      "2023-07-01 00:16:40.047020: I tensorflow/core/common_runtime/executor.cc:1197] [/device:CPU:0] (DEBUG INFO) Executor start aborting (this does not indicate an error and you can ignore this message): INVALID_ARGUMENT: You must feed a value for placeholder tensor 'gradients/split_grad/concat/split/split_dim' with dtype int32\n",
      "\t [[{{node gradients/split_grad/concat/split/split_dim}}]]\n",
      "2023-07-01 00:16:40.047768: I tensorflow/core/common_runtime/executor.cc:1197] [/device:CPU:0] (DEBUG INFO) Executor start aborting (this does not indicate an error and you can ignore this message): INVALID_ARGUMENT: You must feed a value for placeholder tensor 'gradients/split_1_grad/concat/split_1/split_dim' with dtype int32\n",
      "\t [[{{node gradients/split_1_grad/concat/split_1/split_dim}}]]\n"
     ]
    },
    {
     "name": "stdout",
     "output_type": "stream",
     "text": [
      "190913/190913 - 172s - loss: 1.4385 - accuracy: 0.3447 - 172s/epoch - 902us/step\n",
      "Epoch 2/3\n",
      "190913/190913 - 169s - loss: 1.4025 - accuracy: 0.3450 - 169s/epoch - 887us/step\n",
      "Epoch 3/3\n",
      "190913/190913 - 169s - loss: 1.3875 - accuracy: 0.3450 - 169s/epoch - 885us/step\n"
     ]
    },
    {
     "name": "stderr",
     "output_type": "stream",
     "text": [
      "2023-07-01 00:25:10.462916: I tensorflow/core/common_runtime/executor.cc:1197] [/device:CPU:0] (DEBUG INFO) Executor start aborting (this does not indicate an error and you can ignore this message): INVALID_ARGUMENT: You must feed a value for placeholder tensor 'gradients/split_2_grad/concat/split_2/split_dim' with dtype int32\n",
      "\t [[{{node gradients/split_2_grad/concat/split_2/split_dim}}]]\n",
      "2023-07-01 00:25:10.463973: I tensorflow/core/common_runtime/executor.cc:1197] [/device:CPU:0] (DEBUG INFO) Executor start aborting (this does not indicate an error and you can ignore this message): INVALID_ARGUMENT: You must feed a value for placeholder tensor 'gradients/split_grad/concat/split/split_dim' with dtype int32\n",
      "\t [[{{node gradients/split_grad/concat/split/split_dim}}]]\n",
      "2023-07-01 00:25:10.464618: I tensorflow/core/common_runtime/executor.cc:1197] [/device:CPU:0] (DEBUG INFO) Executor start aborting (this does not indicate an error and you can ignore this message): INVALID_ARGUMENT: You must feed a value for placeholder tensor 'gradients/split_1_grad/concat/split_1/split_dim' with dtype int32\n",
      "\t [[{{node gradients/split_1_grad/concat/split_1/split_dim}}]]\n"
     ]
    },
    {
     "name": "stdout",
     "output_type": "stream",
     "text": [
      "Epoch 1/3\n",
      "190911/190911 - 170s - loss: 1.3767 - accuracy: 0.3459 - 170s/epoch - 889us/step\n",
      "Epoch 2/3\n",
      "190911/190911 - 169s - loss: 1.3696 - accuracy: 0.3459 - 169s/epoch - 888us/step\n",
      "Epoch 3/3\n",
      "190911/190911 - 170s - loss: 1.3660 - accuracy: 0.3459 - 170s/epoch - 889us/step\n",
      "Epoch 1/3\n",
      "190601/190601 - 168s - loss: 1.3692 - accuracy: 0.3447 - 168s/epoch - 879us/step\n",
      "Epoch 2/3\n",
      "190601/190601 - 167s - loss: 1.3648 - accuracy: 0.3447 - 167s/epoch - 879us/step\n",
      "Epoch 3/3\n",
      "190601/190601 - 168s - loss: 1.3591 - accuracy: 0.3446 - 168s/epoch - 880us/step\n",
      "Epoch 1/3\n",
      "190628/190628 - 169s - loss: 1.3539 - accuracy: 0.3447 - 169s/epoch - 885us/step\n",
      "Epoch 2/3\n",
      "190628/190628 - 170s - loss: 1.3514 - accuracy: 0.3447 - 170s/epoch - 892us/step\n",
      "Epoch 3/3\n",
      "190628/190628 - 168s - loss: 1.3499 - accuracy: 0.3447 - 168s/epoch - 881us/step\n",
      "Epoch 1/3\n",
      "190698/190698 - 168s - loss: 1.3478 - accuracy: 0.3448 - 168s/epoch - 879us/step\n",
      "Epoch 2/3\n",
      "190698/190698 - 168s - loss: 1.3469 - accuracy: 0.3447 - 168s/epoch - 883us/step\n",
      "Epoch 3/3\n",
      "190698/190698 - 169s - loss: 1.3449 - accuracy: 0.3447 - 169s/epoch - 887us/step\n",
      "Epoch 1/3\n",
      "190914/190914 - 169s - loss: 1.3421 - accuracy: 0.3455 - 169s/epoch - 884us/step\n",
      "Epoch 2/3\n",
      "190914/190914 - 167s - loss: 1.3418 - accuracy: 0.3455 - 167s/epoch - 873us/step\n",
      "Epoch 3/3\n",
      "190914/190914 - 168s - loss: 1.3408 - accuracy: 0.3455 - 168s/epoch - 878us/step\n",
      "Epoch 1/3\n",
      "190616/190616 - 167s - loss: 1.3396 - accuracy: 0.3447 - 167s/epoch - 876us/step\n",
      "Epoch 2/3\n",
      "190616/190616 - 170s - loss: 1.3403 - accuracy: 0.3447 - 170s/epoch - 889us/step\n",
      "Epoch 3/3\n",
      "190616/190616 - 168s - loss: 1.3384 - accuracy: 0.3447 - 168s/epoch - 881us/step\n",
      "Epoch 1/3\n",
      "190664/190664 - 167s - loss: 1.3367 - accuracy: 0.3449 - 167s/epoch - 877us/step\n",
      "Epoch 2/3\n",
      "190664/190664 - 168s - loss: 1.3367 - accuracy: 0.3449 - 168s/epoch - 882us/step\n",
      "Epoch 3/3\n",
      "190664/190664 - 168s - loss: 1.3351 - accuracy: 0.3449 - 168s/epoch - 882us/step\n",
      "Epoch 1/3\n",
      "190699/190699 - 167s - loss: 1.3372 - accuracy: 0.3439 - 167s/epoch - 875us/step\n",
      "Epoch 2/3\n",
      "190699/190699 - 168s - loss: 1.3366 - accuracy: 0.3440 - 168s/epoch - 883us/step\n",
      "Epoch 3/3\n",
      "190699/190699 - 168s - loss: 1.3368 - accuracy: 0.3439 - 168s/epoch - 880us/step\n",
      "Epoch 1/3\n",
      "190915/190915 - 167s - loss: 1.3339 - accuracy: 0.3455 - 167s/epoch - 877us/step\n",
      "Epoch 2/3\n",
      "190915/190915 - 168s - loss: 1.3328 - accuracy: 0.3455 - 168s/epoch - 879us/step\n",
      "Epoch 3/3\n",
      "190915/190915 - 168s - loss: 1.3318 - accuracy: 0.3455 - 168s/epoch - 878us/step\n",
      "------------------------------------------------------------------------\n",
      "Score per fold\n",
      "------------------------------------------------------------------------\n",
      "> Fold 1 - Loss: 1.377773404121399 - Accuracy: 34.48997139930725%\n",
      "------------------------------------------------------------------------\n",
      "> Fold 2 - Loss: 1.3984571695327759 - Accuracy: 33.716729283332825%\n",
      "------------------------------------------------------------------------\n",
      "> Fold 3 - Loss: 1.3186824321746826 - Accuracy: 34.79156792163849%\n",
      "------------------------------------------------------------------------\n",
      "> Fold 4 - Loss: 1.352561593055725 - Accuracy: 34.690240025520325%\n",
      "------------------------------------------------------------------------\n",
      "> Fold 5 - Loss: 1.3202335834503174 - Accuracy: 34.6162885427475%\n",
      "------------------------------------------------------------------------\n",
      "> Fold 6 - Loss: 1.3408758640289307 - Accuracy: 33.97347629070282%\n",
      "------------------------------------------------------------------------\n",
      "> Fold 7 - Loss: 1.3467307090759277 - Accuracy: 34.7457230091095%\n",
      "------------------------------------------------------------------------\n",
      "> Fold 8 - Loss: 1.3603016138076782 - Accuracy: 34.565696120262146%\n",
      "------------------------------------------------------------------------\n",
      "> Fold 9 - Loss: 1.3242452144622803 - Accuracy: 35.41313707828522%\n",
      "------------------------------------------------------------------------\n",
      "> Fold 10 - Loss: 1.3586019277572632 - Accuracy: 33.99885892868042%\n",
      "------------------------------------------------------------------------\n",
      "Average scores for all folds:\n",
      "> Accuracy: 34.50016885995865 (+- 0.4663929823308014)\n",
      "> Loss: 1.349846351146698\n",
      "------------------------------------------------------------------------\n"
     ]
    }
   ],
   "source": [
    "cols = [\"StationEnd\", \"WorkingDay\", \"Hour\", \"Count\", \"Count1\", \"Count1week\", \"Count2week\", \"Count3week\", \"Temp\", \"ATemp\", \"WeatherSituation_1.0\", \"WeatherSituation_2.0\", \"WeatherSituation_3.0\", \"WeatherSituation_4.0\", \"Humidity\", \"Windspeed\"]\n",
    "\n",
    "met1 = dataset[[col for col in dataset.columns if col in cols]]\n",
    "\n",
    "X = met1.drop(columns=[\"Count\"])\n",
    "y = met1[\"Count\"]\n",
    "\n",
    "X = np.reshape(X.values, (X.shape[0], 1, X.shape[1]))\n",
    "\n",
    "# Define the K-fold Cross Validator\n",
    "kfold = GroupKFold(n_splits=10)\n",
    "\n",
    "acc_per_fold = []\n",
    "loss_per_fold = []\n",
    "\n",
    "model_met1 = Sequential()\n",
    "model_met1.add(LSTM(4, input_shape=(1,met1.shape[1]-1)))\n",
    "model_met1.add(Dense(1))\n",
    "model_met1.compile(loss='mean_absolute_error', optimizer='adam', metrics=[\"accuracy\"])\n",
    "\n",
    "# K-fold Cross Validation model evaluation\n",
    "for train, test in kfold.split(X, y, dataset[\"Day\"]):\n",
    "    model_met1.fit(X[train], y[train], epochs=epochs, batch_size=batch_size, verbose=verbose)\n",
    "\n",
    "    # Generate generalization metrics\n",
    "    scores = model_met1.evaluate(X[test], y[test], verbose=0)\n",
    "    acc_per_fold.append(scores[1] * 100)\n",
    "    loss_per_fold.append(scores[0])\n",
    "\n",
    "print('------------------------------------------------------------------------')\n",
    "print('Score per fold')\n",
    "for i in range(0, len(acc_per_fold)):\n",
    "    print('------------------------------------------------------------------------')\n",
    "    print(f'> Fold {i+1} - Loss: {loss_per_fold[i]} - Accuracy: {acc_per_fold[i]}%')\n",
    "print('------------------------------------------------------------------------')\n",
    "print('Average scores for all folds:')\n",
    "print(f'> Accuracy: {np.mean(acc_per_fold)} (+- {np.std(acc_per_fold)})')\n",
    "print(f'> Loss: {np.mean(loss_per_fold)}')\n",
    "print('------------------------------------------------------------------------')"
   ]
  },
  {
   "attachments": {},
   "cell_type": "markdown",
   "metadata": {},
   "source": [
    "### Method 6\n",
    "Input: ..., Temp, ATemp, WeatherSituation\n",
    "\n",
    "Output: c(t+1)"
   ]
  },
  {
   "cell_type": "code",
   "execution_count": 36,
   "metadata": {},
   "outputs": [
    {
     "name": "stdout",
     "output_type": "stream",
     "text": [
      "Epoch 1/3\n"
     ]
    },
    {
     "name": "stderr",
     "output_type": "stream",
     "text": [
      "2023-07-03 09:18:46.125422: I tensorflow/core/common_runtime/executor.cc:1197] [/device:CPU:0] (DEBUG INFO) Executor start aborting (this does not indicate an error and you can ignore this message): INVALID_ARGUMENT: You must feed a value for placeholder tensor 'gradients/split_2_grad/concat/split_2/split_dim' with dtype int32\n",
      "\t [[{{node gradients/split_2_grad/concat/split_2/split_dim}}]]\n",
      "2023-07-03 09:18:46.126423: I tensorflow/core/common_runtime/executor.cc:1197] [/device:CPU:0] (DEBUG INFO) Executor start aborting (this does not indicate an error and you can ignore this message): INVALID_ARGUMENT: You must feed a value for placeholder tensor 'gradients/split_grad/concat/split/split_dim' with dtype int32\n",
      "\t [[{{node gradients/split_grad/concat/split/split_dim}}]]\n",
      "2023-07-03 09:18:46.127044: I tensorflow/core/common_runtime/executor.cc:1197] [/device:CPU:0] (DEBUG INFO) Executor start aborting (this does not indicate an error and you can ignore this message): INVALID_ARGUMENT: You must feed a value for placeholder tensor 'gradients/split_1_grad/concat/split_1/split_dim' with dtype int32\n",
      "\t [[{{node gradients/split_1_grad/concat/split_1/split_dim}}]]\n",
      "2023-07-03 09:18:46.319825: I tensorflow/core/common_runtime/executor.cc:1197] [/device:CPU:0] (DEBUG INFO) Executor start aborting (this does not indicate an error and you can ignore this message): INVALID_ARGUMENT: You must feed a value for placeholder tensor 'gradients/split_2_grad/concat/split_2/split_dim' with dtype int32\n",
      "\t [[{{node gradients/split_2_grad/concat/split_2/split_dim}}]]\n",
      "2023-07-03 09:18:46.320816: I tensorflow/core/common_runtime/executor.cc:1197] [/device:CPU:0] (DEBUG INFO) Executor start aborting (this does not indicate an error and you can ignore this message): INVALID_ARGUMENT: You must feed a value for placeholder tensor 'gradients/split_grad/concat/split/split_dim' with dtype int32\n",
      "\t [[{{node gradients/split_grad/concat/split/split_dim}}]]\n",
      "2023-07-03 09:18:46.321794: I tensorflow/core/common_runtime/executor.cc:1197] [/device:CPU:0] (DEBUG INFO) Executor start aborting (this does not indicate an error and you can ignore this message): INVALID_ARGUMENT: You must feed a value for placeholder tensor 'gradients/split_1_grad/concat/split_1/split_dim' with dtype int32\n",
      "\t [[{{node gradients/split_1_grad/concat/split_1/split_dim}}]]\n",
      "2023-07-03 09:18:46.647331: I tensorflow/core/common_runtime/executor.cc:1197] [/device:CPU:0] (DEBUG INFO) Executor start aborting (this does not indicate an error and you can ignore this message): INVALID_ARGUMENT: You must feed a value for placeholder tensor 'gradients/split_2_grad/concat/split_2/split_dim' with dtype int32\n",
      "\t [[{{node gradients/split_2_grad/concat/split_2/split_dim}}]]\n",
      "2023-07-03 09:18:46.648375: I tensorflow/core/common_runtime/executor.cc:1197] [/device:CPU:0] (DEBUG INFO) Executor start aborting (this does not indicate an error and you can ignore this message): INVALID_ARGUMENT: You must feed a value for placeholder tensor 'gradients/split_grad/concat/split/split_dim' with dtype int32\n",
      "\t [[{{node gradients/split_grad/concat/split/split_dim}}]]\n",
      "2023-07-03 09:18:46.649050: I tensorflow/core/common_runtime/executor.cc:1197] [/device:CPU:0] (DEBUG INFO) Executor start aborting (this does not indicate an error and you can ignore this message): INVALID_ARGUMENT: You must feed a value for placeholder tensor 'gradients/split_1_grad/concat/split_1/split_dim' with dtype int32\n",
      "\t [[{{node gradients/split_1_grad/concat/split_1/split_dim}}]]\n"
     ]
    },
    {
     "name": "stdout",
     "output_type": "stream",
     "text": [
      "190913/190913 - 156s - loss: 1.4380 - accuracy: 0.3448 - 156s/epoch - 817us/step\n",
      "Epoch 2/3\n"
     ]
    },
    {
     "ename": "KeyboardInterrupt",
     "evalue": "",
     "output_type": "error",
     "traceback": [
      "\u001b[0;31m---------------------------------------------------------------------------\u001b[0m",
      "\u001b[0;31mKeyboardInterrupt\u001b[0m                         Traceback (most recent call last)",
      "Cell \u001b[0;32mIn[36], line 23\u001b[0m\n\u001b[1;32m     21\u001b[0m \u001b[39m# K-fold Cross Validation model evaluation\u001b[39;00m\n\u001b[1;32m     22\u001b[0m \u001b[39mfor\u001b[39;00m train, test \u001b[39min\u001b[39;00m kfold\u001b[39m.\u001b[39msplit(X, y, dataset[\u001b[39m\"\u001b[39m\u001b[39mDay\u001b[39m\u001b[39m\"\u001b[39m]):\n\u001b[0;32m---> 23\u001b[0m     model_met1\u001b[39m.\u001b[39;49mfit(X[train], y[train], epochs\u001b[39m=\u001b[39;49mepochs, batch_size\u001b[39m=\u001b[39;49mbatch_size, verbose\u001b[39m=\u001b[39;49mverbose)\n\u001b[1;32m     25\u001b[0m     \u001b[39m# Generate generalization metrics\u001b[39;00m\n\u001b[1;32m     26\u001b[0m     scores \u001b[39m=\u001b[39m model_met1\u001b[39m.\u001b[39mevaluate(X[test], y[test], verbose\u001b[39m=\u001b[39m\u001b[39m0\u001b[39m)\n",
      "File \u001b[0;32m~/Desktop/BikeSharingDeepLearning/venv/lib/python3.8/site-packages/keras/utils/traceback_utils.py:65\u001b[0m, in \u001b[0;36mfilter_traceback.<locals>.error_handler\u001b[0;34m(*args, **kwargs)\u001b[0m\n\u001b[1;32m     63\u001b[0m filtered_tb \u001b[39m=\u001b[39m \u001b[39mNone\u001b[39;00m\n\u001b[1;32m     64\u001b[0m \u001b[39mtry\u001b[39;00m:\n\u001b[0;32m---> 65\u001b[0m     \u001b[39mreturn\u001b[39;00m fn(\u001b[39m*\u001b[39;49margs, \u001b[39m*\u001b[39;49m\u001b[39m*\u001b[39;49mkwargs)\n\u001b[1;32m     66\u001b[0m \u001b[39mexcept\u001b[39;00m \u001b[39mException\u001b[39;00m \u001b[39mas\u001b[39;00m e:\n\u001b[1;32m     67\u001b[0m     filtered_tb \u001b[39m=\u001b[39m _process_traceback_frames(e\u001b[39m.\u001b[39m__traceback__)\n",
      "File \u001b[0;32m~/Desktop/BikeSharingDeepLearning/venv/lib/python3.8/site-packages/keras/engine/training.py:1685\u001b[0m, in \u001b[0;36mModel.fit\u001b[0;34m(self, x, y, batch_size, epochs, verbose, callbacks, validation_split, validation_data, shuffle, class_weight, sample_weight, initial_epoch, steps_per_epoch, validation_steps, validation_batch_size, validation_freq, max_queue_size, workers, use_multiprocessing)\u001b[0m\n\u001b[1;32m   1677\u001b[0m \u001b[39mwith\u001b[39;00m tf\u001b[39m.\u001b[39mprofiler\u001b[39m.\u001b[39mexperimental\u001b[39m.\u001b[39mTrace(\n\u001b[1;32m   1678\u001b[0m     \u001b[39m\"\u001b[39m\u001b[39mtrain\u001b[39m\u001b[39m\"\u001b[39m,\n\u001b[1;32m   1679\u001b[0m     epoch_num\u001b[39m=\u001b[39mepoch,\n\u001b[0;32m   (...)\u001b[0m\n\u001b[1;32m   1682\u001b[0m     _r\u001b[39m=\u001b[39m\u001b[39m1\u001b[39m,\n\u001b[1;32m   1683\u001b[0m ):\n\u001b[1;32m   1684\u001b[0m     callbacks\u001b[39m.\u001b[39mon_train_batch_begin(step)\n\u001b[0;32m-> 1685\u001b[0m     tmp_logs \u001b[39m=\u001b[39m \u001b[39mself\u001b[39;49m\u001b[39m.\u001b[39;49mtrain_function(iterator)\n\u001b[1;32m   1686\u001b[0m     \u001b[39mif\u001b[39;00m data_handler\u001b[39m.\u001b[39mshould_sync:\n\u001b[1;32m   1687\u001b[0m         context\u001b[39m.\u001b[39masync_wait()\n",
      "File \u001b[0;32m~/Desktop/BikeSharingDeepLearning/venv/lib/python3.8/site-packages/tensorflow/python/util/traceback_utils.py:150\u001b[0m, in \u001b[0;36mfilter_traceback.<locals>.error_handler\u001b[0;34m(*args, **kwargs)\u001b[0m\n\u001b[1;32m    148\u001b[0m filtered_tb \u001b[39m=\u001b[39m \u001b[39mNone\u001b[39;00m\n\u001b[1;32m    149\u001b[0m \u001b[39mtry\u001b[39;00m:\n\u001b[0;32m--> 150\u001b[0m   \u001b[39mreturn\u001b[39;00m fn(\u001b[39m*\u001b[39;49margs, \u001b[39m*\u001b[39;49m\u001b[39m*\u001b[39;49mkwargs)\n\u001b[1;32m    151\u001b[0m \u001b[39mexcept\u001b[39;00m \u001b[39mException\u001b[39;00m \u001b[39mas\u001b[39;00m e:\n\u001b[1;32m    152\u001b[0m   filtered_tb \u001b[39m=\u001b[39m _process_traceback_frames(e\u001b[39m.\u001b[39m__traceback__)\n",
      "File \u001b[0;32m~/Desktop/BikeSharingDeepLearning/venv/lib/python3.8/site-packages/tensorflow/python/eager/polymorphic_function/polymorphic_function.py:894\u001b[0m, in \u001b[0;36mFunction.__call__\u001b[0;34m(self, *args, **kwds)\u001b[0m\n\u001b[1;32m    891\u001b[0m compiler \u001b[39m=\u001b[39m \u001b[39m\"\u001b[39m\u001b[39mxla\u001b[39m\u001b[39m\"\u001b[39m \u001b[39mif\u001b[39;00m \u001b[39mself\u001b[39m\u001b[39m.\u001b[39m_jit_compile \u001b[39melse\u001b[39;00m \u001b[39m\"\u001b[39m\u001b[39mnonXla\u001b[39m\u001b[39m\"\u001b[39m\n\u001b[1;32m    893\u001b[0m \u001b[39mwith\u001b[39;00m OptionalXlaContext(\u001b[39mself\u001b[39m\u001b[39m.\u001b[39m_jit_compile):\n\u001b[0;32m--> 894\u001b[0m   result \u001b[39m=\u001b[39m \u001b[39mself\u001b[39;49m\u001b[39m.\u001b[39;49m_call(\u001b[39m*\u001b[39;49margs, \u001b[39m*\u001b[39;49m\u001b[39m*\u001b[39;49mkwds)\n\u001b[1;32m    896\u001b[0m new_tracing_count \u001b[39m=\u001b[39m \u001b[39mself\u001b[39m\u001b[39m.\u001b[39mexperimental_get_tracing_count()\n\u001b[1;32m    897\u001b[0m without_tracing \u001b[39m=\u001b[39m (tracing_count \u001b[39m==\u001b[39m new_tracing_count)\n",
      "File \u001b[0;32m~/Desktop/BikeSharingDeepLearning/venv/lib/python3.8/site-packages/tensorflow/python/eager/polymorphic_function/polymorphic_function.py:926\u001b[0m, in \u001b[0;36mFunction._call\u001b[0;34m(self, *args, **kwds)\u001b[0m\n\u001b[1;32m    923\u001b[0m   \u001b[39mself\u001b[39m\u001b[39m.\u001b[39m_lock\u001b[39m.\u001b[39mrelease()\n\u001b[1;32m    924\u001b[0m   \u001b[39m# In this case we have created variables on the first call, so we run the\u001b[39;00m\n\u001b[1;32m    925\u001b[0m   \u001b[39m# defunned version which is guaranteed to never create variables.\u001b[39;00m\n\u001b[0;32m--> 926\u001b[0m   \u001b[39mreturn\u001b[39;00m \u001b[39mself\u001b[39;49m\u001b[39m.\u001b[39;49m_no_variable_creation_fn(\u001b[39m*\u001b[39;49margs, \u001b[39m*\u001b[39;49m\u001b[39m*\u001b[39;49mkwds)  \u001b[39m# pylint: disable=not-callable\u001b[39;00m\n\u001b[1;32m    927\u001b[0m \u001b[39melif\u001b[39;00m \u001b[39mself\u001b[39m\u001b[39m.\u001b[39m_variable_creation_fn \u001b[39mis\u001b[39;00m \u001b[39mnot\u001b[39;00m \u001b[39mNone\u001b[39;00m:\n\u001b[1;32m    928\u001b[0m   \u001b[39m# Release the lock early so that multiple threads can perform the call\u001b[39;00m\n\u001b[1;32m    929\u001b[0m   \u001b[39m# in parallel.\u001b[39;00m\n\u001b[1;32m    930\u001b[0m   \u001b[39mself\u001b[39m\u001b[39m.\u001b[39m_lock\u001b[39m.\u001b[39mrelease()\n",
      "File \u001b[0;32m~/Desktop/BikeSharingDeepLearning/venv/lib/python3.8/site-packages/tensorflow/python/eager/polymorphic_function/tracing_compiler.py:143\u001b[0m, in \u001b[0;36mTracingCompiler.__call__\u001b[0;34m(self, *args, **kwargs)\u001b[0m\n\u001b[1;32m    140\u001b[0m \u001b[39mwith\u001b[39;00m \u001b[39mself\u001b[39m\u001b[39m.\u001b[39m_lock:\n\u001b[1;32m    141\u001b[0m   (concrete_function,\n\u001b[1;32m    142\u001b[0m    filtered_flat_args) \u001b[39m=\u001b[39m \u001b[39mself\u001b[39m\u001b[39m.\u001b[39m_maybe_define_function(args, kwargs)\n\u001b[0;32m--> 143\u001b[0m \u001b[39mreturn\u001b[39;00m concrete_function\u001b[39m.\u001b[39;49m_call_flat(\n\u001b[1;32m    144\u001b[0m     filtered_flat_args, captured_inputs\u001b[39m=\u001b[39;49mconcrete_function\u001b[39m.\u001b[39;49mcaptured_inputs)\n",
      "File \u001b[0;32m~/Desktop/BikeSharingDeepLearning/venv/lib/python3.8/site-packages/tensorflow/python/eager/polymorphic_function/monomorphic_function.py:1757\u001b[0m, in \u001b[0;36mConcreteFunction._call_flat\u001b[0;34m(self, args, captured_inputs, cancellation_manager)\u001b[0m\n\u001b[1;32m   1753\u001b[0m possible_gradient_type \u001b[39m=\u001b[39m gradients_util\u001b[39m.\u001b[39mPossibleTapeGradientTypes(args)\n\u001b[1;32m   1754\u001b[0m \u001b[39mif\u001b[39;00m (possible_gradient_type \u001b[39m==\u001b[39m gradients_util\u001b[39m.\u001b[39mPOSSIBLE_GRADIENT_TYPES_NONE\n\u001b[1;32m   1755\u001b[0m     \u001b[39mand\u001b[39;00m executing_eagerly):\n\u001b[1;32m   1756\u001b[0m   \u001b[39m# No tape is watching; skip to running the function.\u001b[39;00m\n\u001b[0;32m-> 1757\u001b[0m   \u001b[39mreturn\u001b[39;00m \u001b[39mself\u001b[39m\u001b[39m.\u001b[39m_build_call_outputs(\u001b[39mself\u001b[39;49m\u001b[39m.\u001b[39;49m_inference_function\u001b[39m.\u001b[39;49mcall(\n\u001b[1;32m   1758\u001b[0m       ctx, args, cancellation_manager\u001b[39m=\u001b[39;49mcancellation_manager))\n\u001b[1;32m   1759\u001b[0m forward_backward \u001b[39m=\u001b[39m \u001b[39mself\u001b[39m\u001b[39m.\u001b[39m_select_forward_and_backward_functions(\n\u001b[1;32m   1760\u001b[0m     args,\n\u001b[1;32m   1761\u001b[0m     possible_gradient_type,\n\u001b[1;32m   1762\u001b[0m     executing_eagerly)\n\u001b[1;32m   1763\u001b[0m forward_function, args_with_tangents \u001b[39m=\u001b[39m forward_backward\u001b[39m.\u001b[39mforward()\n",
      "File \u001b[0;32m~/Desktop/BikeSharingDeepLearning/venv/lib/python3.8/site-packages/tensorflow/python/eager/polymorphic_function/monomorphic_function.py:381\u001b[0m, in \u001b[0;36m_EagerDefinedFunction.call\u001b[0;34m(self, ctx, args, cancellation_manager)\u001b[0m\n\u001b[1;32m    379\u001b[0m \u001b[39mwith\u001b[39;00m _InterpolateFunctionError(\u001b[39mself\u001b[39m):\n\u001b[1;32m    380\u001b[0m   \u001b[39mif\u001b[39;00m cancellation_manager \u001b[39mis\u001b[39;00m \u001b[39mNone\u001b[39;00m:\n\u001b[0;32m--> 381\u001b[0m     outputs \u001b[39m=\u001b[39m execute\u001b[39m.\u001b[39;49mexecute(\n\u001b[1;32m    382\u001b[0m         \u001b[39mstr\u001b[39;49m(\u001b[39mself\u001b[39;49m\u001b[39m.\u001b[39;49msignature\u001b[39m.\u001b[39;49mname),\n\u001b[1;32m    383\u001b[0m         num_outputs\u001b[39m=\u001b[39;49m\u001b[39mself\u001b[39;49m\u001b[39m.\u001b[39;49m_num_outputs,\n\u001b[1;32m    384\u001b[0m         inputs\u001b[39m=\u001b[39;49margs,\n\u001b[1;32m    385\u001b[0m         attrs\u001b[39m=\u001b[39;49mattrs,\n\u001b[1;32m    386\u001b[0m         ctx\u001b[39m=\u001b[39;49mctx)\n\u001b[1;32m    387\u001b[0m   \u001b[39melse\u001b[39;00m:\n\u001b[1;32m    388\u001b[0m     outputs \u001b[39m=\u001b[39m execute\u001b[39m.\u001b[39mexecute_with_cancellation(\n\u001b[1;32m    389\u001b[0m         \u001b[39mstr\u001b[39m(\u001b[39mself\u001b[39m\u001b[39m.\u001b[39msignature\u001b[39m.\u001b[39mname),\n\u001b[1;32m    390\u001b[0m         num_outputs\u001b[39m=\u001b[39m\u001b[39mself\u001b[39m\u001b[39m.\u001b[39m_num_outputs,\n\u001b[0;32m   (...)\u001b[0m\n\u001b[1;32m    393\u001b[0m         ctx\u001b[39m=\u001b[39mctx,\n\u001b[1;32m    394\u001b[0m         cancellation_manager\u001b[39m=\u001b[39mcancellation_manager)\n",
      "File \u001b[0;32m~/Desktop/BikeSharingDeepLearning/venv/lib/python3.8/site-packages/tensorflow/python/eager/execute.py:52\u001b[0m, in \u001b[0;36mquick_execute\u001b[0;34m(op_name, num_outputs, inputs, attrs, ctx, name)\u001b[0m\n\u001b[1;32m     50\u001b[0m \u001b[39mtry\u001b[39;00m:\n\u001b[1;32m     51\u001b[0m   ctx\u001b[39m.\u001b[39mensure_initialized()\n\u001b[0;32m---> 52\u001b[0m   tensors \u001b[39m=\u001b[39m pywrap_tfe\u001b[39m.\u001b[39;49mTFE_Py_Execute(ctx\u001b[39m.\u001b[39;49m_handle, device_name, op_name,\n\u001b[1;32m     53\u001b[0m                                       inputs, attrs, num_outputs)\n\u001b[1;32m     54\u001b[0m \u001b[39mexcept\u001b[39;00m core\u001b[39m.\u001b[39m_NotOkStatusException \u001b[39mas\u001b[39;00m e:\n\u001b[1;32m     55\u001b[0m   \u001b[39mif\u001b[39;00m name \u001b[39mis\u001b[39;00m \u001b[39mnot\u001b[39;00m \u001b[39mNone\u001b[39;00m:\n",
      "\u001b[0;31mKeyboardInterrupt\u001b[0m: "
     ]
    }
   ],
   "source": [
    "cols = [\"StationEnd\", \"WorkingDay\", \"Hour\", \"Count\", \"Count1\", \"Count1week\", \"Count2week\", \"Count3week\", \"Temp\", \"ATemp\", \"WeatherSituation_1.0\", \"WeatherSituation_2.0\", \"WeatherSituation_3.0\", \"WeatherSituation_4.0\"]\n",
    "\n",
    "met1 = dataset[[col for col in dataset.columns if col in cols]]\n",
    "\n",
    "X = met1.drop(columns=[\"Count\"])\n",
    "y = met1[\"Count\"]\n",
    "\n",
    "X = np.reshape(X.values, (X.shape[0], 1, X.shape[1]))\n",
    "\n",
    "# Define the K-fold Cross Validator\n",
    "kfold = GroupKFold(n_splits=10)\n",
    "\n",
    "acc_per_fold = []\n",
    "loss_per_fold = []\n",
    "\n",
    "model_met1 = Sequential()\n",
    "model_met1.add(LSTM(4, input_shape=(1,met1.shape[1]-1)))\n",
    "model_met1.add(Dense(1))\n",
    "model_met1.compile(loss='mean_absolute_error', optimizer='adam', metrics=[\"accuracy\"])\n",
    "\n",
    "# K-fold Cross Validation model evaluation\n",
    "for train, test in kfold.split(X, y, dataset[\"Day\"]):\n",
    "    model_met1.fit(X[train], y[train], epochs=epochs, batch_size=batch_size, verbose=verbose)\n",
    "\n",
    "    # Generate generalization metrics\n",
    "    scores = model_met1.evaluate(X[test], y[test], verbose=0)\n",
    "    acc_per_fold.append(scores[1] * 100)\n",
    "    loss_per_fold.append(scores[0])\n",
    "\n",
    "print('------------------------------------------------------------------------')\n",
    "print('Score per fold')\n",
    "for i in range(0, len(acc_per_fold)):\n",
    "    print('------------------------------------------------------------------------')\n",
    "    print(f'> Fold {i+1} - Loss: {loss_per_fold[i]} - Accuracy: {acc_per_fold[i]}%')\n",
    "print('------------------------------------------------------------------------')\n",
    "print('Average scores for all folds:')\n",
    "print(f'> Accuracy: {np.mean(acc_per_fold)} (+- {np.std(acc_per_fold)})')\n",
    "print(f'> Loss: {np.mean(loss_per_fold)}')\n",
    "print('------------------------------------------------------------------------')"
   ]
  },
  {
   "attachments": {},
   "cell_type": "markdown",
   "metadata": {},
   "source": [
    "## Graphs"
   ]
  },
  {
   "cell_type": "code",
   "execution_count": 41,
   "metadata": {},
   "outputs": [
    {
     "data": {
      "text/plain": [
       "Text(0.5, 0, 'Methods')"
      ]
     },
     "execution_count": 41,
     "metadata": {},
     "output_type": "execute_result"
    },
    {
     "data": {
      "image/png": "[encoded data removed]",
      "text/plain": [
       "<Figure size 640x480 with 1 Axes>"
      ]
     },
     "metadata": {},
     "output_type": "display_data"
    }
   ],
   "source": [
    "plt.plot(list(range(1,len(MSE)+1)), MSE, marker=\"o\")\n",
    "plt.title(\"Mean Squared Error by method\")\n",
    "plt.xlabel(\"Methods\")"
   ]
  },
  {
   "cell_type": "code",
   "execution_count": 37,
   "metadata": {},
   "outputs": [
    {
     "data": {
      "text/plain": [
       "Text(0.5, 0, 'Methods')"
      ]
     },
     "execution_count": 37,
     "metadata": {},
     "output_type": "execute_result"
    },
    {
     "data": {
      "image/png": "[encoded data removed]",
      "text/plain": [
       "<Figure size 640x480 with 1 Axes>"
      ]
     },
     "metadata": {},
     "output_type": "display_data"
    }
   ],
   "source": [
    "plt.plot([\"Regression\", \"LSTM\", \"Best Method\"], [1.1546453573093387, 3.7118978261947633, 3.5943119287490846], marker=\"o\")\n",
    "plt.title(\"Mean Squared Error - Comparison\")\n",
    "plt.xlabel(\"Methods\")"
   ]
  }
 ],
 "metadata": {
  "kernelspec": {
   "display_name": "base",
   "language": "python",
   "name": "python3"
  },
  "language_info": {
   "codemirror_mode": {
    "name": "ipython",
    "version": 3
   },
   "file_extension": ".py",
   "mimetype": "text/x-python",
   "name": "python",
   "nbconvert_exporter": "python",
   "pygments_lexer": "ipython3",
   "version": "3.8.10"
  },
  "orig_nbformat": 4
 },
 "nbformat": 4,
 "nbformat_minor": 2
}
