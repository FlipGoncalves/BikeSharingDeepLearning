{
 "cells": [
  {
   "attachments": {},
   "cell_type": "markdown",
   "metadata": {},
   "source": [
    "# Bike Sharing with Deep Learning\n",
    "## Contributors\n",
    "- Filipe Gonçalves, 98083, MRSI\n",
    "\n",
    "## Context\n",
    "A bikesharing business consists in creating a system which lets a user rent and use a bicycle as its own for a small period of time.\n",
    "However, the companies who invest in these types of business, can't gain much with just the system and services, they also need to promote the services and understand the most viable places to place the anchors, which are used to recharge the bikes or just save them, and which routes should be best for a user to take as to pass by some promoted caffes / restaurants / etc."
   ]
  },
  {
   "attachments": {},
   "cell_type": "markdown",
   "metadata": {},
   "source": [
    "## Route Prediction\n",
    "Route prediction can be made using a graph with every possible intersection in the map and understand which street to take.\n",
    "\n",
    "We can implement an Artifical Inteligent agent which understands which is the best street by a good heuristic, watching over the distance between the start and end points, number of streets used and possible problems / traffic in each road.\n",
    "\n",
    "### Create the Graph"
   ]
  },
  {
   "cell_type": "code",
   "execution_count": 1,
   "metadata": {},
   "outputs": [
    {
     "name": "stdout",
     "output_type": "stream",
     "text": [
      "[('A', 'B'), ('B', 'A')]\n"
     ]
    }
   ],
   "source": [
    "graph = {\n",
    "    \"A\": {\"lat\": 1, \"lng\": 1, \"to\": [\"B\"]},  \n",
    "    \"B\": {\"lat\": 2, \"lng\": 2, \"to\": [\"A\"]}\n",
    "}\n",
    "\n",
    "# import dictionary for graph\n",
    "from collections import defaultdict\n",
    "  \n",
    "# function for adding edge to graph\n",
    "graph = defaultdict(list)\n",
    "def addEdge(graph,u,v):\n",
    "    graph[u].append(v)\n",
    "  \n",
    "# definition of function\n",
    "def generate_edges(graph):\n",
    "    edges = []\n",
    "  \n",
    "    # for each node in graph\n",
    "    for node in graph:\n",
    "          \n",
    "        # for each neighbour node of a single node\n",
    "        for neighbour in graph[node]:\n",
    "              \n",
    "            # if edge exists then append\n",
    "            edges.append((node, neighbour))\n",
    "    return edges\n",
    "  \n",
    "# declaration of graph as dictionary\n",
    "addEdge(graph,'A','B')\n",
    "addEdge(graph,'B','A')\n",
    "  \n",
    "# Driver Function call \n",
    "# to print generated graph\n",
    "print(generate_edges(graph)) "
   ]
  },
  {
   "attachments": {},
   "cell_type": "markdown",
   "metadata": {},
   "source": [
    "### Node and Graph classes\n",
    "In this implementation, the Node class represents a node in the graph and has a value attribute to store the node's value and an edges attribute to store a list of adjacent nodes. The add_edge method adds a new edge to the node by appending the adjacent node to the edges list.\n",
    "\n",
    "The Graph class represents a graph and has a nodes attribute to store a list of nodes. The add_node method adds a new node to the graph by creating a new instance of the Node class and appending it to the nodes list. The add_edge method adds a new edge between two nodes in the graph by finding the nodes with the corresponding values using the find_node method and adding each node to the other node's edges list. The find_node method searches the nodes list for a node with a matching value and returns it if found, or returns None if not found."
   ]
  },
  {
   "cell_type": "code",
   "execution_count": 19,
   "metadata": {},
   "outputs": [
    {
     "name": "stdout",
     "output_type": "stream",
     "text": [
      "Graph -> \n",
      "Nodes: \n",
      "\tNode A -> Latitude 1 ; Longitude 1 ; \n",
      "\t\tEdges [  ] \n",
      "\tNode B -> Latitude 2 ; Longitude 2 ; \n",
      "\t\tEdges [ A, B ] \n",
      "\n"
     ]
    }
   ],
   "source": [
    "import math\n",
    "\n",
    "graph = {\n",
    "    \"A\": {\"lat\": 1, \"lng\": 1, \"to\": [\"B\"]},  \n",
    "    \"B\": {\"lat\": 2, \"lng\": 2, \"to\": [\"A\"]}\n",
    "}\n",
    "\n",
    "class Node:\n",
    "    def __init__(self, name, lat, lng):\n",
    "        self.name = name\n",
    "        self.lat = lat\n",
    "        self.lng = lng\n",
    "        self.edges = {}\n",
    "\n",
    "    def add_edge(self, node):\n",
    "        self.edges[node] = self.distance(node)\n",
    "    \n",
    "    def distance(self, node):\n",
    "        return math.sqrt((node.lat - self.lat)**2 + (node.lng - self.lng))\n",
    "    \n",
    "    def __str__(self) -> str:\n",
    "        strg = f\"\\tNode {self.name} -> Latitude {self.lat} ; Longitude {self.lng} ; \\n\\t\\tEdges [ \"\n",
    "        strg += \", \".join([x.name for x in self.edges.keys()])\n",
    "        return strg + \" ] \\n\"\n",
    "\n",
    "class Graph:\n",
    "    def __init__(self):\n",
    "        self.nodes = []\n",
    "\n",
    "    def add_node(self, name, lat, lng):\n",
    "        self.nodes.append(Node(name, lat, lng))\n",
    "\n",
    "    def add_edge(self, value1, value2):\n",
    "        node1 = self.find_node(value1)\n",
    "        node2 = self.find_node(value2)\n",
    "        if node1 == None or node2 == None:\n",
    "            return\n",
    "        if node2 not in node1.edges:\n",
    "            node1.add_edge(node2)\n",
    "        if node1 not in node2.edges:    \n",
    "            node1.add_edge(node1)\n",
    "\n",
    "    def find_node(self, value):\n",
    "        for node in self.nodes:\n",
    "            if node.name == value:\n",
    "                return node\n",
    "        return None\n",
    "    \n",
    "    def __str__(self) -> str:\n",
    "        strg = \"Graph -> \\nNodes: \\n\"\n",
    "        for node in self.nodes:\n",
    "            strg += str(node)\n",
    "        return strg\n",
    "    \n",
    "g = Graph()\n",
    "\n",
    "for node, values in graph.items():\n",
    "    g.add_node(node, values[\"lat\"], values[\"lng\"])\n",
    "    for to in values[\"to\"]:\n",
    "        g.add_edge(node, to)\n",
    "\n",
    "print(g)\n"
   ]
  }
 ],
 "metadata": {
  "kernelspec": {
   "display_name": "base",
   "language": "python",
   "name": "python3"
  },
  "language_info": {
   "codemirror_mode": {
    "name": "ipython",
    "version": 3
   },
   "file_extension": ".py",
   "mimetype": "text/x-python",
   "name": "python",
   "nbconvert_exporter": "python",
   "pygments_lexer": "ipython3",
   "version": "3.9.13"
  },
  "orig_nbformat": 4,
  "vscode": {
   "interpreter": {
    "hash": "f7bf59842ec8c3012a3e9632fef24168ecb201cc85b2dd22b6a1ded698fd1631"
   }
  }
 },
 "nbformat": 4,
 "nbformat_minor": 2
}
