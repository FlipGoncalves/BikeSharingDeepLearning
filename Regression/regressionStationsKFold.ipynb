{
 "cells": [
  {
   "attachments": {},
   "cell_type": "markdown",
   "metadata": {},
   "source": [
    "# Regression Modelling by Date"
   ]
  },
  {
   "cell_type": "code",
   "execution_count": 1,
   "metadata": {},
   "outputs": [],
   "source": [
    "import numpy as np\n",
    "import pandas as pd\n",
    "from sklearn import linear_model\n",
    "import random\n",
    "from datetime import datetime\n",
    "import matplotlib.pyplot as plt\n",
    "from sklearn.metrics import mean_squared_error\n",
    "from sklearn.model_selection import cross_val_score\n",
    "\n",
    "import warnings\n",
    "warnings.filterwarnings(\"ignore\")"
   ]
  },
  {
   "cell_type": "code",
   "execution_count": 2,
   "metadata": {},
   "outputs": [],
   "source": [
    "stations = pd.read_csv(\"../CSVFiles/stations.csv\").drop(columns=[\"Unnamed: 0\"])\n",
    "stations.head()\n",
    "\n",
    "max_cluster = [2, 3, 5, 7, 8, 9, 10, 27, 29, 30, 31, 32, 33, 36, 37, 38, 39, 40, 42]\n",
    "min_cluster = [1, 4, 6, 11, 12, 13, 14, 15, 16, 17, 18, 19, 20, 21, 22, 23, 24, 25, 26, 28, 34]"
   ]
  },
  {
   "cell_type": "code",
   "execution_count": 3,
   "metadata": {},
   "outputs": [
    {
     "data": {
      "text/html": [
       "<div>\n",
       "<style scoped>\n",
       "    .dataframe tbody tr th:only-of-type {\n",
       "        vertical-align: middle;\n",
       "    }\n",
       "\n",
       "    .dataframe tbody tr th {\n",
       "        vertical-align: top;\n",
       "    }\n",
       "\n",
       "    .dataframe thead th {\n",
       "        text-align: right;\n",
       "    }\n",
       "</style>\n",
       "<table border=\"1\" class=\"dataframe\">\n",
       "  <thead>\n",
       "    <tr style=\"text-align: right;\">\n",
       "      <th></th>\n",
       "      <th>Hour</th>\n",
       "      <th>StationEnd</th>\n",
       "      <th>Count</th>\n",
       "      <th>Day</th>\n",
       "      <th>Year</th>\n",
       "      <th>WorkingDay</th>\n",
       "    </tr>\n",
       "  </thead>\n",
       "  <tbody>\n",
       "    <tr>\n",
       "      <th>0</th>\n",
       "      <td>0</td>\n",
       "      <td>26</td>\n",
       "      <td>1</td>\n",
       "      <td>1</td>\n",
       "      <td>2011</td>\n",
       "      <td>0</td>\n",
       "    </tr>\n",
       "    <tr>\n",
       "      <th>1</th>\n",
       "      <td>0</td>\n",
       "      <td>17</td>\n",
       "      <td>1</td>\n",
       "      <td>1</td>\n",
       "      <td>2011</td>\n",
       "      <td>0</td>\n",
       "    </tr>\n",
       "    <tr>\n",
       "      <th>13</th>\n",
       "      <td>1</td>\n",
       "      <td>21</td>\n",
       "      <td>1</td>\n",
       "      <td>1</td>\n",
       "      <td>2011</td>\n",
       "      <td>0</td>\n",
       "    </tr>\n",
       "    <tr>\n",
       "      <th>16</th>\n",
       "      <td>1</td>\n",
       "      <td>19</td>\n",
       "      <td>1</td>\n",
       "      <td>1</td>\n",
       "      <td>2011</td>\n",
       "      <td>0</td>\n",
       "    </tr>\n",
       "    <tr>\n",
       "      <th>21</th>\n",
       "      <td>1</td>\n",
       "      <td>13</td>\n",
       "      <td>1</td>\n",
       "      <td>1</td>\n",
       "      <td>2011</td>\n",
       "      <td>0</td>\n",
       "    </tr>\n",
       "  </tbody>\n",
       "</table>\n",
       "</div>"
      ],
      "text/plain": [
       "    Hour  StationEnd  Count  Day  Year  WorkingDay\n",
       "0      0          26      1    1  2011           0\n",
       "1      0          17      1    1  2011           0\n",
       "13     1          21      1    1  2011           0\n",
       "16     1          19      1    1  2011           0\n",
       "21     1          13      1    1  2011           0"
      ]
     },
     "execution_count": 3,
     "metadata": {},
     "output_type": "execute_result"
    }
   ],
   "source": [
    "trips = pd.read_csv(\"../CSVFiles/tripsStationHour.csv\").drop(columns=[\"Unnamed: 0\"])\n",
    "\n",
    "day = []\n",
    "year = []\n",
    "working_day = []\n",
    "for trip in trips.values:\n",
    "    date = datetime.strptime(trip[0], \"%Y-%m-%d %H:%M:%S\").timetuple()\n",
    "    working_day.append(0 if date.tm_wday >= 5 else 1)\n",
    "    day.append(date.tm_yday)\n",
    "    year.append(date.tm_year)\n",
    "\n",
    "trips[\"Day\"] = day\n",
    "trips[\"Year\"] = year\n",
    "trips[\"WorkingDay\"] = working_day\n",
    "trips = trips.drop(columns=[\"DateEnd\"])\n",
    "\n",
    "dataset = trips.loc[trips[\"StationEnd\"].isin(min_cluster)]\n",
    "dataset.head()"
   ]
  },
  {
   "attachments": {},
   "cell_type": "markdown",
   "metadata": {},
   "source": [
    "## Regression"
   ]
  },
  {
   "cell_type": "code",
   "execution_count": 4,
   "metadata": {},
   "outputs": [],
   "source": [
    "mse_array = [1.5560460052966003, 1.1546453573093387, 1.1152016004689544, 1.1061674361909062, 1.094941809874997, 1.0971526368664617]\n",
    "\n",
    "first_hour = dataset.values[0][0]\n",
    "first_day = dataset.values[0][3]\n",
    "first_year = dataset.values[0][4]\n",
    "\n",
    "mse_array2 = [1.7, 1.0, 1.0, 1.0, 1.0, 1.0]"
   ]
  },
  {
   "attachments": {},
   "cell_type": "markdown",
   "metadata": {},
   "source": [
    "### Method 1\n",
    "Input: c(t)\n",
    "\n",
    "Output: c(t+1)"
   ]
  },
  {
   "cell_type": "code",
   "execution_count": 5,
   "metadata": {},
   "outputs": [
    {
     "name": "stdout",
     "output_type": "stream",
     "text": [
      "Mean Absolute Error: 1.5560460052966003\n",
      "Mean Absolute Error: 1.7\n"
     ]
    }
   ],
   "source": [
    "X = dataset.drop(columns=[\"Count\", \"Year\", \"Day\"])\n",
    "y = dataset[\"Count\"]\n",
    "\n",
    "lm = linear_model.LinearRegression()\n",
    "scores = cross_val_score(lm, X, y, cv=10, scoring=\"neg_median_absolute_error\", groups=dataset[\"StationEnd\"])\n",
    "scores2 = np.array([round(x) for x in scores])\n",
    "\n",
    "mse = abs(scores.mean())\n",
    "print(f\"Mean Absolute Error: {mse}\")\n",
    "mse = abs(scores2.mean())\n",
    "print(f\"Mean Absolute Error: {mse}\")"
   ]
  },
  {
   "attachments": {},
   "cell_type": "markdown",
   "metadata": {},
   "source": [
    "### Method 2\n",
    "Input: c(t), c(t-1)\n",
    "\n",
    "Output: c(t+1)"
   ]
  },
  {
   "cell_type": "code",
   "execution_count": 6,
   "metadata": {},
   "outputs": [
    {
     "name": "stdout",
     "output_type": "stream",
     "text": [
      "Mean Absolute Error: 1.1546453573093387\n",
      "Mean Absolute Error: 1.0\n"
     ]
    }
   ],
   "source": [
    "count_met2 = 0\n",
    "cnt = []\n",
    "for trip in dataset.values:\n",
    "    hour = trip[0]\n",
    "    station = trip[1]\n",
    "    day = trip[3]\n",
    "    year = trip[4]\n",
    "\n",
    "    if hour == first_hour and year == first_year and day == first_day:\n",
    "        count_met2 += 1\n",
    "        continue\n",
    "\n",
    "    hour -= 1\n",
    "    if hour == -1:\n",
    "        hour = 23\n",
    "        day -= 1\n",
    "\n",
    "    df = dataset.loc[(dataset[\"Hour\"] == hour) & (dataset[\"Day\"] == day) & (dataset[\"Year\"] == year) & (dataset[\"StationEnd\"] == station)]\n",
    "\n",
    "    if df.empty:\n",
    "        cnt.append(0)\n",
    "    else:\n",
    "        cnt.append(df.values[0][2])\n",
    "\n",
    "dataset_method2 = dataset[count_met2:].copy()\n",
    "dataset_method2[\"Count1\"] = cnt\n",
    "\n",
    "X = dataset_method2.drop(columns=[\"Count\", \"Year\", \"Day\"])\n",
    "y = dataset_method2[\"Count\"]\n",
    "\n",
    "lm = linear_model.LinearRegression()\n",
    "scores = cross_val_score(lm, X, y, cv=10, scoring=\"neg_median_absolute_error\", groups=dataset_method2[\"StationEnd\"])\n",
    "scores2 = np.array([round(x) for x in scores])\n",
    "\n",
    "mse = abs(scores.mean())\n",
    "print(f\"Mean Absolute Error: {mse}\")\n",
    "mse = abs(scores2.mean())\n",
    "print(f\"Mean Absolute Error: {mse}\")"
   ]
  },
  {
   "attachments": {},
   "cell_type": "markdown",
   "metadata": {},
   "source": [
    "### Method 3\n",
    "Input: c(t), c(t-1), c(t-1semana)\n",
    "\n",
    "Output: c(t+1)"
   ]
  },
  {
   "cell_type": "code",
   "execution_count": 7,
   "metadata": {},
   "outputs": [
    {
     "name": "stdout",
     "output_type": "stream",
     "text": [
      "Mean Absolute Error: 1.1152016004689544\n",
      "Mean Absolute Error: 1.0\n"
     ]
    }
   ],
   "source": [
    "count_met3 = 0\n",
    "cnt = []\n",
    "for trip in dataset.values:\n",
    "    hour = trip[0]\n",
    "    station = trip[1]\n",
    "    day = trip[3]\n",
    "    year = trip[4]\n",
    "\n",
    "    if day < first_day + 7:\n",
    "        count_met3 += 1\n",
    "        continue\n",
    "\n",
    "    day -= 7\n",
    "\n",
    "    df = dataset.loc[(dataset[\"Hour\"] == hour) & (dataset[\"Day\"] == day) & (dataset[\"Year\"] == year) & (dataset[\"StationEnd\"] == station)]\n",
    "\n",
    "    if df.empty:\n",
    "        cnt.append(0)\n",
    "    else:\n",
    "        cnt.append(df.values[0][2])\n",
    "\n",
    "dataset_method3 = dataset_method2[count_met3-count_met2:].copy()\n",
    "dataset_method3[\"Count1week\"] = cnt\n",
    "\n",
    "X = dataset_method3.drop(columns=[\"Count\", \"Year\", \"Day\"])\n",
    "y = dataset_method3[\"Count\"]\n",
    "\n",
    "lm = linear_model.LinearRegression()\n",
    "scores = cross_val_score(lm, X, y, cv=10, scoring=\"neg_median_absolute_error\", groups=dataset_method3[\"StationEnd\"])\n",
    "scores2 = np.array([round(x) for x in scores])\n",
    "\n",
    "mse = abs(scores.mean())\n",
    "print(f\"Mean Absolute Error: {mse}\")\n",
    "mse = abs(scores2.mean())\n",
    "print(f\"Mean Absolute Error: {mse}\")"
   ]
  },
  {
   "attachments": {},
   "cell_type": "markdown",
   "metadata": {},
   "source": [
    "### Method 4\n",
    "Input: c(t), c(t-1), c(t-1semana), c(t-2semana)\n",
    "\n",
    "Output: c(t+1)"
   ]
  },
  {
   "cell_type": "code",
   "execution_count": 8,
   "metadata": {},
   "outputs": [
    {
     "name": "stdout",
     "output_type": "stream",
     "text": [
      "Mean Absolute Error: 1.1061674361909062\n",
      "Mean Absolute Error: 1.0\n"
     ]
    }
   ],
   "source": [
    "count_met4 = 0\n",
    "cnt = []\n",
    "for trip in dataset.values:\n",
    "    hour = trip[0]\n",
    "    station = trip[1]\n",
    "    day = trip[3]\n",
    "    year = trip[4]\n",
    "\n",
    "    if day < first_day + 14:\n",
    "        count_met4 += 1\n",
    "        continue\n",
    "\n",
    "    day -= 14\n",
    "\n",
    "    df = dataset.loc[(dataset[\"Hour\"] == hour) & (dataset[\"Day\"] == day) & (dataset[\"Year\"] == year) & (dataset[\"StationEnd\"] == station)]\n",
    "\n",
    "    if df.empty:\n",
    "        cnt.append(0)\n",
    "    else:\n",
    "        cnt.append(df.values[0][2])\n",
    "\n",
    "dataset_method4 = dataset_method3[count_met4-count_met3:].copy()\n",
    "dataset_method4[\"Count2week\"] = cnt\n",
    "\n",
    "X = dataset_method4.drop(columns=[\"Count\", \"Year\", \"Day\"])\n",
    "y = dataset_method4[\"Count\"]\n",
    "\n",
    "lm = linear_model.LinearRegression()\n",
    "scores = cross_val_score(lm, X, y, cv=10, scoring=\"neg_median_absolute_error\", groups=dataset_method4[\"StationEnd\"])\n",
    "scores2 = np.array([round(x) for x in scores])\n",
    "\n",
    "mse = abs(scores.mean())\n",
    "print(f\"Mean Absolute Error: {mse}\")\n",
    "mse = abs(scores2.mean())\n",
    "print(f\"Mean Absolute Error: {mse}\")"
   ]
  },
  {
   "attachments": {},
   "cell_type": "markdown",
   "metadata": {},
   "source": [
    "### Method 5\n",
    "Input: c(t), c(t-1), c(t-1semana), c(t-2semana), c(t-3semana)\n",
    "\n",
    "Output: c(t+1)"
   ]
  },
  {
   "cell_type": "code",
   "execution_count": 9,
   "metadata": {},
   "outputs": [
    {
     "name": "stdout",
     "output_type": "stream",
     "text": [
      "Mean Absolute Error: 1.094941809874997\n",
      "Mean Absolute Error: 1.0\n"
     ]
    }
   ],
   "source": [
    "count_met5 = 0\n",
    "cnt = []\n",
    "for trip in dataset.values:\n",
    "    hour = trip[0]\n",
    "    station = trip[1]\n",
    "    day = trip[3]\n",
    "    year = trip[4]\n",
    "\n",
    "    if day < first_day + 21:\n",
    "        count_met5 += 1\n",
    "        continue\n",
    "\n",
    "    day -= 21\n",
    "\n",
    "    df = dataset.loc[(dataset[\"Hour\"] == hour) & (dataset[\"Day\"] == day) & (dataset[\"Year\"] == year) & (dataset[\"StationEnd\"] == station)]\n",
    "\n",
    "    if df.empty:\n",
    "        cnt.append(0)\n",
    "    else:\n",
    "        cnt.append(df.values[0][2])\n",
    "\n",
    "dataset_method5 = dataset_method4[count_met5-count_met4:].copy()\n",
    "dataset_method5[\"Count3week\"] = cnt\n",
    "\n",
    "X = dataset_method5.drop(columns=[\"Count\", \"Year\", \"Day\"])\n",
    "y = dataset_method5[\"Count\"]\n",
    "\n",
    "lm = linear_model.LinearRegression()\n",
    "scores = cross_val_score(lm, X, y, cv=10, scoring=\"neg_median_absolute_error\", groups=dataset_method5[\"StationEnd\"])\n",
    "scores2 = np.array([round(x) for x in scores])\n",
    "\n",
    "mse = abs(scores.mean())\n",
    "print(f\"Mean Absolute Error: {mse}\")\n",
    "mse = abs(scores2.mean())\n",
    "print(f\"Mean Absolute Error: {mse}\")"
   ]
  },
  {
   "attachments": {},
   "cell_type": "markdown",
   "metadata": {},
   "source": [
    "### Method 6\n",
    "Input: c(t), c(t-1), c(t-1semana), c(t-2semana), c(t-3semana), c(t-4semana)\n",
    "\n",
    "Output: c(t+1)"
   ]
  },
  {
   "cell_type": "code",
   "execution_count": 10,
   "metadata": {},
   "outputs": [
    {
     "name": "stdout",
     "output_type": "stream",
     "text": [
      "Mean Absolute Error: 1.0971526368664617\n",
      "Mean Absolute Error: 1.0\n"
     ]
    }
   ],
   "source": [
    "count_met6 = 0\n",
    "cnt = []\n",
    "for trip in dataset.values:\n",
    "    hour = trip[0]\n",
    "    station = trip[1]\n",
    "    day = trip[3]\n",
    "    year = trip[4]\n",
    "\n",
    "    if day < first_day + 28:\n",
    "        count_met6 += 1\n",
    "        continue\n",
    "\n",
    "    day -= 28\n",
    "\n",
    "    df = dataset.loc[(dataset[\"Hour\"] == hour) & (dataset[\"Day\"] == day) & (dataset[\"Year\"] == year) & (dataset[\"StationEnd\"] == station)]\n",
    "\n",
    "    if df.empty:\n",
    "        cnt.append(0)\n",
    "    else:\n",
    "        cnt.append(df.values[0][2])\n",
    "\n",
    "dataset_method6 = dataset_method5[count_met6-count_met5:].copy()\n",
    "dataset_method6[\"Count4week\"] = cnt\n",
    "\n",
    "X = dataset_method6.drop(columns=[\"Count\", \"Year\", \"Day\"])\n",
    "y = dataset_method6[\"Count\"]\n",
    "\n",
    "lm = linear_model.LinearRegression()\n",
    "scores = cross_val_score(lm, X, y, cv=10, scoring=\"neg_median_absolute_error\", groups=dataset_method6[\"StationEnd\"])\n",
    "scores2 = np.array([round(x) for x in scores])\n",
    "\n",
    "mse = abs(scores.mean())\n",
    "print(f\"Mean Absolute Error: {mse}\")\n",
    "mse = abs(scores2.mean())\n",
    "print(f\"Mean Absolute Error: {mse}\")"
   ]
  },
  {
   "attachments": {},
   "cell_type": "markdown",
   "metadata": {},
   "source": [
    "## Graphs"
   ]
  },
  {
   "cell_type": "code",
   "execution_count": 5,
   "metadata": {},
   "outputs": [
    {
     "data": {
      "text/plain": [
       "Text(0.5, 0, 'Methods')"
      ]
     },
     "execution_count": 5,
     "metadata": {},
     "output_type": "execute_result"
    },
    {
     "data": {
      "image/png": "[encoded data removed]",
      "text/plain": [
       "<Figure size 640x480 with 1 Axes>"
      ]
     },
     "metadata": {},
     "output_type": "display_data"
    }
   ],
   "source": [
    "plt.plot(list(range(1,len(mse_array)+1)), mse_array, marker=\"o\")\n",
    "plt.plot(list(range(1,len(mse_array)+1)), mse_array2, marker=\"o\")\n",
    "plt.title(\"Mean Absolute Error by Method\")\n",
    "plt.xlabel(\"Methods\")"
   ]
  },
  {
   "cell_type": "code",
   "execution_count": 12,
   "metadata": {},
   "outputs": [],
   "source": [
    "dataset_method2.to_csv(\"../StationsDatasets/dataset.csv\")"
   ]
  }
 ],
 "metadata": {
  "kernelspec": {
   "display_name": "base",
   "language": "python",
   "name": "python3"
  },
  "language_info": {
   "codemirror_mode": {
    "name": "ipython",
    "version": 3
   },
   "file_extension": ".py",
   "mimetype": "text/x-python",
   "name": "python",
   "nbconvert_exporter": "python",
   "pygments_lexer": "ipython3",
   "version": "3.8.10"
  },
  "orig_nbformat": 4
 },
 "nbformat": 4,
 "nbformat_minor": 2
}
