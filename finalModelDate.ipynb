{
 "cells": [
  {
   "cell_type": "code",
   "execution_count": 7,
   "metadata": {},
   "outputs": [],
   "source": [
    "import numpy as np\n",
    "import pandas as pd\n",
    "import random\n",
    "from datetime import datetime\n",
    "import matplotlib.pyplot as plt\n",
    "from pprint import pprint\n",
    "\n",
    "from sklearn.feature_selection import SelectKBest\n",
    "from sklearn.feature_selection import f_regression\n",
    "from sklearn.preprocessing import MinMaxScaler\n",
    "from sklearn.metrics import mean_squared_error\n",
    "\n",
    "from tensorflow.keras.models import Sequential\n",
    "from tensorflow.keras.layers import Dense\n",
    "from tensorflow.keras.layers import LSTM\n",
    "\n",
    "import warnings\n",
    "warnings.filterwarnings(\"ignore\")"
   ]
  },
  {
   "cell_type": "code",
   "execution_count": 28,
   "metadata": {},
   "outputs": [],
   "source": [
    "training_data = pd.read_csv(\"./DateDatasets/training.csv\").drop(columns=[\"Unnamed: 0\"])\n",
    "testing_data = pd.read_csv(\"./DateDatasets/testing.csv\").drop(columns=[\"Unnamed: 0\"])\n",
    "validating_data = pd.read_csv(\"./DateDatasets/validation.csv\").drop(columns=[\"Unnamed: 0\"])"
   ]
  },
  {
   "cell_type": "code",
   "execution_count": 29,
   "metadata": {},
   "outputs": [],
   "source": [
    "cols = [\"StationEnd\", \"Count\", \"Count1\", \"Count1week\", \"Temp\", \"ATemp\", \"Hour\", \"Windspeed\"]\n",
    "\n",
    "training_data = training_data[[col for col in training_data.columns if col in cols]]\n",
    "testing_data = testing_data[[col for col in testing_data.columns if col in cols]]\n",
    "validating_data = validating_data[[col for col in validating_data.columns if col in cols]]"
   ]
  },
  {
   "cell_type": "code",
   "execution_count": 30,
   "metadata": {},
   "outputs": [],
   "source": [
    "trainX = training_data.drop(columns=[\"Count\"])\n",
    "trainY = training_data[\"Count\"]\n",
    "\n",
    "testX = testing_data.drop(columns=[\"Count\"])\n",
    "testY = testing_data[\"Count\"]\n",
    "\n",
    "valX = validating_data.drop(columns=[\"Count\"])\n",
    "valY = validating_data[\"Count\"]\n",
    "\n",
    "trainX = np.reshape(trainX.values, (trainX.shape[0], 1, trainX.shape[1]))\n",
    "testX = np.reshape(testX.values, (testX.shape[0], 1, testX.shape[1]))\n",
    "valX = np.reshape(valX.values, (valX.shape[0], 1, valX.shape[1]))"
   ]
  },
  {
   "cell_type": "code",
   "execution_count": 34,
   "metadata": {},
   "outputs": [
    {
     "name": "stdout",
     "output_type": "stream",
     "text": [
      "Epoch 1/40\n"
     ]
    },
    {
     "name": "stderr",
     "output_type": "stream",
     "text": [
      "2023-05-06 19:31:36.566151: I tensorflow/core/common_runtime/executor.cc:1197] [/device:CPU:0] (DEBUG INFO) Executor start aborting (this does not indicate an error and you can ignore this message): INVALID_ARGUMENT: You must feed a value for placeholder tensor 'gradients/split_2_grad/concat/split_2/split_dim' with dtype int32\n",
      "\t [[{{node gradients/split_2_grad/concat/split_2/split_dim}}]]\n",
      "2023-05-06 19:31:36.567229: I tensorflow/core/common_runtime/executor.cc:1197] [/device:CPU:0] (DEBUG INFO) Executor start aborting (this does not indicate an error and you can ignore this message): INVALID_ARGUMENT: You must feed a value for placeholder tensor 'gradients/split_grad/concat/split/split_dim' with dtype int32\n",
      "\t [[{{node gradients/split_grad/concat/split/split_dim}}]]\n",
      "2023-05-06 19:31:36.567858: I tensorflow/core/common_runtime/executor.cc:1197] [/device:CPU:0] (DEBUG INFO) Executor start aborting (this does not indicate an error and you can ignore this message): INVALID_ARGUMENT: You must feed a value for placeholder tensor 'gradients/split_1_grad/concat/split_1/split_dim' with dtype int32\n",
      "\t [[{{node gradients/split_1_grad/concat/split_1/split_dim}}]]\n",
      "2023-05-06 19:31:36.727820: I tensorflow/core/common_runtime/executor.cc:1197] [/device:CPU:0] (DEBUG INFO) Executor start aborting (this does not indicate an error and you can ignore this message): INVALID_ARGUMENT: You must feed a value for placeholder tensor 'gradients/split_2_grad/concat/split_2/split_dim' with dtype int32\n",
      "\t [[{{node gradients/split_2_grad/concat/split_2/split_dim}}]]\n",
      "2023-05-06 19:31:36.728955: I tensorflow/core/common_runtime/executor.cc:1197] [/device:CPU:0] (DEBUG INFO) Executor start aborting (this does not indicate an error and you can ignore this message): INVALID_ARGUMENT: You must feed a value for placeholder tensor 'gradients/split_grad/concat/split/split_dim' with dtype int32\n",
      "\t [[{{node gradients/split_grad/concat/split/split_dim}}]]\n",
      "2023-05-06 19:31:36.729771: I tensorflow/core/common_runtime/executor.cc:1197] [/device:CPU:0] (DEBUG INFO) Executor start aborting (this does not indicate an error and you can ignore this message): INVALID_ARGUMENT: You must feed a value for placeholder tensor 'gradients/split_1_grad/concat/split_1/split_dim' with dtype int32\n",
      "\t [[{{node gradients/split_1_grad/concat/split_1/split_dim}}]]\n",
      "2023-05-06 19:31:37.025511: I tensorflow/core/common_runtime/executor.cc:1197] [/device:CPU:0] (DEBUG INFO) Executor start aborting (this does not indicate an error and you can ignore this message): INVALID_ARGUMENT: You must feed a value for placeholder tensor 'gradients/split_2_grad/concat/split_2/split_dim' with dtype int32\n",
      "\t [[{{node gradients/split_2_grad/concat/split_2/split_dim}}]]\n",
      "2023-05-06 19:31:37.026846: I tensorflow/core/common_runtime/executor.cc:1197] [/device:CPU:0] (DEBUG INFO) Executor start aborting (this does not indicate an error and you can ignore this message): INVALID_ARGUMENT: You must feed a value for placeholder tensor 'gradients/split_grad/concat/split/split_dim' with dtype int32\n",
      "\t [[{{node gradients/split_grad/concat/split/split_dim}}]]\n",
      "2023-05-06 19:31:37.027637: I tensorflow/core/common_runtime/executor.cc:1197] [/device:CPU:0] (DEBUG INFO) Executor start aborting (this does not indicate an error and you can ignore this message): INVALID_ARGUMENT: You must feed a value for placeholder tensor 'gradients/split_1_grad/concat/split_1/split_dim' with dtype int32\n",
      "\t [[{{node gradients/split_1_grad/concat/split_1/split_dim}}]]\n"
     ]
    },
    {
     "name": "stdout",
     "output_type": "stream",
     "text": [
      "146965/146965 - 125s - loss: 12.4992 - 125s/epoch - 853us/step\n",
      "Epoch 2/40\n",
      "146965/146965 - 133s - loss: 10.5407 - 133s/epoch - 906us/step\n",
      "Epoch 3/40\n",
      "146965/146965 - 133s - loss: 10.4049 - 133s/epoch - 904us/step\n",
      "Epoch 4/40\n",
      "146965/146965 - 133s - loss: 10.3682 - 133s/epoch - 902us/step\n",
      "Epoch 5/40\n",
      "146965/146965 - 133s - loss: 10.2649 - 133s/epoch - 908us/step\n",
      "Epoch 6/40\n",
      "146965/146965 - 132s - loss: 10.2243 - 132s/epoch - 899us/step\n",
      "Epoch 7/40\n",
      "146965/146965 - 132s - loss: 10.1722 - 132s/epoch - 899us/step\n",
      "Epoch 8/40\n",
      "146965/146965 - 132s - loss: 10.1375 - 132s/epoch - 898us/step\n",
      "Epoch 9/40\n",
      "146965/146965 - 132s - loss: 10.1012 - 132s/epoch - 900us/step\n",
      "Epoch 10/40\n",
      "146965/146965 - 131s - loss: 10.0995 - 131s/epoch - 892us/step\n",
      "Epoch 11/40\n",
      "146965/146965 - 133s - loss: 10.0845 - 133s/epoch - 902us/step\n",
      "Epoch 12/40\n",
      "146965/146965 - 132s - loss: 10.0543 - 132s/epoch - 901us/step\n",
      "Epoch 13/40\n",
      "146965/146965 - 133s - loss: 10.0347 - 133s/epoch - 904us/step\n",
      "Epoch 14/40\n",
      "146965/146965 - 132s - loss: 10.0560 - 132s/epoch - 897us/step\n",
      "Epoch 15/40\n",
      "146965/146965 - 131s - loss: 10.0224 - 131s/epoch - 894us/step\n",
      "Epoch 16/40\n",
      "146965/146965 - 132s - loss: 10.0073 - 132s/epoch - 899us/step\n",
      "Epoch 17/40\n",
      "146965/146965 - 132s - loss: 10.0182 - 132s/epoch - 899us/step\n",
      "Epoch 18/40\n",
      "146965/146965 - 133s - loss: 10.0122 - 133s/epoch - 903us/step\n",
      "Epoch 19/40\n",
      "146965/146965 - 131s - loss: 10.0092 - 131s/epoch - 893us/step\n",
      "Epoch 20/40\n",
      "146965/146965 - 132s - loss: 9.9930 - 132s/epoch - 897us/step\n",
      "Epoch 21/40\n",
      "146965/146965 - 133s - loss: 10.0138 - 133s/epoch - 905us/step\n",
      "Epoch 22/40\n",
      "146965/146965 - 131s - loss: 9.9871 - 131s/epoch - 893us/step\n",
      "Epoch 23/40\n",
      "146965/146965 - 132s - loss: 9.9741 - 132s/epoch - 897us/step\n",
      "Epoch 24/40\n",
      "146965/146965 - 132s - loss: 9.9653 - 132s/epoch - 896us/step\n",
      "Epoch 25/40\n",
      "146965/146965 - 132s - loss: 9.9909 - 132s/epoch - 901us/step\n",
      "Epoch 26/40\n",
      "146965/146965 - 131s - loss: 9.9664 - 131s/epoch - 892us/step\n",
      "Epoch 27/40\n",
      "146965/146965 - 133s - loss: 9.9597 - 133s/epoch - 902us/step\n",
      "Epoch 28/40\n",
      "146965/146965 - 131s - loss: 9.9681 - 131s/epoch - 890us/step\n",
      "Epoch 29/40\n",
      "146965/146965 - 132s - loss: 9.9806 - 132s/epoch - 895us/step\n",
      "Epoch 30/40\n",
      "146965/146965 - 133s - loss: 9.9525 - 133s/epoch - 904us/step\n",
      "Epoch 31/40\n",
      "146965/146965 - 132s - loss: 9.9536 - 132s/epoch - 901us/step\n",
      "Epoch 32/40\n",
      "146965/146965 - 132s - loss: 9.9409 - 132s/epoch - 899us/step\n",
      "Epoch 33/40\n",
      "146965/146965 - 132s - loss: 9.9788 - 132s/epoch - 898us/step\n",
      "Epoch 34/40\n",
      "146965/146965 - 132s - loss: 9.9350 - 132s/epoch - 899us/step\n",
      "Epoch 35/40\n",
      "146965/146965 - 132s - loss: 9.9588 - 132s/epoch - 898us/step\n",
      "Epoch 36/40\n",
      "146965/146965 - 133s - loss: 9.9388 - 133s/epoch - 902us/step\n",
      "Epoch 37/40\n",
      "146965/146965 - 132s - loss: 9.9650 - 132s/epoch - 900us/step\n",
      "Epoch 38/40\n",
      "146965/146965 - 132s - loss: 9.9410 - 132s/epoch - 897us/step\n",
      "Epoch 39/40\n",
      "146965/146965 - 132s - loss: 9.9297 - 132s/epoch - 899us/step\n",
      "Epoch 40/40\n",
      "146965/146965 - 133s - loss: 9.9408 - 133s/epoch - 906us/step\n",
      " 189/4593 [>.............................] - ETA: 2s "
     ]
    },
    {
     "name": "stderr",
     "output_type": "stream",
     "text": [
      "2023-05-06 20:59:36.467047: I tensorflow/core/common_runtime/executor.cc:1197] [/device:CPU:0] (DEBUG INFO) Executor start aborting (this does not indicate an error and you can ignore this message): INVALID_ARGUMENT: You must feed a value for placeholder tensor 'gradients/split_2_grad/concat/split_2/split_dim' with dtype int32\n",
      "\t [[{{node gradients/split_2_grad/concat/split_2/split_dim}}]]\n",
      "2023-05-06 20:59:36.468111: I tensorflow/core/common_runtime/executor.cc:1197] [/device:CPU:0] (DEBUG INFO) Executor start aborting (this does not indicate an error and you can ignore this message): INVALID_ARGUMENT: You must feed a value for placeholder tensor 'gradients/split_grad/concat/split/split_dim' with dtype int32\n",
      "\t [[{{node gradients/split_grad/concat/split/split_dim}}]]\n",
      "2023-05-06 20:59:36.468790: I tensorflow/core/common_runtime/executor.cc:1197] [/device:CPU:0] (DEBUG INFO) Executor start aborting (this does not indicate an error and you can ignore this message): INVALID_ARGUMENT: You must feed a value for placeholder tensor 'gradients/split_1_grad/concat/split_1/split_dim' with dtype int32\n",
      "\t [[{{node gradients/split_1_grad/concat/split_1/split_dim}}]]\n"
     ]
    },
    {
     "name": "stdout",
     "output_type": "stream",
     "text": [
      "4593/4593 [==============================] - 3s 545us/step\n",
      "1286/1286 [==============================] - 1s 570us/step\n"
     ]
    }
   ],
   "source": [
    "model = Sequential()\n",
    "model.add(LSTM(4, input_shape=(1,training_data.shape[1]-1)))\n",
    "model.add(Dense(1))\n",
    "model.compile(loss='mean_squared_error', optimizer='adam')\n",
    "model.fit(trainX, trainY, epochs=40, batch_size=1, verbose=2)\n",
    "\n",
    "scaler = MinMaxScaler(feature_range=(0, 1))\n",
    "dataset = scaler.fit_transform(pd.concat([training_data, testing_data]))\n",
    "\n",
    "# make predictions\n",
    "trainPredict = model.predict(trainX)\n",
    "testPredict = model.predict(testX)"
   ]
  },
  {
   "cell_type": "code",
   "execution_count": 31,
   "metadata": {},
   "outputs": [
    {
     "name": "stdout",
     "output_type": "stream",
     "text": [
      "4593/4593 [==============================] - 2s 526us/step\n",
      "Train Score: 3.18 RMSE\n",
      "1149/1149 [==============================] - 1s 584us/step - loss: 10.0972\n",
      "Train Accuracy: 10.097208976745605\n"
     ]
    }
   ],
   "source": [
    "trainPredict = model.predict(trainX)\n",
    "\n",
    "trainScore = np.sqrt(mean_squared_error(trainY[:], trainPredict[:]))\n",
    "print('Train Score: %.2f RMSE' % (trainScore))\n",
    "results = model.evaluate(trainX, trainY, batch_size=128)\n",
    "print(\"Train Accuracy:\", results)"
   ]
  },
  {
   "cell_type": "code",
   "execution_count": 32,
   "metadata": {},
   "outputs": [
    {
     "name": "stdout",
     "output_type": "stream",
     "text": [
      "1286/1286 [==============================] - 1s 556us/step\n",
      "Test Score: 3.76 RMSE\n",
      "322/322 [==============================] - 0s 608us/step - loss: 14.1328\n",
      "Test Accuracy: 14.13275146484375\n"
     ]
    }
   ],
   "source": [
    "testPredict = model.predict(testX)\n",
    "\n",
    "testScore = np.sqrt(mean_squared_error(testY[:], testPredict[:]))\n",
    "print('Test Score: %.2f RMSE' % (testScore))\n",
    "results = model.evaluate(testX, testY, batch_size=128)\n",
    "print(\"Test Accuracy:\", results)"
   ]
  },
  {
   "cell_type": "code",
   "execution_count": 33,
   "metadata": {},
   "outputs": [
    {
     "name": "stdout",
     "output_type": "stream",
     "text": [
      "1189/1189 [==============================] - 1s 589us/step\n",
      "Validation Score: 3.41 RMSE\n",
      "298/298 [==============================] - 0s 581us/step - loss: 11.6192\n",
      "Validation Accuracy: 11.61919116973877\n"
     ]
    }
   ],
   "source": [
    "valPredict = model.predict(valX)\n",
    "\n",
    "valScore = np.sqrt(mean_squared_error(valY[:], valPredict[:]))\n",
    "print('Validation Score: %.2f RMSE' % (valScore))\n",
    "results = model.evaluate(valX, valY, batch_size=128)\n",
    "print(\"Validation Accuracy:\", results)"
   ]
  }
 ],
 "metadata": {
  "kernelspec": {
   "display_name": "base",
   "language": "python",
   "name": "python3"
  },
  "language_info": {
   "codemirror_mode": {
    "name": "ipython",
    "version": 3
   },
   "file_extension": ".py",
   "mimetype": "text/x-python",
   "name": "python",
   "nbconvert_exporter": "python",
   "pygments_lexer": "ipython3",
   "version": "3.8.10"
  },
  "orig_nbformat": 4
 },
 "nbformat": 4,
 "nbformat_minor": 2
}
