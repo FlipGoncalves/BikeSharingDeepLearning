{
 "cells": [
  {
   "attachments": {},
   "cell_type": "markdown",
   "metadata": {},
   "source": [
    "# LSTM Modelling "
   ]
  },
  {
   "cell_type": "code",
   "execution_count": 8,
   "metadata": {},
   "outputs": [],
   "source": [
    "import numpy as np\n",
    "import pandas as pd\n",
    "import random\n",
    "from datetime import datetime\n",
    "import matplotlib.pyplot as plt\n",
    "from pprint import pprint\n",
    "\n",
    "from sklearn.feature_selection import SelectKBest\n",
    "from sklearn.feature_selection import f_regression\n",
    "from sklearn.preprocessing import MinMaxScaler\n",
    "from sklearn.metrics import mean_squared_error\n",
    "\n",
    "from tensorflow.keras.models import Sequential\n",
    "from tensorflow.keras.layers import Dense\n",
    "from tensorflow.keras.layers import LSTM\n",
    "from sklearn.model_selection import KFold\n",
    "\n",
    "import warnings\n",
    "warnings.filterwarnings(\"ignore\")"
   ]
  },
  {
   "attachments": {},
   "cell_type": "markdown",
   "metadata": {},
   "source": [
    "## Data Refactor"
   ]
  },
  {
   "cell_type": "code",
   "execution_count": 9,
   "metadata": {},
   "outputs": [],
   "source": [
    "dataset = pd.read_csv(\"./StationDateDatasets/datasetStationDate.csv\").drop(columns=[\"Unnamed: 0\"])"
   ]
  },
  {
   "cell_type": "code",
   "execution_count": 10,
   "metadata": {},
   "outputs": [],
   "source": [
    "trips = pd.read_csv(\"./CSVFiles/datatrips.csv\").drop(columns=[\"Unnamed: 0\"])\n",
    "\n",
    "day = []\n",
    "year = []\n",
    "for trip in trips.values:\n",
    "    date = datetime.strptime(trip[0], \"%Y-%m-%d %H:%M:%S\").timetuple()\n",
    "    day.append(date.tm_yday)\n",
    "    year.append(date.tm_year)\n",
    "\n",
    "trips = trips.drop(columns=[\"DateEnd\"])\n",
    "trips[\"Day\"] = day\n",
    "trips[\"Year\"] = year"
   ]
  },
  {
   "cell_type": "code",
   "execution_count": 11,
   "metadata": {},
   "outputs": [],
   "source": [
    "new_data = pd.DataFrame({\"Holiday\": [], \"Weekday\": [], \"Workingday\": [], \"WeatherSituation\": [], \"Temp\": [], \"ATemp\": [], \"Humidity\": [], \"Windspeed\": []})\n",
    "\n",
    "for data in dataset.values:\n",
    "    hour = data[0]\n",
    "    station = data[1]\n",
    "    day = data[3]\n",
    "    year = data[4]\n",
    "\n",
    "    df = trips.loc[(trips[\"StationEnd\"] == station) & (trips[\"Day\"] == day) & (trips[\"Year\"] == year) & (trips[\"Hour\"] == hour)].values[0][6:-1]\n",
    "    new_data.loc[len(new_data)] = df\n",
    "\n",
    "dataset = dataset.join(new_data)"
   ]
  },
  {
   "cell_type": "code",
   "execution_count": null,
   "metadata": {},
   "outputs": [],
   "source": [
    "dataset.to_csv(\"./StationDateDatasets/datasetStationDate.csv\")"
   ]
  },
  {
   "attachments": {},
   "cell_type": "markdown",
   "metadata": {},
   "source": [
    "## Correlation Features"
   ]
  },
  {
   "cell_type": "code",
   "execution_count": null,
   "metadata": {},
   "outputs": [
    {
     "name": "stdout",
     "output_type": "stream",
     "text": [
      "[('Temp', 7205.982784325835),\n",
      " ('ATemp', 7063.421517473056),\n",
      " ('Humidity', 5255.337139434859),\n",
      " ('Year', 4834.585429696891),\n",
      " ('Hour', 2623.344788510026),\n",
      " ('WeatherSituation', 1517.5650872735619),\n",
      " ('Windspeed', 305.6184488006753),\n",
      " ('StationEnd', 217.14764163333265),\n",
      " ('Day', 104.26113540122923),\n",
      " ('Workingday', 68.07180660262784),\n",
      " ('Weekday', 48.78056977774858),\n",
      " ('Holiday', 48.33766490366175)]\n"
     ]
    }
   ],
   "source": [
    "def featureSelect_dataframe(X, y, criteria, k):\n",
    "\n",
    "    # initialize our function/method\n",
    "    reg = SelectKBest(criteria, k=k).fit(X,y)\n",
    "    \n",
    "    # transform after creating the reg (so we can use getsupport)\n",
    "    X_transformed = reg.transform(X)\n",
    "\n",
    "    # filter down X based on kept columns\n",
    "    X = X[[val for i,val in enumerate(X.columns) if reg.get_support()[i]]]\n",
    "\n",
    "    # return that dataframe\n",
    "    return X, reg.scores_\n",
    "\n",
    "X = dataset[[col for col in dataset.columns if \"Count\" not in col]]\n",
    "y = dataset['Count']\n",
    "\n",
    "new_x_data = []\n",
    "\n",
    "# F-value between label/feature for regression tasks.\n",
    "New_X, scoresX = featureSelect_dataframe(X, y, f_regression, 11)\n",
    "new_x_data_1 = {list(X.columns)[x]:scoresX[x] for x in range(0,len(list(X.columns)))}\n",
    "pprint(sorted(new_x_data_1.items(), key=lambda x:x[1], reverse=True))"
   ]
  },
  {
   "attachments": {},
   "cell_type": "markdown",
   "metadata": {},
   "source": [
    "## LSTM"
   ]
  },
  {
   "cell_type": "code",
   "execution_count": null,
   "metadata": {},
   "outputs": [],
   "source": [
    "epochs = 10\n",
    "batch_size = 1\n",
    "verbose = 2"
   ]
  },
  {
   "attachments": {},
   "cell_type": "markdown",
   "metadata": {},
   "source": [
    "### Method 0\n",
    "Input: c(t), StationEnd\n",
    "\n",
    "Output: c(t+1)"
   ]
  },
  {
   "cell_type": "code",
   "execution_count": 35,
   "metadata": {},
   "outputs": [
    {
     "name": "stdout",
     "output_type": "stream",
     "text": [
      "\n",
      "--------------------------------------------------------------------------------------------\n",
      "\n",
      "METHOD 0:\n",
      "Input: c(t), StationEnd\n",
      "Output: c(t+1)\n",
      "\n",
      "\n",
      "Epoch 1/10\n"
     ]
    },
    {
     "name": "stderr",
     "output_type": "stream",
     "text": [
      "2023-05-09 10:00:40.462925: I tensorflow/core/common_runtime/executor.cc:1197] [/device:CPU:0] (DEBUG INFO) Executor start aborting (this does not indicate an error and you can ignore this message): INVALID_ARGUMENT: You must feed a value for placeholder tensor 'gradients/split_2_grad/concat/split_2/split_dim' with dtype int32\n",
      "\t [[{{node gradients/split_2_grad/concat/split_2/split_dim}}]]\n",
      "2023-05-09 10:00:40.463931: I tensorflow/core/common_runtime/executor.cc:1197] [/device:CPU:0] (DEBUG INFO) Executor start aborting (this does not indicate an error and you can ignore this message): INVALID_ARGUMENT: You must feed a value for placeholder tensor 'gradients/split_grad/concat/split/split_dim' with dtype int32\n",
      "\t [[{{node gradients/split_grad/concat/split/split_dim}}]]\n",
      "2023-05-09 10:00:40.464576: I tensorflow/core/common_runtime/executor.cc:1197] [/device:CPU:0] (DEBUG INFO) Executor start aborting (this does not indicate an error and you can ignore this message): INVALID_ARGUMENT: You must feed a value for placeholder tensor 'gradients/split_1_grad/concat/split_1/split_dim' with dtype int32\n",
      "\t [[{{node gradients/split_1_grad/concat/split_1/split_dim}}]]\n",
      "2023-05-09 10:00:40.623408: I tensorflow/core/common_runtime/executor.cc:1197] [/device:CPU:0] (DEBUG INFO) Executor start aborting (this does not indicate an error and you can ignore this message): INVALID_ARGUMENT: You must feed a value for placeholder tensor 'gradients/split_2_grad/concat/split_2/split_dim' with dtype int32\n",
      "\t [[{{node gradients/split_2_grad/concat/split_2/split_dim}}]]\n",
      "2023-05-09 10:00:40.624298: I tensorflow/core/common_runtime/executor.cc:1197] [/device:CPU:0] (DEBUG INFO) Executor start aborting (this does not indicate an error and you can ignore this message): INVALID_ARGUMENT: You must feed a value for placeholder tensor 'gradients/split_grad/concat/split/split_dim' with dtype int32\n",
      "\t [[{{node gradients/split_grad/concat/split/split_dim}}]]\n",
      "2023-05-09 10:00:40.625005: I tensorflow/core/common_runtime/executor.cc:1197] [/device:CPU:0] (DEBUG INFO) Executor start aborting (this does not indicate an error and you can ignore this message): INVALID_ARGUMENT: You must feed a value for placeholder tensor 'gradients/split_1_grad/concat/split_1/split_dim' with dtype int32\n",
      "\t [[{{node gradients/split_1_grad/concat/split_1/split_dim}}]]\n",
      "2023-05-09 10:00:40.903770: I tensorflow/core/common_runtime/executor.cc:1197] [/device:CPU:0] (DEBUG INFO) Executor start aborting (this does not indicate an error and you can ignore this message): INVALID_ARGUMENT: You must feed a value for placeholder tensor 'gradients/split_2_grad/concat/split_2/split_dim' with dtype int32\n",
      "\t [[{{node gradients/split_2_grad/concat/split_2/split_dim}}]]\n",
      "2023-05-09 10:00:40.905115: I tensorflow/core/common_runtime/executor.cc:1197] [/device:CPU:0] (DEBUG INFO) Executor start aborting (this does not indicate an error and you can ignore this message): INVALID_ARGUMENT: You must feed a value for placeholder tensor 'gradients/split_grad/concat/split/split_dim' with dtype int32\n",
      "\t [[{{node gradients/split_grad/concat/split/split_dim}}]]\n",
      "2023-05-09 10:00:40.905809: I tensorflow/core/common_runtime/executor.cc:1197] [/device:CPU:0] (DEBUG INFO) Executor start aborting (this does not indicate an error and you can ignore this message): INVALID_ARGUMENT: You must feed a value for placeholder tensor 'gradients/split_1_grad/concat/split_1/split_dim' with dtype int32\n",
      "\t [[{{node gradients/split_1_grad/concat/split_1/split_dim}}]]\n"
     ]
    },
    {
     "name": "stdout",
     "output_type": "stream",
     "text": [
      "61129/61129 - 51s - loss: 2.7899 - 51s/epoch - 828us/step\n",
      "Epoch 2/10\n",
      "61129/61129 - 51s - loss: 2.6713 - 51s/epoch - 838us/step\n",
      "Epoch 3/10\n",
      "61129/61129 - 53s - loss: 2.6658 - 53s/epoch - 859us/step\n",
      "Epoch 4/10\n",
      "61129/61129 - 50s - loss: 2.6635 - 50s/epoch - 823us/step\n",
      "Epoch 5/10\n",
      "61129/61129 - 48s - loss: 2.6576 - 48s/epoch - 780us/step\n",
      "Epoch 6/10\n",
      "61129/61129 - 52s - loss: 2.6561 - 52s/epoch - 844us/step\n",
      "Epoch 7/10\n",
      "61129/61129 - 53s - loss: 2.6551 - 53s/epoch - 865us/step\n",
      "Epoch 8/10\n",
      "61129/61129 - 55s - loss: 2.6513 - 55s/epoch - 905us/step\n",
      "Epoch 9/10\n",
      "61129/61129 - 48s - loss: 2.6532 - 48s/epoch - 784us/step\n",
      "Epoch 10/10\n",
      "61129/61129 - 49s - loss: 2.6499 - 49s/epoch - 793us/step\n",
      " 174/1911 [=>............................] - ETA: 1s"
     ]
    },
    {
     "name": "stderr",
     "output_type": "stream",
     "text": [
      "2023-05-09 10:09:09.276479: I tensorflow/core/common_runtime/executor.cc:1197] [/device:CPU:0] (DEBUG INFO) Executor start aborting (this does not indicate an error and you can ignore this message): INVALID_ARGUMENT: You must feed a value for placeholder tensor 'gradients/split_2_grad/concat/split_2/split_dim' with dtype int32\n",
      "\t [[{{node gradients/split_2_grad/concat/split_2/split_dim}}]]\n",
      "2023-05-09 10:09:09.277666: I tensorflow/core/common_runtime/executor.cc:1197] [/device:CPU:0] (DEBUG INFO) Executor start aborting (this does not indicate an error and you can ignore this message): INVALID_ARGUMENT: You must feed a value for placeholder tensor 'gradients/split_grad/concat/split/split_dim' with dtype int32\n",
      "\t [[{{node gradients/split_grad/concat/split/split_dim}}]]\n",
      "2023-05-09 10:09:09.278413: I tensorflow/core/common_runtime/executor.cc:1197] [/device:CPU:0] (DEBUG INFO) Executor start aborting (this does not indicate an error and you can ignore this message): INVALID_ARGUMENT: You must feed a value for placeholder tensor 'gradients/split_1_grad/concat/split_1/split_dim' with dtype int32\n",
      "\t [[{{node gradients/split_1_grad/concat/split_1/split_dim}}]]\n"
     ]
    },
    {
     "name": "stdout",
     "output_type": "stream",
     "text": [
      "1911/1911 [==============================] - 1s 554us/step\n",
      "554/554 [==============================] - 0s 553us/step\n",
      "Train Score: 2.63 MSE\n",
      "Test Score: 3.22 MSE\n"
     ]
    }
   ],
   "source": [
    "print(\"\"\"\n",
    "--------------------------------------------------------------------------------------------\n",
    "\n",
    "METHOD 0:\n",
    "Input: c(t), StationEnd\n",
    "Output: c(t+1)\n",
    "\n",
    "\"\"\")\n",
    "\n",
    "cols = [\"StationEnd\", \"Count\", \"Count1\", \"Count1week\"]\n",
    "\n",
    "met1 = dataset[[col for col in dataset.columns if col in cols]]\n",
    "\n",
    "X = met1.drop(columns=[\"Count\"])\n",
    "y = met1[\"Count\"]\n",
    "\n",
    "X = np.reshape(X.values, (X.shape[0], 1, X.shape[1]))\n",
    "\n",
    "# Define the K-fold Cross Validator\n",
    "kfold = KFold(n_splits=10, shuffle=True)\n",
    "\n",
    "acc_per_fold = []\n",
    "loss_per_fold = []\n",
    "\n",
    "# K-fold Cross Validation model evaluation\n",
    "fold_no = 1\n",
    "for train, test in kfold.split(X, y):\n",
    "\n",
    "  model_met1 = Sequential()\n",
    "  model_met1.add(LSTM(4, input_shape=(1,met1.shape[1]-1)))\n",
    "  model_met1.add(Dense(1))\n",
    "  model_met1.compile(loss='mean_squared_error', optimizer='adam', metrics=[\"accuracy\"])\n",
    "\n",
    "  history = model_met1.fit(X, y, epochs=epochs, batch_size=batch_size, verbose=verbose)\n",
    "\n",
    "  # Generate generalization metrics\n",
    "  scores = model_met1.evaluate(X[test], y[test], verbose=0)\n",
    "  print(f'Score for fold {fold_no}: {model_met1.metrics_names[0]} of {scores[0]}; {model_met1.metrics_names[1]} of {scores[1]*100}%')\n",
    "  acc_per_fold.append(scores[1] * 100)\n",
    "  loss_per_fold.append(scores[0])\n",
    "\n",
    "  # Increase fold number\n",
    "  fold_no = fold_no + 1"
   ]
  },
  {
   "cell_type": "code",
   "execution_count": 36,
   "metadata": {},
   "outputs": [
    {
     "data": {
      "text/plain": [
       "Text(0.5, 0, 'Methods')"
      ]
     },
     "execution_count": 36,
     "metadata": {},
     "output_type": "execute_result"
    },
    {
     "data": {
      "image/png": "[encoded data removed]",
      "text/plain": [
       "<Figure size 640x480 with 1 Axes>"
      ]
     },
     "metadata": {},
     "output_type": "display_data"
    }
   ],
   "source": [
    "plt.plot([\"Regression\", \"LSTM\"], [2.62536746, 2.63], marker=\"o\")\n",
    "plt.plot([\"Regression\", \"LSTM\"], [3.23016036, 3.22], marker=\"o\")\n",
    "plt.legend([\"Train Error\", \"Test Error\"])\n",
    "plt.title(\"Root Mean Squared Error by method\")\n",
    "plt.xlabel(\"Methods\")"
   ]
  },
  {
   "attachments": {},
   "cell_type": "markdown",
   "metadata": {},
   "source": [
    "### Method 1\n",
    "Input: c(t), StationEnd, Temp\n",
    "\n",
    "Output: c(t+1)"
   ]
  },
  {
   "cell_type": "code",
   "execution_count": 16,
   "metadata": {},
   "outputs": [
    {
     "name": "stdout",
     "output_type": "stream",
     "text": [
      "\n",
      "--------------------------------------------------------------------------------------------\n",
      "\n",
      "METHOD 1:\n",
      "Input: c(t), StationEnd, Temp\n",
      "Output: c(t+1)\n",
      "\n",
      "\n",
      "Epoch 1/10\n"
     ]
    },
    {
     "name": "stderr",
     "output_type": "stream",
     "text": [
      "2023-05-08 16:05:40.904471: I tensorflow/core/common_runtime/executor.cc:1197] [/device:CPU:0] (DEBUG INFO) Executor start aborting (this does not indicate an error and you can ignore this message): INVALID_ARGUMENT: You must feed a value for placeholder tensor 'gradients/split_2_grad/concat/split_2/split_dim' with dtype int32\n",
      "\t [[{{node gradients/split_2_grad/concat/split_2/split_dim}}]]\n",
      "2023-05-08 16:05:40.906347: I tensorflow/core/common_runtime/executor.cc:1197] [/device:CPU:0] (DEBUG INFO) Executor start aborting (this does not indicate an error and you can ignore this message): INVALID_ARGUMENT: You must feed a value for placeholder tensor 'gradients/split_grad/concat/split/split_dim' with dtype int32\n",
      "\t [[{{node gradients/split_grad/concat/split/split_dim}}]]\n",
      "2023-05-08 16:05:40.907489: I tensorflow/core/common_runtime/executor.cc:1197] [/device:CPU:0] (DEBUG INFO) Executor start aborting (this does not indicate an error and you can ignore this message): INVALID_ARGUMENT: You must feed a value for placeholder tensor 'gradients/split_1_grad/concat/split_1/split_dim' with dtype int32\n",
      "\t [[{{node gradients/split_1_grad/concat/split_1/split_dim}}]]\n",
      "2023-05-08 16:05:41.151682: I tensorflow/core/common_runtime/executor.cc:1197] [/device:CPU:0] (DEBUG INFO) Executor start aborting (this does not indicate an error and you can ignore this message): INVALID_ARGUMENT: You must feed a value for placeholder tensor 'gradients/split_2_grad/concat/split_2/split_dim' with dtype int32\n",
      "\t [[{{node gradients/split_2_grad/concat/split_2/split_dim}}]]\n",
      "2023-05-08 16:05:41.154373: I tensorflow/core/common_runtime/executor.cc:1197] [/device:CPU:0] (DEBUG INFO) Executor start aborting (this does not indicate an error and you can ignore this message): INVALID_ARGUMENT: You must feed a value for placeholder tensor 'gradients/split_grad/concat/split/split_dim' with dtype int32\n",
      "\t [[{{node gradients/split_grad/concat/split/split_dim}}]]\n",
      "2023-05-08 16:05:41.156798: I tensorflow/core/common_runtime/executor.cc:1197] [/device:CPU:0] (DEBUG INFO) Executor start aborting (this does not indicate an error and you can ignore this message): INVALID_ARGUMENT: You must feed a value for placeholder tensor 'gradients/split_1_grad/concat/split_1/split_dim' with dtype int32\n",
      "\t [[{{node gradients/split_1_grad/concat/split_1/split_dim}}]]\n",
      "2023-05-08 16:05:41.592529: I tensorflow/core/common_runtime/executor.cc:1197] [/device:CPU:0] (DEBUG INFO) Executor start aborting (this does not indicate an error and you can ignore this message): INVALID_ARGUMENT: You must feed a value for placeholder tensor 'gradients/split_2_grad/concat/split_2/split_dim' with dtype int32\n",
      "\t [[{{node gradients/split_2_grad/concat/split_2/split_dim}}]]\n",
      "2023-05-08 16:05:41.594113: I tensorflow/core/common_runtime/executor.cc:1197] [/device:CPU:0] (DEBUG INFO) Executor start aborting (this does not indicate an error and you can ignore this message): INVALID_ARGUMENT: You must feed a value for placeholder tensor 'gradients/split_grad/concat/split/split_dim' with dtype int32\n",
      "\t [[{{node gradients/split_grad/concat/split/split_dim}}]]\n",
      "2023-05-08 16:05:41.595265: I tensorflow/core/common_runtime/executor.cc:1197] [/device:CPU:0] (DEBUG INFO) Executor start aborting (this does not indicate an error and you can ignore this message): INVALID_ARGUMENT: You must feed a value for placeholder tensor 'gradients/split_1_grad/concat/split_1/split_dim' with dtype int32\n",
      "\t [[{{node gradients/split_1_grad/concat/split_1/split_dim}}]]\n"
     ]
    },
    {
     "name": "stdout",
     "output_type": "stream",
     "text": [
      "61129/61129 - 55s - loss: 2.7711 - 55s/epoch - 900us/step\n",
      "Epoch 2/10\n",
      "61129/61129 - 55s - loss: 2.6488 - 55s/epoch - 902us/step\n",
      "Epoch 3/10\n",
      "61129/61129 - 52s - loss: 2.6348 - 52s/epoch - 850us/step\n",
      "Epoch 4/10\n",
      "61129/61129 - 52s - loss: 2.6311 - 52s/epoch - 857us/step\n",
      "Epoch 5/10\n",
      "61129/61129 - 52s - loss: 2.6242 - 52s/epoch - 857us/step\n",
      "Epoch 6/10\n",
      "61129/61129 - 52s - loss: 2.6199 - 52s/epoch - 850us/step\n",
      "Epoch 7/10\n",
      "61129/61129 - 49s - loss: 2.6160 - 49s/epoch - 803us/step\n",
      "Epoch 8/10\n",
      "61129/61129 - 47s - loss: 2.6123 - 47s/epoch - 770us/step\n",
      "Epoch 9/10\n",
      "61129/61129 - 47s - loss: 2.6084 - 47s/epoch - 771us/step\n",
      "Epoch 10/10\n",
      "61129/61129 - 47s - loss: 2.6075 - 47s/epoch - 767us/step\n",
      " 184/1911 [=>............................] - ETA: 0s"
     ]
    },
    {
     "name": "stderr",
     "output_type": "stream",
     "text": [
      "2023-05-08 16:14:10.112613: I tensorflow/core/common_runtime/executor.cc:1197] [/device:CPU:0] (DEBUG INFO) Executor start aborting (this does not indicate an error and you can ignore this message): INVALID_ARGUMENT: You must feed a value for placeholder tensor 'gradients/split_2_grad/concat/split_2/split_dim' with dtype int32\n",
      "\t [[{{node gradients/split_2_grad/concat/split_2/split_dim}}]]\n",
      "2023-05-08 16:14:10.113721: I tensorflow/core/common_runtime/executor.cc:1197] [/device:CPU:0] (DEBUG INFO) Executor start aborting (this does not indicate an error and you can ignore this message): INVALID_ARGUMENT: You must feed a value for placeholder tensor 'gradients/split_grad/concat/split/split_dim' with dtype int32\n",
      "\t [[{{node gradients/split_grad/concat/split/split_dim}}]]\n",
      "2023-05-08 16:14:10.114431: I tensorflow/core/common_runtime/executor.cc:1197] [/device:CPU:0] (DEBUG INFO) Executor start aborting (this does not indicate an error and you can ignore this message): INVALID_ARGUMENT: You must feed a value for placeholder tensor 'gradients/split_1_grad/concat/split_1/split_dim' with dtype int32\n",
      "\t [[{{node gradients/split_1_grad/concat/split_1/split_dim}}]]\n"
     ]
    },
    {
     "name": "stdout",
     "output_type": "stream",
     "text": [
      "1911/1911 [==============================] - 1s 576us/step\n",
      "554/554 [==============================] - 0s 665us/step\n",
      "Train Score: 2.58 MSE\n",
      "Test Score: 3.16 MSE\n"
     ]
    }
   ],
   "source": [
    "print(\"\"\"\n",
    "--------------------------------------------------------------------------------------------\n",
    "\n",
    "METHOD 1:\n",
    "Input: c(t), StationEnd, Temp\n",
    "Output: c(t+1)\n",
    "\n",
    "\"\"\")\n",
    "\n",
    "cols = [\"StationEnd\", \"Count\", \"Count1\", \"Count1week\", \"Temp\"]\n",
    "\n",
    "training_data_met1 = training_data[[col for col in training_data.columns if col in cols]]\n",
    "testing_data_met1 = testing_data[[col for col in testing_data.columns if col in cols]]\n",
    "\n",
    "trainX = training_data_met1.drop(columns=[\"Count\"])\n",
    "trainY = training_data_met1[\"Count\"]\n",
    "\n",
    "testX = testing_data_met1.drop(columns=[\"Count\"])\n",
    "testY = testing_data_met1[\"Count\"]\n",
    "\n",
    "trainX = np.reshape(trainX.values, (trainX.shape[0], 1, trainX.shape[1]))\n",
    "testX = np.reshape(testX.values, (testX.shape[0], 1, testX.shape[1]))\n",
    "\n",
    "model_met1 = Sequential()\n",
    "model_met1.add(LSTM(4, input_shape=(1,training_data_met1.shape[1]-1)))\n",
    "model_met1.add(Dense(1))\n",
    "model_met1.compile(loss='mean_squared_error', optimizer='adam')\n",
    "model_met1.fit(trainX, trainY, epochs=epochs, batch_size=batch_size, verbose=verbose)\n",
    "\n",
    "scaler = MinMaxScaler(feature_range=(0, 1))\n",
    "dataset = scaler.fit_transform(pd.concat([training_data_met1, testing_data_met1]))\n",
    "\n",
    "# make predictions\n",
    "trainPredict = model_met1.predict(trainX)\n",
    "testPredict = model_met1.predict(testX)\n",
    "\n",
    "# calculate root mean squared error\n",
    "trainScore = mean_squared_error(trainY[:], trainPredict[:])\n",
    "print('Train Score: %.2f MSE' % (trainScore))\n",
    "testScore = mean_squared_error(testY[:], testPredict[:])\n",
    "print('Test Score: %.2f MSE' % (testScore))\n",
    "\n",
    "train_errors.append(trainScore)\n",
    "test_errors.append(testScore)"
   ]
  },
  {
   "attachments": {},
   "cell_type": "markdown",
   "metadata": {},
   "source": [
    "### Method 2\n",
    "Input: c(t), StationEnd, Temp, ATemp\n",
    "\n",
    "Output: c(t+1)"
   ]
  },
  {
   "cell_type": "code",
   "execution_count": 17,
   "metadata": {},
   "outputs": [
    {
     "name": "stdout",
     "output_type": "stream",
     "text": [
      "\n",
      "--------------------------------------------------------------------------------------------\n",
      "\n",
      "METHOD 2:\n",
      "Input: c(t), StationEnd, Temp, ATemp\n",
      "Output: c(t+1)\n",
      "\n",
      "\n",
      "Epoch 1/10\n"
     ]
    },
    {
     "name": "stderr",
     "output_type": "stream",
     "text": [
      "2023-05-08 16:14:12.304889: I tensorflow/core/common_runtime/executor.cc:1197] [/device:CPU:0] (DEBUG INFO) Executor start aborting (this does not indicate an error and you can ignore this message): INVALID_ARGUMENT: You must feed a value for placeholder tensor 'gradients/split_2_grad/concat/split_2/split_dim' with dtype int32\n",
      "\t [[{{node gradients/split_2_grad/concat/split_2/split_dim}}]]\n",
      "2023-05-08 16:14:12.306979: I tensorflow/core/common_runtime/executor.cc:1197] [/device:CPU:0] (DEBUG INFO) Executor start aborting (this does not indicate an error and you can ignore this message): INVALID_ARGUMENT: You must feed a value for placeholder tensor 'gradients/split_grad/concat/split/split_dim' with dtype int32\n",
      "\t [[{{node gradients/split_grad/concat/split/split_dim}}]]\n",
      "2023-05-08 16:14:12.308099: I tensorflow/core/common_runtime/executor.cc:1197] [/device:CPU:0] (DEBUG INFO) Executor start aborting (this does not indicate an error and you can ignore this message): INVALID_ARGUMENT: You must feed a value for placeholder tensor 'gradients/split_1_grad/concat/split_1/split_dim' with dtype int32\n",
      "\t [[{{node gradients/split_1_grad/concat/split_1/split_dim}}]]\n",
      "2023-05-08 16:14:12.547993: I tensorflow/core/common_runtime/executor.cc:1197] [/device:CPU:0] (DEBUG INFO) Executor start aborting (this does not indicate an error and you can ignore this message): INVALID_ARGUMENT: You must feed a value for placeholder tensor 'gradients/split_2_grad/concat/split_2/split_dim' with dtype int32\n",
      "\t [[{{node gradients/split_2_grad/concat/split_2/split_dim}}]]\n",
      "2023-05-08 16:14:12.549690: I tensorflow/core/common_runtime/executor.cc:1197] [/device:CPU:0] (DEBUG INFO) Executor start aborting (this does not indicate an error and you can ignore this message): INVALID_ARGUMENT: You must feed a value for placeholder tensor 'gradients/split_grad/concat/split/split_dim' with dtype int32\n",
      "\t [[{{node gradients/split_grad/concat/split/split_dim}}]]\n",
      "2023-05-08 16:14:12.551236: I tensorflow/core/common_runtime/executor.cc:1197] [/device:CPU:0] (DEBUG INFO) Executor start aborting (this does not indicate an error and you can ignore this message): INVALID_ARGUMENT: You must feed a value for placeholder tensor 'gradients/split_1_grad/concat/split_1/split_dim' with dtype int32\n",
      "\t [[{{node gradients/split_1_grad/concat/split_1/split_dim}}]]\n",
      "2023-05-08 16:14:13.355202: I tensorflow/core/common_runtime/executor.cc:1197] [/device:CPU:0] (DEBUG INFO) Executor start aborting (this does not indicate an error and you can ignore this message): INVALID_ARGUMENT: You must feed a value for placeholder tensor 'gradients/split_2_grad/concat/split_2/split_dim' with dtype int32\n",
      "\t [[{{node gradients/split_2_grad/concat/split_2/split_dim}}]]\n",
      "2023-05-08 16:14:13.356668: I tensorflow/core/common_runtime/executor.cc:1197] [/device:CPU:0] (DEBUG INFO) Executor start aborting (this does not indicate an error and you can ignore this message): INVALID_ARGUMENT: You must feed a value for placeholder tensor 'gradients/split_grad/concat/split/split_dim' with dtype int32\n",
      "\t [[{{node gradients/split_grad/concat/split/split_dim}}]]\n",
      "2023-05-08 16:14:13.357543: I tensorflow/core/common_runtime/executor.cc:1197] [/device:CPU:0] (DEBUG INFO) Executor start aborting (this does not indicate an error and you can ignore this message): INVALID_ARGUMENT: You must feed a value for placeholder tensor 'gradients/split_1_grad/concat/split_1/split_dim' with dtype int32\n",
      "\t [[{{node gradients/split_1_grad/concat/split_1/split_dim}}]]\n"
     ]
    },
    {
     "name": "stdout",
     "output_type": "stream",
     "text": [
      "61129/61129 - 55s - loss: 2.8035 - 55s/epoch - 892us/step\n",
      "Epoch 2/10\n",
      "61129/61129 - 51s - loss: 2.6536 - 51s/epoch - 831us/step\n",
      "Epoch 3/10\n",
      "61129/61129 - 47s - loss: 2.6407 - 47s/epoch - 763us/step\n",
      "Epoch 4/10\n",
      "61129/61129 - 55s - loss: 2.6356 - 55s/epoch - 898us/step\n",
      "Epoch 5/10\n",
      "61129/61129 - 68s - loss: 2.6320 - 68s/epoch - 1ms/step\n",
      "Epoch 6/10\n",
      "61129/61129 - 60s - loss: 2.6273 - 60s/epoch - 974us/step\n",
      "Epoch 7/10\n",
      "61129/61129 - 59s - loss: 2.6194 - 59s/epoch - 967us/step\n",
      "Epoch 8/10\n",
      "61129/61129 - 53s - loss: 2.6229 - 53s/epoch - 864us/step\n",
      "Epoch 9/10\n",
      "61129/61129 - 51s - loss: 2.6193 - 51s/epoch - 826us/step\n",
      "Epoch 10/10\n",
      "61129/61129 - 89s - loss: 2.6196 - 89s/epoch - 1ms/step\n",
      "   1/1911 [..............................] - ETA: 12:55"
     ]
    },
    {
     "name": "stderr",
     "output_type": "stream",
     "text": [
      "2023-05-08 16:23:58.261031: I tensorflow/core/common_runtime/executor.cc:1197] [/device:CPU:0] (DEBUG INFO) Executor start aborting (this does not indicate an error and you can ignore this message): INVALID_ARGUMENT: You must feed a value for placeholder tensor 'gradients/split_2_grad/concat/split_2/split_dim' with dtype int32\n",
      "\t [[{{node gradients/split_2_grad/concat/split_2/split_dim}}]]\n",
      "2023-05-08 16:23:58.264682: I tensorflow/core/common_runtime/executor.cc:1197] [/device:CPU:0] (DEBUG INFO) Executor start aborting (this does not indicate an error and you can ignore this message): INVALID_ARGUMENT: You must feed a value for placeholder tensor 'gradients/split_grad/concat/split/split_dim' with dtype int32\n",
      "\t [[{{node gradients/split_grad/concat/split/split_dim}}]]\n",
      "2023-05-08 16:23:58.266866: I tensorflow/core/common_runtime/executor.cc:1197] [/device:CPU:0] (DEBUG INFO) Executor start aborting (this does not indicate an error and you can ignore this message): INVALID_ARGUMENT: You must feed a value for placeholder tensor 'gradients/split_1_grad/concat/split_1/split_dim' with dtype int32\n",
      "\t [[{{node gradients/split_1_grad/concat/split_1/split_dim}}]]\n"
     ]
    },
    {
     "name": "stdout",
     "output_type": "stream",
     "text": [
      "1911/1911 [==============================] - 2s 1ms/step\n",
      "554/554 [==============================] - 1s 1ms/step\n",
      "Train Score: 2.59 MSE\n",
      "Test Score: 3.16 MSE\n"
     ]
    }
   ],
   "source": [
    "print(\"\"\"\n",
    "--------------------------------------------------------------------------------------------\n",
    "\n",
    "METHOD 2:\n",
    "Input: c(t), StationEnd, Temp, ATemp\n",
    "Output: c(t+1)\n",
    "\n",
    "\"\"\")\n",
    "\n",
    "cols = [\"StationEnd\", \"Count\", \"Count1\", \"Count1week\", \"Temp\", \"ATemp\"]\n",
    "\n",
    "training_data_met2 = training_data[[col for col in training_data.columns if col in cols]]\n",
    "testing_data_met2 = testing_data[[col for col in testing_data.columns if col in cols]]\n",
    "\n",
    "trainX = training_data_met2.drop(columns=[\"Count\"])\n",
    "trainY = training_data_met2[\"Count\"]\n",
    "\n",
    "testX = testing_data_met2.drop(columns=[\"Count\"])\n",
    "testY = testing_data_met2[\"Count\"]\n",
    "\n",
    "trainX = np.reshape(trainX.values, (trainX.shape[0], 1, trainX.shape[1]))\n",
    "testX = np.reshape(testX.values, (testX.shape[0], 1, testX.shape[1]))\n",
    "\n",
    "model_met1 = Sequential()\n",
    "model_met1.add(LSTM(4, input_shape=(1,testing_data_met2.shape[1]-1)))\n",
    "model_met1.add(Dense(1))\n",
    "model_met1.compile(loss='mean_squared_error', optimizer='adam')\n",
    "model_met1.fit(trainX, trainY, epochs=epochs, batch_size=batch_size, verbose=verbose)\n",
    "\n",
    "scaler = MinMaxScaler(feature_range=(0, 1))\n",
    "dataset = scaler.fit_transform(pd.concat([training_data_met2, testing_data_met2]))\n",
    "\n",
    "# make predictions\n",
    "trainPredict = model_met1.predict(trainX)\n",
    "testPredict = model_met1.predict(testX)\n",
    "\n",
    "# calculate root mean squared error\n",
    "trainScore = mean_squared_error(trainY[:], trainPredict[:])\n",
    "print('Train Score: %.2f MSE' % (trainScore))\n",
    "testScore = mean_squared_error(testY[:], testPredict[:])\n",
    "print('Test Score: %.2f MSE' % (testScore))\n",
    "\n",
    "train_errors.append(trainScore)\n",
    "test_errors.append(testScore)"
   ]
  },
  {
   "attachments": {},
   "cell_type": "markdown",
   "metadata": {},
   "source": [
    "### Method 3\n",
    "Input: c(t), StationEnd, Temp, ATemp, Day\n",
    "\n",
    "Output: c(t+1)"
   ]
  },
  {
   "cell_type": "code",
   "execution_count": 18,
   "metadata": {},
   "outputs": [
    {
     "name": "stdout",
     "output_type": "stream",
     "text": [
      "\n",
      "--------------------------------------------------------------------------------------------\n",
      "\n",
      "METHOD 3:\n",
      "Input: c(t), StationEnd, Temp, ATemp, Day\n",
      "Output: c(t+1)\n",
      "\n",
      "\n",
      "Epoch 1/10\n"
     ]
    },
    {
     "name": "stderr",
     "output_type": "stream",
     "text": [
      "2023-05-08 16:24:02.520865: I tensorflow/core/common_runtime/executor.cc:1197] [/device:CPU:0] (DEBUG INFO) Executor start aborting (this does not indicate an error and you can ignore this message): INVALID_ARGUMENT: You must feed a value for placeholder tensor 'gradients/split_2_grad/concat/split_2/split_dim' with dtype int32\n",
      "\t [[{{node gradients/split_2_grad/concat/split_2/split_dim}}]]\n",
      "2023-05-08 16:24:02.522694: I tensorflow/core/common_runtime/executor.cc:1197] [/device:CPU:0] (DEBUG INFO) Executor start aborting (this does not indicate an error and you can ignore this message): INVALID_ARGUMENT: You must feed a value for placeholder tensor 'gradients/split_grad/concat/split/split_dim' with dtype int32\n",
      "\t [[{{node gradients/split_grad/concat/split/split_dim}}]]\n",
      "2023-05-08 16:24:02.523714: I tensorflow/core/common_runtime/executor.cc:1197] [/device:CPU:0] (DEBUG INFO) Executor start aborting (this does not indicate an error and you can ignore this message): INVALID_ARGUMENT: You must feed a value for placeholder tensor 'gradients/split_1_grad/concat/split_1/split_dim' with dtype int32\n",
      "\t [[{{node gradients/split_1_grad/concat/split_1/split_dim}}]]\n",
      "2023-05-08 16:24:02.824553: I tensorflow/core/common_runtime/executor.cc:1197] [/device:CPU:0] (DEBUG INFO) Executor start aborting (this does not indicate an error and you can ignore this message): INVALID_ARGUMENT: You must feed a value for placeholder tensor 'gradients/split_2_grad/concat/split_2/split_dim' with dtype int32\n",
      "\t [[{{node gradients/split_2_grad/concat/split_2/split_dim}}]]\n",
      "2023-05-08 16:24:02.828140: I tensorflow/core/common_runtime/executor.cc:1197] [/device:CPU:0] (DEBUG INFO) Executor start aborting (this does not indicate an error and you can ignore this message): INVALID_ARGUMENT: You must feed a value for placeholder tensor 'gradients/split_grad/concat/split/split_dim' with dtype int32\n",
      "\t [[{{node gradients/split_grad/concat/split/split_dim}}]]\n",
      "2023-05-08 16:24:02.830106: I tensorflow/core/common_runtime/executor.cc:1197] [/device:CPU:0] (DEBUG INFO) Executor start aborting (this does not indicate an error and you can ignore this message): INVALID_ARGUMENT: You must feed a value for placeholder tensor 'gradients/split_1_grad/concat/split_1/split_dim' with dtype int32\n",
      "\t [[{{node gradients/split_1_grad/concat/split_1/split_dim}}]]\n",
      "2023-05-08 16:24:03.296259: I tensorflow/core/common_runtime/executor.cc:1197] [/device:CPU:0] (DEBUG INFO) Executor start aborting (this does not indicate an error and you can ignore this message): INVALID_ARGUMENT: You must feed a value for placeholder tensor 'gradients/split_2_grad/concat/split_2/split_dim' with dtype int32\n",
      "\t [[{{node gradients/split_2_grad/concat/split_2/split_dim}}]]\n",
      "2023-05-08 16:24:03.299212: I tensorflow/core/common_runtime/executor.cc:1197] [/device:CPU:0] (DEBUG INFO) Executor start aborting (this does not indicate an error and you can ignore this message): INVALID_ARGUMENT: You must feed a value for placeholder tensor 'gradients/split_grad/concat/split/split_dim' with dtype int32\n",
      "\t [[{{node gradients/split_grad/concat/split/split_dim}}]]\n",
      "2023-05-08 16:24:03.300766: I tensorflow/core/common_runtime/executor.cc:1197] [/device:CPU:0] (DEBUG INFO) Executor start aborting (this does not indicate an error and you can ignore this message): INVALID_ARGUMENT: You must feed a value for placeholder tensor 'gradients/split_1_grad/concat/split_1/split_dim' with dtype int32\n",
      "\t [[{{node gradients/split_1_grad/concat/split_1/split_dim}}]]\n"
     ]
    },
    {
     "name": "stdout",
     "output_type": "stream",
     "text": [
      "61129/61129 - 77s - loss: 2.9903 - 77s/epoch - 1ms/step\n",
      "Epoch 2/10\n",
      "61129/61129 - 55s - loss: 2.7765 - 55s/epoch - 892us/step\n",
      "Epoch 3/10\n",
      "61129/61129 - 49s - loss: 2.7712 - 49s/epoch - 794us/step\n",
      "Epoch 4/10\n",
      "61129/61129 - 51s - loss: 2.7688 - 51s/epoch - 829us/step\n",
      "Epoch 5/10\n",
      "61129/61129 - 52s - loss: 2.7550 - 52s/epoch - 847us/step\n",
      "Epoch 6/10\n",
      "61129/61129 - 60s - loss: 2.7723 - 60s/epoch - 983us/step\n",
      "Epoch 7/10\n",
      "61129/61129 - 65s - loss: 2.7874 - 65s/epoch - 1ms/step\n",
      "Epoch 8/10\n",
      "61129/61129 - 50s - loss: 2.7504 - 50s/epoch - 825us/step\n",
      "Epoch 9/10\n",
      "61129/61129 - 49s - loss: 2.7443 - 49s/epoch - 794us/step\n",
      "Epoch 10/10\n",
      "61129/61129 - 47s - loss: 2.7295 - 47s/epoch - 767us/step\n",
      " 167/1911 [=>............................] - ETA: 1s"
     ]
    },
    {
     "name": "stderr",
     "output_type": "stream",
     "text": [
      "2023-05-08 16:33:16.612144: I tensorflow/core/common_runtime/executor.cc:1197] [/device:CPU:0] (DEBUG INFO) Executor start aborting (this does not indicate an error and you can ignore this message): INVALID_ARGUMENT: You must feed a value for placeholder tensor 'gradients/split_2_grad/concat/split_2/split_dim' with dtype int32\n",
      "\t [[{{node gradients/split_2_grad/concat/split_2/split_dim}}]]\n",
      "2023-05-08 16:33:16.613183: I tensorflow/core/common_runtime/executor.cc:1197] [/device:CPU:0] (DEBUG INFO) Executor start aborting (this does not indicate an error and you can ignore this message): INVALID_ARGUMENT: You must feed a value for placeholder tensor 'gradients/split_grad/concat/split/split_dim' with dtype int32\n",
      "\t [[{{node gradients/split_grad/concat/split/split_dim}}]]\n",
      "2023-05-08 16:33:16.613856: I tensorflow/core/common_runtime/executor.cc:1197] [/device:CPU:0] (DEBUG INFO) Executor start aborting (this does not indicate an error and you can ignore this message): INVALID_ARGUMENT: You must feed a value for placeholder tensor 'gradients/split_1_grad/concat/split_1/split_dim' with dtype int32\n",
      "\t [[{{node gradients/split_1_grad/concat/split_1/split_dim}}]]\n"
     ]
    },
    {
     "name": "stdout",
     "output_type": "stream",
     "text": [
      "1911/1911 [==============================] - 1s 557us/step\n",
      "554/554 [==============================] - 0s 671us/step\n",
      "Train Score: 2.88 MSE\n",
      "Test Score: 3.63 MSE\n"
     ]
    }
   ],
   "source": [
    "print(\"\"\"\n",
    "--------------------------------------------------------------------------------------------\n",
    "\n",
    "METHOD 3:\n",
    "Input: c(t), StationEnd, Temp, ATemp, Day\n",
    "Output: c(t+1)\n",
    "\n",
    "\"\"\")\n",
    "\n",
    "cols = [\"StationEnd\", \"Count\", \"Count1\", \"Count1week\", \"Temp\", \"ATemp\", \"Day\"]\n",
    "\n",
    "training_data_met3 = training_data[[col for col in training_data.columns if col in cols]]\n",
    "testing_data_met3 = testing_data[[col for col in testing_data.columns if col in cols]]\n",
    "\n",
    "trainX = training_data_met3.drop(columns=[\"Count\"])\n",
    "trainY = training_data_met3[\"Count\"]\n",
    "\n",
    "testX = testing_data_met3.drop(columns=[\"Count\"])\n",
    "testY = testing_data_met3[\"Count\"]\n",
    "\n",
    "trainX = np.reshape(trainX.values, (trainX.shape[0], 1, trainX.shape[1]))\n",
    "testX = np.reshape(testX.values, (testX.shape[0], 1, testX.shape[1]))\n",
    "\n",
    "model_met1 = Sequential()\n",
    "model_met1.add(LSTM(4, input_shape=(1,training_data_met3.shape[1]-1)))\n",
    "model_met1.add(Dense(1))\n",
    "model_met1.compile(loss='mean_squared_error', optimizer='adam')\n",
    "model_met1.fit(trainX, trainY, epochs=epochs, batch_size=batch_size, verbose=verbose)\n",
    "\n",
    "scaler = MinMaxScaler(feature_range=(0, 1))\n",
    "dataset = scaler.fit_transform(pd.concat([training_data_met3, testing_data_met3]))\n",
    "\n",
    "# make predictions\n",
    "trainPredict = model_met1.predict(trainX)\n",
    "testPredict = model_met1.predict(testX)\n",
    "\n",
    "# calculate root mean squared error\n",
    "trainScore = mean_squared_error(trainY[:], trainPredict[:])\n",
    "print('Train Score: %.2f MSE' % (trainScore))\n",
    "testScore = mean_squared_error(testY[:], testPredict[:])\n",
    "print('Test Score: %.2f MSE' % (testScore))\n",
    "\n",
    "train_errors.append(trainScore)\n",
    "test_errors.append(testScore)"
   ]
  },
  {
   "attachments": {},
   "cell_type": "markdown",
   "metadata": {},
   "source": [
    "### Method 4\n",
    "Input: c(t), StationEnd, Temp, ATemp, Day, Hour\n",
    "\n",
    "Output: c(t+1)"
   ]
  },
  {
   "cell_type": "code",
   "execution_count": 20,
   "metadata": {},
   "outputs": [
    {
     "name": "stdout",
     "output_type": "stream",
     "text": [
      "\n",
      "--------------------------------------------------------------------------------------------\n",
      "\n",
      "METHOD 4:\n",
      "Input: c(t), StationEnd, Temp, ATemp, Day, Hour\n",
      "Output: c(t+1)\n",
      "\n",
      "\n",
      "Epoch 1/10\n"
     ]
    },
    {
     "name": "stderr",
     "output_type": "stream",
     "text": [
      "2023-05-09 08:53:18.230430: I tensorflow/core/common_runtime/executor.cc:1197] [/device:CPU:0] (DEBUG INFO) Executor start aborting (this does not indicate an error and you can ignore this message): INVALID_ARGUMENT: You must feed a value for placeholder tensor 'gradients/split_2_grad/concat/split_2/split_dim' with dtype int32\n",
      "\t [[{{node gradients/split_2_grad/concat/split_2/split_dim}}]]\n",
      "2023-05-09 08:53:18.231347: I tensorflow/core/common_runtime/executor.cc:1197] [/device:CPU:0] (DEBUG INFO) Executor start aborting (this does not indicate an error and you can ignore this message): INVALID_ARGUMENT: You must feed a value for placeholder tensor 'gradients/split_grad/concat/split/split_dim' with dtype int32\n",
      "\t [[{{node gradients/split_grad/concat/split/split_dim}}]]\n",
      "2023-05-09 08:53:18.232470: I tensorflow/core/common_runtime/executor.cc:1197] [/device:CPU:0] (DEBUG INFO) Executor start aborting (this does not indicate an error and you can ignore this message): INVALID_ARGUMENT: You must feed a value for placeholder tensor 'gradients/split_1_grad/concat/split_1/split_dim' with dtype int32\n",
      "\t [[{{node gradients/split_1_grad/concat/split_1/split_dim}}]]\n",
      "2023-05-09 08:53:18.420833: I tensorflow/core/common_runtime/executor.cc:1197] [/device:CPU:0] (DEBUG INFO) Executor start aborting (this does not indicate an error and you can ignore this message): INVALID_ARGUMENT: You must feed a value for placeholder tensor 'gradients/split_2_grad/concat/split_2/split_dim' with dtype int32\n",
      "\t [[{{node gradients/split_2_grad/concat/split_2/split_dim}}]]\n",
      "2023-05-09 08:53:18.421962: I tensorflow/core/common_runtime/executor.cc:1197] [/device:CPU:0] (DEBUG INFO) Executor start aborting (this does not indicate an error and you can ignore this message): INVALID_ARGUMENT: You must feed a value for placeholder tensor 'gradients/split_grad/concat/split/split_dim' with dtype int32\n",
      "\t [[{{node gradients/split_grad/concat/split/split_dim}}]]\n",
      "2023-05-09 08:53:18.422768: I tensorflow/core/common_runtime/executor.cc:1197] [/device:CPU:0] (DEBUG INFO) Executor start aborting (this does not indicate an error and you can ignore this message): INVALID_ARGUMENT: You must feed a value for placeholder tensor 'gradients/split_1_grad/concat/split_1/split_dim' with dtype int32\n",
      "\t [[{{node gradients/split_1_grad/concat/split_1/split_dim}}]]\n",
      "2023-05-09 08:53:18.725688: I tensorflow/core/common_runtime/executor.cc:1197] [/device:CPU:0] (DEBUG INFO) Executor start aborting (this does not indicate an error and you can ignore this message): INVALID_ARGUMENT: You must feed a value for placeholder tensor 'gradients/split_2_grad/concat/split_2/split_dim' with dtype int32\n",
      "\t [[{{node gradients/split_2_grad/concat/split_2/split_dim}}]]\n",
      "2023-05-09 08:53:18.726944: I tensorflow/core/common_runtime/executor.cc:1197] [/device:CPU:0] (DEBUG INFO) Executor start aborting (this does not indicate an error and you can ignore this message): INVALID_ARGUMENT: You must feed a value for placeholder tensor 'gradients/split_grad/concat/split/split_dim' with dtype int32\n",
      "\t [[{{node gradients/split_grad/concat/split/split_dim}}]]\n",
      "2023-05-09 08:53:18.727728: I tensorflow/core/common_runtime/executor.cc:1197] [/device:CPU:0] (DEBUG INFO) Executor start aborting (this does not indicate an error and you can ignore this message): INVALID_ARGUMENT: You must feed a value for placeholder tensor 'gradients/split_1_grad/concat/split_1/split_dim' with dtype int32\n",
      "\t [[{{node gradients/split_1_grad/concat/split_1/split_dim}}]]\n"
     ]
    },
    {
     "name": "stdout",
     "output_type": "stream",
     "text": [
      "61129/61129 - 49s - loss: 2.9720 - 49s/epoch - 808us/step\n",
      "Epoch 2/10\n",
      "61129/61129 - 56s - loss: 2.7825 - 56s/epoch - 924us/step\n",
      "Epoch 3/10\n",
      "61129/61129 - 55s - loss: 2.7793 - 55s/epoch - 894us/step\n",
      "Epoch 4/10\n",
      "61129/61129 - 90s - loss: 2.7613 - 90s/epoch - 1ms/step\n",
      "Epoch 5/10\n",
      "61129/61129 - 63s - loss: 2.7762 - 63s/epoch - 1ms/step\n",
      "Epoch 6/10\n",
      "61129/61129 - 62s - loss: 2.7613 - 62s/epoch - 1ms/step\n",
      "Epoch 7/10\n",
      "61129/61129 - 59s - loss: 2.7685 - 59s/epoch - 973us/step\n",
      "Epoch 8/10\n",
      "61129/61129 - 82s - loss: 2.7501 - 82s/epoch - 1ms/step\n",
      "Epoch 9/10\n",
      "61129/61129 - 63s - loss: 2.7476 - 63s/epoch - 1ms/step\n",
      "Epoch 10/10\n",
      "61129/61129 - 64s - loss: 2.7563 - 64s/epoch - 1ms/step\n",
      "   1/1911 [..............................] - ETA: 34:00"
     ]
    },
    {
     "name": "stderr",
     "output_type": "stream",
     "text": [
      "2023-05-09 09:04:02.398697: I tensorflow/core/common_runtime/executor.cc:1197] [/device:CPU:0] (DEBUG INFO) Executor start aborting (this does not indicate an error and you can ignore this message): INVALID_ARGUMENT: You must feed a value for placeholder tensor 'gradients/split_2_grad/concat/split_2/split_dim' with dtype int32\n",
      "\t [[{{node gradients/split_2_grad/concat/split_2/split_dim}}]]\n",
      "2023-05-09 09:04:02.401981: I tensorflow/core/common_runtime/executor.cc:1197] [/device:CPU:0] (DEBUG INFO) Executor start aborting (this does not indicate an error and you can ignore this message): INVALID_ARGUMENT: You must feed a value for placeholder tensor 'gradients/split_grad/concat/split/split_dim' with dtype int32\n",
      "\t [[{{node gradients/split_grad/concat/split/split_dim}}]]\n",
      "2023-05-09 09:04:02.403940: I tensorflow/core/common_runtime/executor.cc:1197] [/device:CPU:0] (DEBUG INFO) Executor start aborting (this does not indicate an error and you can ignore this message): INVALID_ARGUMENT: You must feed a value for placeholder tensor 'gradients/split_1_grad/concat/split_1/split_dim' with dtype int32\n",
      "\t [[{{node gradients/split_1_grad/concat/split_1/split_dim}}]]\n"
     ]
    },
    {
     "name": "stdout",
     "output_type": "stream",
     "text": [
      "1911/1911 [==============================] - 3s 838us/step\n",
      "554/554 [==============================] - 0s 857us/step\n",
      "Train Score: 2.73 MSE\n",
      "Test Score: 3.51 MSE\n"
     ]
    }
   ],
   "source": [
    "print(\"\"\"\n",
    "--------------------------------------------------------------------------------------------\n",
    "\n",
    "METHOD 4:\n",
    "Input: c(t), StationEnd, Temp, ATemp, Day, Hour\n",
    "Output: c(t+1)\n",
    "\n",
    "\"\"\")\n",
    "\n",
    "cols = [\"StationEnd\", \"Count\", \"Count1\", \"Count1week\", \"Temp\", \"ATemp\", \"Day\", \"Hour\"]\n",
    "\n",
    "training_data_met4 = training_data[[col for col in training_data.columns if col in cols]]\n",
    "testing_data_met4 = testing_data[[col for col in testing_data.columns if col in cols]]\n",
    "\n",
    "trainX = training_data_met4.drop(columns=[\"Count\"])\n",
    "trainY = training_data_met4[\"Count\"]\n",
    "\n",
    "testX = testing_data_met4.drop(columns=[\"Count\"])\n",
    "testY = testing_data_met4[\"Count\"]\n",
    "\n",
    "trainX = np.reshape(trainX.values, (trainX.shape[0], 1, trainX.shape[1]))\n",
    "testX = np.reshape(testX.values, (testX.shape[0], 1, testX.shape[1]))\n",
    "\n",
    "model_met1 = Sequential()\n",
    "model_met1.add(LSTM(4, input_shape=(1,testing_data_met4.shape[1]-1)))\n",
    "model_met1.add(Dense(1))\n",
    "model_met1.compile(loss='mean_squared_error', optimizer='adam')\n",
    "model_met1.fit(trainX, trainY, epochs=epochs, batch_size=batch_size, verbose=verbose)\n",
    "\n",
    "scaler = MinMaxScaler(feature_range=(0, 1))\n",
    "dataset = scaler.fit_transform(pd.concat([training_data_met4, testing_data_met4]))\n",
    "\n",
    "# make predictions\n",
    "trainPredict = model_met1.predict(trainX)\n",
    "testPredict = model_met1.predict(testX)\n",
    "\n",
    "# calculate root mean squared error\n",
    "trainScore = mean_squared_error(trainY[:], trainPredict[:])\n",
    "print('Train Score: %.2f MSE' % (trainScore))\n",
    "testScore = mean_squared_error(testY[:], testPredict[:])\n",
    "print('Test Score: %.2f MSE' % (testScore))\n",
    "\n",
    "train_errors.append(trainScore)\n",
    "test_errors.append(testScore)"
   ]
  },
  {
   "attachments": {},
   "cell_type": "markdown",
   "metadata": {},
   "source": [
    "### Method 5\n",
    "Input: c(t), StationEnd, Temp, ATemp, Day, Hour, Humidity\n",
    "\n",
    "Output: c(t+1)"
   ]
  },
  {
   "cell_type": "code",
   "execution_count": 21,
   "metadata": {},
   "outputs": [
    {
     "name": "stdout",
     "output_type": "stream",
     "text": [
      "\n",
      "--------------------------------------------------------------------------------------------\n",
      "\n",
      "METHOD 5:\n",
      "Input: c(t), StationEnd, Temp, ATemp, Day, Hour, Humidity\n",
      "Output: c(t+1)\n",
      "\n",
      "\n",
      "Epoch 1/10\n"
     ]
    },
    {
     "name": "stderr",
     "output_type": "stream",
     "text": [
      "2023-05-09 09:04:05.449936: I tensorflow/core/common_runtime/executor.cc:1197] [/device:CPU:0] (DEBUG INFO) Executor start aborting (this does not indicate an error and you can ignore this message): INVALID_ARGUMENT: You must feed a value for placeholder tensor 'gradients/split_2_grad/concat/split_2/split_dim' with dtype int32\n",
      "\t [[{{node gradients/split_2_grad/concat/split_2/split_dim}}]]\n",
      "2023-05-09 09:04:05.451756: I tensorflow/core/common_runtime/executor.cc:1197] [/device:CPU:0] (DEBUG INFO) Executor start aborting (this does not indicate an error and you can ignore this message): INVALID_ARGUMENT: You must feed a value for placeholder tensor 'gradients/split_grad/concat/split/split_dim' with dtype int32\n",
      "\t [[{{node gradients/split_grad/concat/split/split_dim}}]]\n",
      "2023-05-09 09:04:05.452604: I tensorflow/core/common_runtime/executor.cc:1197] [/device:CPU:0] (DEBUG INFO) Executor start aborting (this does not indicate an error and you can ignore this message): INVALID_ARGUMENT: You must feed a value for placeholder tensor 'gradients/split_1_grad/concat/split_1/split_dim' with dtype int32\n",
      "\t [[{{node gradients/split_1_grad/concat/split_1/split_dim}}]]\n",
      "2023-05-09 09:04:05.669546: I tensorflow/core/common_runtime/executor.cc:1197] [/device:CPU:0] (DEBUG INFO) Executor start aborting (this does not indicate an error and you can ignore this message): INVALID_ARGUMENT: You must feed a value for placeholder tensor 'gradients/split_2_grad/concat/split_2/split_dim' with dtype int32\n",
      "\t [[{{node gradients/split_2_grad/concat/split_2/split_dim}}]]\n",
      "2023-05-09 09:04:05.671414: I tensorflow/core/common_runtime/executor.cc:1197] [/device:CPU:0] (DEBUG INFO) Executor start aborting (this does not indicate an error and you can ignore this message): INVALID_ARGUMENT: You must feed a value for placeholder tensor 'gradients/split_grad/concat/split/split_dim' with dtype int32\n",
      "\t [[{{node gradients/split_grad/concat/split/split_dim}}]]\n",
      "2023-05-09 09:04:05.672361: I tensorflow/core/common_runtime/executor.cc:1197] [/device:CPU:0] (DEBUG INFO) Executor start aborting (this does not indicate an error and you can ignore this message): INVALID_ARGUMENT: You must feed a value for placeholder tensor 'gradients/split_1_grad/concat/split_1/split_dim' with dtype int32\n",
      "\t [[{{node gradients/split_1_grad/concat/split_1/split_dim}}]]\n",
      "2023-05-09 09:04:06.070505: I tensorflow/core/common_runtime/executor.cc:1197] [/device:CPU:0] (DEBUG INFO) Executor start aborting (this does not indicate an error and you can ignore this message): INVALID_ARGUMENT: You must feed a value for placeholder tensor 'gradients/split_2_grad/concat/split_2/split_dim' with dtype int32\n",
      "\t [[{{node gradients/split_2_grad/concat/split_2/split_dim}}]]\n",
      "2023-05-09 09:04:06.071738: I tensorflow/core/common_runtime/executor.cc:1197] [/device:CPU:0] (DEBUG INFO) Executor start aborting (this does not indicate an error and you can ignore this message): INVALID_ARGUMENT: You must feed a value for placeholder tensor 'gradients/split_grad/concat/split/split_dim' with dtype int32\n",
      "\t [[{{node gradients/split_grad/concat/split/split_dim}}]]\n",
      "2023-05-09 09:04:06.073074: I tensorflow/core/common_runtime/executor.cc:1197] [/device:CPU:0] (DEBUG INFO) Executor start aborting (this does not indicate an error and you can ignore this message): INVALID_ARGUMENT: You must feed a value for placeholder tensor 'gradients/split_1_grad/concat/split_1/split_dim' with dtype int32\n",
      "\t [[{{node gradients/split_1_grad/concat/split_1/split_dim}}]]\n"
     ]
    },
    {
     "name": "stdout",
     "output_type": "stream",
     "text": [
      "61129/61129 - 70s - loss: 3.0354 - 70s/epoch - 1ms/step\n",
      "Epoch 2/10\n",
      "61129/61129 - 68s - loss: 2.7681 - 68s/epoch - 1ms/step\n",
      "Epoch 3/10\n",
      "61129/61129 - 55s - loss: 2.7576 - 55s/epoch - 900us/step\n",
      "Epoch 4/10\n",
      "61129/61129 - 49s - loss: 2.7511 - 49s/epoch - 806us/step\n",
      "Epoch 5/10\n",
      "61129/61129 - 61s - loss: 2.7346 - 61s/epoch - 992us/step\n",
      "Epoch 6/10\n",
      "61129/61129 - 57s - loss: 2.7454 - 57s/epoch - 939us/step\n",
      "Epoch 7/10\n",
      "61129/61129 - 56s - loss: 2.7466 - 56s/epoch - 911us/step\n",
      "Epoch 8/10\n",
      "61129/61129 - 56s - loss: 2.7500 - 56s/epoch - 924us/step\n",
      "Epoch 9/10\n",
      "61129/61129 - 55s - loss: 2.7458 - 55s/epoch - 894us/step\n",
      "Epoch 10/10\n",
      "61129/61129 - 58s - loss: 2.7364 - 58s/epoch - 942us/step\n",
      " 141/1911 [=>............................] - ETA: 1s"
     ]
    },
    {
     "name": "stderr",
     "output_type": "stream",
     "text": [
      "2023-05-09 09:13:50.915319: I tensorflow/core/common_runtime/executor.cc:1197] [/device:CPU:0] (DEBUG INFO) Executor start aborting (this does not indicate an error and you can ignore this message): INVALID_ARGUMENT: You must feed a value for placeholder tensor 'gradients/split_2_grad/concat/split_2/split_dim' with dtype int32\n",
      "\t [[{{node gradients/split_2_grad/concat/split_2/split_dim}}]]\n",
      "2023-05-09 09:13:50.916486: I tensorflow/core/common_runtime/executor.cc:1197] [/device:CPU:0] (DEBUG INFO) Executor start aborting (this does not indicate an error and you can ignore this message): INVALID_ARGUMENT: You must feed a value for placeholder tensor 'gradients/split_grad/concat/split/split_dim' with dtype int32\n",
      "\t [[{{node gradients/split_grad/concat/split/split_dim}}]]\n",
      "2023-05-09 09:13:50.917674: I tensorflow/core/common_runtime/executor.cc:1197] [/device:CPU:0] (DEBUG INFO) Executor start aborting (this does not indicate an error and you can ignore this message): INVALID_ARGUMENT: You must feed a value for placeholder tensor 'gradients/split_1_grad/concat/split_1/split_dim' with dtype int32\n",
      "\t [[{{node gradients/split_1_grad/concat/split_1/split_dim}}]]\n"
     ]
    },
    {
     "name": "stdout",
     "output_type": "stream",
     "text": [
      "1911/1911 [==============================] - 2s 678us/step\n",
      "554/554 [==============================] - 0s 758us/step\n",
      "Train Score: 2.66 MSE\n",
      "Test Score: 3.26 MSE\n"
     ]
    }
   ],
   "source": [
    "print(\"\"\"\n",
    "--------------------------------------------------------------------------------------------\n",
    "\n",
    "METHOD 5:\n",
    "Input: c(t), StationEnd, Temp, ATemp, Day, Hour, Humidity\n",
    "Output: c(t+1)\n",
    "\n",
    "\"\"\")\n",
    "\n",
    "cols = [\"StationEnd\", \"Count\", \"Count1\", \"Count1week\", \"Temp\", \"ATemp\", \"Humidity\", \"Hour\", \"Day\"]\n",
    "\n",
    "training_data_met5 = training_data[[col for col in training_data.columns if col in cols]]\n",
    "testing_data_met5 = testing_data[[col for col in testing_data.columns if col in cols]]\n",
    "\n",
    "trainX = training_data_met5.drop(columns=[\"Count\"])\n",
    "trainY = training_data_met5[\"Count\"]\n",
    "\n",
    "testX = testing_data_met5.drop(columns=[\"Count\"])\n",
    "testY = testing_data_met5[\"Count\"]\n",
    "\n",
    "trainX = np.reshape(trainX.values, (trainX.shape[0], 1, trainX.shape[1]))\n",
    "testX = np.reshape(testX.values, (testX.shape[0], 1, testX.shape[1]))\n",
    "\n",
    "model_met1 = Sequential()\n",
    "model_met1.add(LSTM(4, input_shape=(1,testing_data_met5.shape[1]-1)))\n",
    "model_met1.add(Dense(1))\n",
    "model_met1.compile(loss='mean_squared_error', optimizer='adam')\n",
    "model_met1.fit(trainX, trainY, epochs=epochs, batch_size=batch_size, verbose=verbose)\n",
    "\n",
    "scaler = MinMaxScaler(feature_range=(0, 1))\n",
    "dataset = scaler.fit_transform(pd.concat([training_data_met5, testing_data_met5]))\n",
    "\n",
    "# make predictions\n",
    "trainPredict = model_met1.predict(trainX)\n",
    "testPredict = model_met1.predict(testX)\n",
    "\n",
    "# calculate root mean squared error\n",
    "trainScore = mean_squared_error(trainY[:], trainPredict[:])\n",
    "print('Train Score: %.2f MSE' % (trainScore))\n",
    "testScore = mean_squared_error(testY[:], testPredict[:])\n",
    "print('Test Score: %.2f MSE' % (testScore))\n",
    "\n",
    "train_errors.append(trainScore)\n",
    "test_errors.append(testScore)"
   ]
  },
  {
   "attachments": {},
   "cell_type": "markdown",
   "metadata": {},
   "source": [
    "### Method 6\n",
    "Input: c(t), StationEnd, Temp, ATemp, Day, Hour, Humidity, WeatherSituation\n",
    "\n",
    "Output: c(t+1)"
   ]
  },
  {
   "cell_type": "code",
   "execution_count": 22,
   "metadata": {},
   "outputs": [
    {
     "name": "stdout",
     "output_type": "stream",
     "text": [
      "\n",
      "--------------------------------------------------------------------------------------------\n",
      "\n",
      "METHOD 6:\n",
      "Input: c(t), StationEnd, Temp, ATemp, Humidity, Hour, Day, WeatherSituation\n",
      "Output: c(t+1)\n",
      "\n",
      "\n",
      "Epoch 1/10\n"
     ]
    },
    {
     "name": "stderr",
     "output_type": "stream",
     "text": [
      "2023-05-09 09:13:53.481882: I tensorflow/core/common_runtime/executor.cc:1197] [/device:CPU:0] (DEBUG INFO) Executor start aborting (this does not indicate an error and you can ignore this message): INVALID_ARGUMENT: You must feed a value for placeholder tensor 'gradients/split_2_grad/concat/split_2/split_dim' with dtype int32\n",
      "\t [[{{node gradients/split_2_grad/concat/split_2/split_dim}}]]\n",
      "2023-05-09 09:13:53.483409: I tensorflow/core/common_runtime/executor.cc:1197] [/device:CPU:0] (DEBUG INFO) Executor start aborting (this does not indicate an error and you can ignore this message): INVALID_ARGUMENT: You must feed a value for placeholder tensor 'gradients/split_grad/concat/split/split_dim' with dtype int32\n",
      "\t [[{{node gradients/split_grad/concat/split/split_dim}}]]\n",
      "2023-05-09 09:13:53.484459: I tensorflow/core/common_runtime/executor.cc:1197] [/device:CPU:0] (DEBUG INFO) Executor start aborting (this does not indicate an error and you can ignore this message): INVALID_ARGUMENT: You must feed a value for placeholder tensor 'gradients/split_1_grad/concat/split_1/split_dim' with dtype int32\n",
      "\t [[{{node gradients/split_1_grad/concat/split_1/split_dim}}]]\n",
      "2023-05-09 09:13:53.686295: I tensorflow/core/common_runtime/executor.cc:1197] [/device:CPU:0] (DEBUG INFO) Executor start aborting (this does not indicate an error and you can ignore this message): INVALID_ARGUMENT: You must feed a value for placeholder tensor 'gradients/split_2_grad/concat/split_2/split_dim' with dtype int32\n",
      "\t [[{{node gradients/split_2_grad/concat/split_2/split_dim}}]]\n",
      "2023-05-09 09:13:53.687433: I tensorflow/core/common_runtime/executor.cc:1197] [/device:CPU:0] (DEBUG INFO) Executor start aborting (this does not indicate an error and you can ignore this message): INVALID_ARGUMENT: You must feed a value for placeholder tensor 'gradients/split_grad/concat/split/split_dim' with dtype int32\n",
      "\t [[{{node gradients/split_grad/concat/split/split_dim}}]]\n",
      "2023-05-09 09:13:53.688291: I tensorflow/core/common_runtime/executor.cc:1197] [/device:CPU:0] (DEBUG INFO) Executor start aborting (this does not indicate an error and you can ignore this message): INVALID_ARGUMENT: You must feed a value for placeholder tensor 'gradients/split_1_grad/concat/split_1/split_dim' with dtype int32\n",
      "\t [[{{node gradients/split_1_grad/concat/split_1/split_dim}}]]\n",
      "2023-05-09 09:13:54.077880: I tensorflow/core/common_runtime/executor.cc:1197] [/device:CPU:0] (DEBUG INFO) Executor start aborting (this does not indicate an error and you can ignore this message): INVALID_ARGUMENT: You must feed a value for placeholder tensor 'gradients/split_2_grad/concat/split_2/split_dim' with dtype int32\n",
      "\t [[{{node gradients/split_2_grad/concat/split_2/split_dim}}]]\n",
      "2023-05-09 09:13:54.079838: I tensorflow/core/common_runtime/executor.cc:1197] [/device:CPU:0] (DEBUG INFO) Executor start aborting (this does not indicate an error and you can ignore this message): INVALID_ARGUMENT: You must feed a value for placeholder tensor 'gradients/split_grad/concat/split/split_dim' with dtype int32\n",
      "\t [[{{node gradients/split_grad/concat/split/split_dim}}]]\n",
      "2023-05-09 09:13:54.081438: I tensorflow/core/common_runtime/executor.cc:1197] [/device:CPU:0] (DEBUG INFO) Executor start aborting (this does not indicate an error and you can ignore this message): INVALID_ARGUMENT: You must feed a value for placeholder tensor 'gradients/split_1_grad/concat/split_1/split_dim' with dtype int32\n",
      "\t [[{{node gradients/split_1_grad/concat/split_1/split_dim}}]]\n"
     ]
    },
    {
     "name": "stdout",
     "output_type": "stream",
     "text": [
      "61129/61129 - 51s - loss: 3.0269 - 51s/epoch - 831us/step\n",
      "Epoch 2/10\n",
      "61129/61129 - 41s - loss: 2.7529 - 41s/epoch - 669us/step\n",
      "Epoch 3/10\n",
      "61129/61129 - 51s - loss: 2.7349 - 51s/epoch - 830us/step\n",
      "Epoch 4/10\n",
      "61129/61129 - 49s - loss: 2.7299 - 49s/epoch - 809us/step\n",
      "Epoch 5/10\n",
      "61129/61129 - 56s - loss: 2.7526 - 56s/epoch - 915us/step\n",
      "Epoch 6/10\n",
      "61129/61129 - 52s - loss: 2.7165 - 52s/epoch - 844us/step\n",
      "Epoch 7/10\n",
      "61129/61129 - 53s - loss: 2.7214 - 53s/epoch - 866us/step\n",
      "Epoch 8/10\n",
      "61129/61129 - 52s - loss: 2.7305 - 52s/epoch - 857us/step\n",
      "Epoch 9/10\n",
      "61129/61129 - 51s - loss: 2.7326 - 51s/epoch - 827us/step\n",
      "Epoch 10/10\n",
      "61129/61129 - 49s - loss: 2.7241 - 49s/epoch - 801us/step\n",
      " 151/1911 [=>............................] - ETA: 1s"
     ]
    },
    {
     "name": "stderr",
     "output_type": "stream",
     "text": [
      "2023-05-09 09:22:17.884476: I tensorflow/core/common_runtime/executor.cc:1197] [/device:CPU:0] (DEBUG INFO) Executor start aborting (this does not indicate an error and you can ignore this message): INVALID_ARGUMENT: You must feed a value for placeholder tensor 'gradients/split_2_grad/concat/split_2/split_dim' with dtype int32\n",
      "\t [[{{node gradients/split_2_grad/concat/split_2/split_dim}}]]\n",
      "2023-05-09 09:22:17.885752: I tensorflow/core/common_runtime/executor.cc:1197] [/device:CPU:0] (DEBUG INFO) Executor start aborting (this does not indicate an error and you can ignore this message): INVALID_ARGUMENT: You must feed a value for placeholder tensor 'gradients/split_grad/concat/split/split_dim' with dtype int32\n",
      "\t [[{{node gradients/split_grad/concat/split/split_dim}}]]\n",
      "2023-05-09 09:22:17.886514: I tensorflow/core/common_runtime/executor.cc:1197] [/device:CPU:0] (DEBUG INFO) Executor start aborting (this does not indicate an error and you can ignore this message): INVALID_ARGUMENT: You must feed a value for placeholder tensor 'gradients/split_1_grad/concat/split_1/split_dim' with dtype int32\n",
      "\t [[{{node gradients/split_1_grad/concat/split_1/split_dim}}]]\n"
     ]
    },
    {
     "name": "stdout",
     "output_type": "stream",
     "text": [
      "1911/1911 [==============================] - 1s 608us/step\n",
      "554/554 [==============================] - 0s 615us/step\n",
      "Train Score: 2.73 MSE\n",
      "Test Score: 3.31 MSE\n"
     ]
    }
   ],
   "source": [
    "print(\"\"\"\n",
    "--------------------------------------------------------------------------------------------\n",
    "\n",
    "METHOD 6:\n",
    "Input: c(t), StationEnd, Temp, ATemp, Humidity, Hour, Day, WeatherSituation\n",
    "Output: c(t+1)\n",
    "\n",
    "\"\"\")\n",
    "\n",
    "\n",
    "cols = [\"StationEnd\", \"Count\", \"Count1\", \"Count1week\", \"Temp\", \"ATemp\", \"Humidity\", \"Hour\", \"Day\", \"WeatherSituation\"]\n",
    "\n",
    "training_data_met6 = training_data[[col for col in training_data.columns if col in cols]]\n",
    "testing_data_met6 = testing_data[[col for col in testing_data.columns if col in cols]]\n",
    "\n",
    "trainX = training_data_met6.drop(columns=[\"Count\"])\n",
    "trainY = training_data_met6[\"Count\"]\n",
    "\n",
    "testX = testing_data_met6.drop(columns=[\"Count\"])\n",
    "testY = testing_data_met6[\"Count\"]\n",
    "\n",
    "trainX = np.reshape(trainX.values, (trainX.shape[0], 1, trainX.shape[1]))\n",
    "testX = np.reshape(testX.values, (testX.shape[0], 1, testX.shape[1]))\n",
    "\n",
    "model_met1 = Sequential()\n",
    "model_met1.add(LSTM(4, input_shape=(1,training_data_met6.shape[1]-1)))\n",
    "model_met1.add(Dense(1))\n",
    "model_met1.compile(loss='mean_squared_error', optimizer='adam')\n",
    "model_met1.fit(trainX, trainY, epochs=epochs, batch_size=batch_size, verbose=verbose)\n",
    "\n",
    "scaler = MinMaxScaler(feature_range=(0, 1))\n",
    "dataset = scaler.fit_transform(pd.concat([training_data_met6, testing_data_met6]))\n",
    "\n",
    "# make predictions\n",
    "trainPredict = model_met1.predict(trainX)\n",
    "testPredict = model_met1.predict(testX)\n",
    "\n",
    "# calculate root mean squared error\n",
    "trainScore = mean_squared_error(trainY[:], trainPredict[:])\n",
    "print('Train Score: %.2f MSE' % (trainScore))\n",
    "testScore = mean_squared_error(testY[:], testPredict[:])\n",
    "print('Test Score: %.2f MSE' % (testScore))\n",
    "\n",
    "train_errors.append(trainScore)\n",
    "test_errors.append(testScore)"
   ]
  },
  {
   "attachments": {},
   "cell_type": "markdown",
   "metadata": {},
   "source": [
    "### Method 7\n",
    "Input: c(t), StationEnd, Temp, ATemp, Day, Hour, Humidity, WeatherSituation, Windspeed\n",
    "\n",
    "Output: c(t+1)"
   ]
  },
  {
   "cell_type": "code",
   "execution_count": 23,
   "metadata": {},
   "outputs": [
    {
     "name": "stdout",
     "output_type": "stream",
     "text": [
      "\n",
      "--------------------------------------------------------------------------------------------\n",
      "\n",
      "METHOD 7:\n",
      "Input: c(t), StationEnd, Temp, ATemp, Day, Hour, Humidity, WeatherSituation, Windspeed\n",
      "Output: c(t+1)\n",
      "\n",
      "\n",
      "Epoch 1/10\n"
     ]
    },
    {
     "name": "stderr",
     "output_type": "stream",
     "text": [
      "2023-05-09 09:22:20.135729: I tensorflow/core/common_runtime/executor.cc:1197] [/device:CPU:0] (DEBUG INFO) Executor start aborting (this does not indicate an error and you can ignore this message): INVALID_ARGUMENT: You must feed a value for placeholder tensor 'gradients/split_2_grad/concat/split_2/split_dim' with dtype int32\n",
      "\t [[{{node gradients/split_2_grad/concat/split_2/split_dim}}]]\n",
      "2023-05-09 09:22:20.138199: I tensorflow/core/common_runtime/executor.cc:1197] [/device:CPU:0] (DEBUG INFO) Executor start aborting (this does not indicate an error and you can ignore this message): INVALID_ARGUMENT: You must feed a value for placeholder tensor 'gradients/split_grad/concat/split/split_dim' with dtype int32\n",
      "\t [[{{node gradients/split_grad/concat/split/split_dim}}]]\n",
      "2023-05-09 09:22:20.139950: I tensorflow/core/common_runtime/executor.cc:1197] [/device:CPU:0] (DEBUG INFO) Executor start aborting (this does not indicate an error and you can ignore this message): INVALID_ARGUMENT: You must feed a value for placeholder tensor 'gradients/split_1_grad/concat/split_1/split_dim' with dtype int32\n",
      "\t [[{{node gradients/split_1_grad/concat/split_1/split_dim}}]]\n",
      "2023-05-09 09:22:20.334566: I tensorflow/core/common_runtime/executor.cc:1197] [/device:CPU:0] (DEBUG INFO) Executor start aborting (this does not indicate an error and you can ignore this message): INVALID_ARGUMENT: You must feed a value for placeholder tensor 'gradients/split_2_grad/concat/split_2/split_dim' with dtype int32\n",
      "\t [[{{node gradients/split_2_grad/concat/split_2/split_dim}}]]\n",
      "2023-05-09 09:22:20.335377: I tensorflow/core/common_runtime/executor.cc:1197] [/device:CPU:0] (DEBUG INFO) Executor start aborting (this does not indicate an error and you can ignore this message): INVALID_ARGUMENT: You must feed a value for placeholder tensor 'gradients/split_grad/concat/split/split_dim' with dtype int32\n",
      "\t [[{{node gradients/split_grad/concat/split/split_dim}}]]\n",
      "2023-05-09 09:22:20.336063: I tensorflow/core/common_runtime/executor.cc:1197] [/device:CPU:0] (DEBUG INFO) Executor start aborting (this does not indicate an error and you can ignore this message): INVALID_ARGUMENT: You must feed a value for placeholder tensor 'gradients/split_1_grad/concat/split_1/split_dim' with dtype int32\n",
      "\t [[{{node gradients/split_1_grad/concat/split_1/split_dim}}]]\n",
      "2023-05-09 09:22:20.634722: I tensorflow/core/common_runtime/executor.cc:1197] [/device:CPU:0] (DEBUG INFO) Executor start aborting (this does not indicate an error and you can ignore this message): INVALID_ARGUMENT: You must feed a value for placeholder tensor 'gradients/split_2_grad/concat/split_2/split_dim' with dtype int32\n",
      "\t [[{{node gradients/split_2_grad/concat/split_2/split_dim}}]]\n",
      "2023-05-09 09:22:20.636471: I tensorflow/core/common_runtime/executor.cc:1197] [/device:CPU:0] (DEBUG INFO) Executor start aborting (this does not indicate an error and you can ignore this message): INVALID_ARGUMENT: You must feed a value for placeholder tensor 'gradients/split_grad/concat/split/split_dim' with dtype int32\n",
      "\t [[{{node gradients/split_grad/concat/split/split_dim}}]]\n",
      "2023-05-09 09:22:20.637712: I tensorflow/core/common_runtime/executor.cc:1197] [/device:CPU:0] (DEBUG INFO) Executor start aborting (this does not indicate an error and you can ignore this message): INVALID_ARGUMENT: You must feed a value for placeholder tensor 'gradients/split_1_grad/concat/split_1/split_dim' with dtype int32\n",
      "\t [[{{node gradients/split_1_grad/concat/split_1/split_dim}}]]\n"
     ]
    },
    {
     "name": "stdout",
     "output_type": "stream",
     "text": [
      "61129/61129 - 54s - loss: 3.0239 - 54s/epoch - 883us/step\n",
      "Epoch 2/10\n",
      "61129/61129 - 51s - loss: 2.7981 - 51s/epoch - 828us/step\n",
      "Epoch 3/10\n",
      "61129/61129 - 48s - loss: 2.7381 - 48s/epoch - 790us/step\n",
      "Epoch 4/10\n",
      "61129/61129 - 50s - loss: 2.7243 - 50s/epoch - 822us/step\n",
      "Epoch 5/10\n",
      "61129/61129 - 50s - loss: 2.7186 - 50s/epoch - 812us/step\n",
      "Epoch 6/10\n",
      "61129/61129 - 50s - loss: 2.7389 - 50s/epoch - 822us/step\n",
      "Epoch 7/10\n",
      "61129/61129 - 52s - loss: 2.7021 - 52s/epoch - 847us/step\n",
      "Epoch 8/10\n",
      "61129/61129 - 50s - loss: 2.7272 - 50s/epoch - 813us/step\n",
      "Epoch 9/10\n",
      "61129/61129 - 51s - loss: 2.7097 - 51s/epoch - 834us/step\n",
      "Epoch 10/10\n",
      "61129/61129 - 53s - loss: 2.7186 - 53s/epoch - 875us/step\n",
      " 157/1911 [=>............................] - ETA: 1s"
     ]
    },
    {
     "name": "stderr",
     "output_type": "stream",
     "text": [
      "2023-05-09 09:30:49.390484: I tensorflow/core/common_runtime/executor.cc:1197] [/device:CPU:0] (DEBUG INFO) Executor start aborting (this does not indicate an error and you can ignore this message): INVALID_ARGUMENT: You must feed a value for placeholder tensor 'gradients/split_2_grad/concat/split_2/split_dim' with dtype int32\n",
      "\t [[{{node gradients/split_2_grad/concat/split_2/split_dim}}]]\n",
      "2023-05-09 09:30:49.391821: I tensorflow/core/common_runtime/executor.cc:1197] [/device:CPU:0] (DEBUG INFO) Executor start aborting (this does not indicate an error and you can ignore this message): INVALID_ARGUMENT: You must feed a value for placeholder tensor 'gradients/split_grad/concat/split/split_dim' with dtype int32\n",
      "\t [[{{node gradients/split_grad/concat/split/split_dim}}]]\n",
      "2023-05-09 09:30:49.392604: I tensorflow/core/common_runtime/executor.cc:1197] [/device:CPU:0] (DEBUG INFO) Executor start aborting (this does not indicate an error and you can ignore this message): INVALID_ARGUMENT: You must feed a value for placeholder tensor 'gradients/split_1_grad/concat/split_1/split_dim' with dtype int32\n",
      "\t [[{{node gradients/split_1_grad/concat/split_1/split_dim}}]]\n"
     ]
    },
    {
     "name": "stdout",
     "output_type": "stream",
     "text": [
      "1911/1911 [==============================] - 1s 585us/step\n",
      "554/554 [==============================] - 0s 532us/step\n",
      "Train Score: 2.71 MSE\n",
      "Test Score: 3.21 MSE\n"
     ]
    }
   ],
   "source": [
    "print(\"\"\"\n",
    "--------------------------------------------------------------------------------------------\n",
    "\n",
    "METHOD 7:\n",
    "Input: c(t), StationEnd, Temp, ATemp, Day, Hour, Humidity, WeatherSituation, Windspeed\n",
    "Output: c(t+1)\n",
    "\n",
    "\"\"\")\n",
    "\n",
    "\n",
    "cols = [\"StationEnd\", \"Count\", \"Count1\", \"Count1week\", \"Temp\", \"ATemp\", \"Humidity\", \"Hour\", \"Day\", \"WeatherSituation\", \"Windspeed\"]\n",
    "\n",
    "training_data_met7 = training_data[[col for col in training_data.columns if col in cols]]\n",
    "testing_data_met7 = testing_data[[col for col in testing_data.columns if col in cols]]\n",
    "\n",
    "trainX = training_data_met7.drop(columns=[\"Count\"])\n",
    "trainY = training_data_met7[\"Count\"]\n",
    "\n",
    "testX = testing_data_met7.drop(columns=[\"Count\"])\n",
    "testY = testing_data_met7[\"Count\"]\n",
    "\n",
    "trainX = np.reshape(trainX.values, (trainX.shape[0], 1, trainX.shape[1]))\n",
    "testX = np.reshape(testX.values, (testX.shape[0], 1, testX.shape[1]))\n",
    "\n",
    "model_met1 = Sequential()\n",
    "model_met1.add(LSTM(4, input_shape=(1,testing_data_met7.shape[1]-1)))\n",
    "model_met1.add(Dense(1))\n",
    "model_met1.compile(loss='mean_squared_error', optimizer='adam')\n",
    "model_met1.fit(trainX, trainY, epochs=epochs, batch_size=batch_size, verbose=verbose)\n",
    "\n",
    "scaler = MinMaxScaler(feature_range=(0, 1))\n",
    "dataset = scaler.fit_transform(pd.concat([training_data_met7, testing_data_met7]))\n",
    "\n",
    "# make predictions\n",
    "trainPredict = model_met1.predict(trainX)\n",
    "testPredict = model_met1.predict(testX)\n",
    "\n",
    "# calculate root mean squared error\n",
    "trainScore = mean_squared_error(trainY[:], trainPredict[:])\n",
    "print('Train Score: %.2f MSE' % (trainScore))\n",
    "testScore = mean_squared_error(testY[:], testPredict[:])\n",
    "print('Test Score: %.2f MSE' % (testScore))\n",
    "\n",
    "train_errors.append(trainScore)\n",
    "test_errors.append(testScore)"
   ]
  },
  {
   "attachments": {},
   "cell_type": "markdown",
   "metadata": {},
   "source": [
    "### Method 8\n",
    "Input: c(t), StationEnd, Temp, Hour, Humidity\n",
    "\n",
    "Output: c(t+1)"
   ]
  },
  {
   "cell_type": "code",
   "execution_count": 39,
   "metadata": {},
   "outputs": [
    {
     "name": "stdout",
     "output_type": "stream",
     "text": [
      "\n",
      "--------------------------------------------------------------------------------------------\n",
      "\n",
      "METHOD 8:\n",
      "Input: c(t), StationEnd, Temp, Hour, Humidity\n",
      "Output: c(t+1)\n",
      "\n",
      "\n",
      "Epoch 1/10\n"
     ]
    },
    {
     "name": "stderr",
     "output_type": "stream",
     "text": [
      "2023-05-09 10:14:44.261084: I tensorflow/core/common_runtime/executor.cc:1197] [/device:CPU:0] (DEBUG INFO) Executor start aborting (this does not indicate an error and you can ignore this message): INVALID_ARGUMENT: You must feed a value for placeholder tensor 'gradients/split_2_grad/concat/split_2/split_dim' with dtype int32\n",
      "\t [[{{node gradients/split_2_grad/concat/split_2/split_dim}}]]\n",
      "2023-05-09 10:14:44.261879: I tensorflow/core/common_runtime/executor.cc:1197] [/device:CPU:0] (DEBUG INFO) Executor start aborting (this does not indicate an error and you can ignore this message): INVALID_ARGUMENT: You must feed a value for placeholder tensor 'gradients/split_grad/concat/split/split_dim' with dtype int32\n",
      "\t [[{{node gradients/split_grad/concat/split/split_dim}}]]\n",
      "2023-05-09 10:14:44.262777: I tensorflow/core/common_runtime/executor.cc:1197] [/device:CPU:0] (DEBUG INFO) Executor start aborting (this does not indicate an error and you can ignore this message): INVALID_ARGUMENT: You must feed a value for placeholder tensor 'gradients/split_1_grad/concat/split_1/split_dim' with dtype int32\n",
      "\t [[{{node gradients/split_1_grad/concat/split_1/split_dim}}]]\n",
      "2023-05-09 10:14:44.427283: I tensorflow/core/common_runtime/executor.cc:1197] [/device:CPU:0] (DEBUG INFO) Executor start aborting (this does not indicate an error and you can ignore this message): INVALID_ARGUMENT: You must feed a value for placeholder tensor 'gradients/split_2_grad/concat/split_2/split_dim' with dtype int32\n",
      "\t [[{{node gradients/split_2_grad/concat/split_2/split_dim}}]]\n",
      "2023-05-09 10:14:44.428225: I tensorflow/core/common_runtime/executor.cc:1197] [/device:CPU:0] (DEBUG INFO) Executor start aborting (this does not indicate an error and you can ignore this message): INVALID_ARGUMENT: You must feed a value for placeholder tensor 'gradients/split_grad/concat/split/split_dim' with dtype int32\n",
      "\t [[{{node gradients/split_grad/concat/split/split_dim}}]]\n",
      "2023-05-09 10:14:44.429006: I tensorflow/core/common_runtime/executor.cc:1197] [/device:CPU:0] (DEBUG INFO) Executor start aborting (this does not indicate an error and you can ignore this message): INVALID_ARGUMENT: You must feed a value for placeholder tensor 'gradients/split_1_grad/concat/split_1/split_dim' with dtype int32\n",
      "\t [[{{node gradients/split_1_grad/concat/split_1/split_dim}}]]\n",
      "2023-05-09 10:14:44.721800: I tensorflow/core/common_runtime/executor.cc:1197] [/device:CPU:0] (DEBUG INFO) Executor start aborting (this does not indicate an error and you can ignore this message): INVALID_ARGUMENT: You must feed a value for placeholder tensor 'gradients/split_2_grad/concat/split_2/split_dim' with dtype int32\n",
      "\t [[{{node gradients/split_2_grad/concat/split_2/split_dim}}]]\n",
      "2023-05-09 10:14:44.722955: I tensorflow/core/common_runtime/executor.cc:1197] [/device:CPU:0] (DEBUG INFO) Executor start aborting (this does not indicate an error and you can ignore this message): INVALID_ARGUMENT: You must feed a value for placeholder tensor 'gradients/split_grad/concat/split/split_dim' with dtype int32\n",
      "\t [[{{node gradients/split_grad/concat/split/split_dim}}]]\n",
      "2023-05-09 10:14:44.723779: I tensorflow/core/common_runtime/executor.cc:1197] [/device:CPU:0] (DEBUG INFO) Executor start aborting (this does not indicate an error and you can ignore this message): INVALID_ARGUMENT: You must feed a value for placeholder tensor 'gradients/split_1_grad/concat/split_1/split_dim' with dtype int32\n",
      "\t [[{{node gradients/split_1_grad/concat/split_1/split_dim}}]]\n"
     ]
    },
    {
     "name": "stdout",
     "output_type": "stream",
     "text": [
      "61129/61129 - 61s - loss: 2.7973 - 61s/epoch - 1ms/step\n",
      "Epoch 2/10\n",
      "61129/61129 - 61s - loss: 2.6203 - 61s/epoch - 995us/step\n",
      "Epoch 3/10\n",
      "61129/61129 - 57s - loss: 2.6041 - 57s/epoch - 932us/step\n",
      "Epoch 4/10\n",
      "61129/61129 - 63s - loss: 2.5992 - 63s/epoch - 1ms/step\n",
      "Epoch 5/10\n",
      "61129/61129 - 61s - loss: 2.5974 - 61s/epoch - 1ms/step\n",
      "Epoch 6/10\n",
      "61129/61129 - 60s - loss: 2.5869 - 60s/epoch - 978us/step\n",
      "Epoch 7/10\n",
      "61129/61129 - 67s - loss: 2.5879 - 67s/epoch - 1ms/step\n",
      "Epoch 8/10\n",
      "61129/61129 - 54s - loss: 2.5829 - 54s/epoch - 890us/step\n",
      "Epoch 9/10\n",
      "61129/61129 - 52s - loss: 2.5764 - 52s/epoch - 849us/step\n",
      "Epoch 10/10\n",
      "61129/61129 - 57s - loss: 2.5773 - 57s/epoch - 926us/step\n",
      "   1/1911 [..............................] - ETA: 12:13"
     ]
    },
    {
     "name": "stderr",
     "output_type": "stream",
     "text": [
      "2023-05-09 10:24:37.747546: I tensorflow/core/common_runtime/executor.cc:1197] [/device:CPU:0] (DEBUG INFO) Executor start aborting (this does not indicate an error and you can ignore this message): INVALID_ARGUMENT: You must feed a value for placeholder tensor 'gradients/split_2_grad/concat/split_2/split_dim' with dtype int32\n",
      "\t [[{{node gradients/split_2_grad/concat/split_2/split_dim}}]]\n",
      "2023-05-09 10:24:37.750831: I tensorflow/core/common_runtime/executor.cc:1197] [/device:CPU:0] (DEBUG INFO) Executor start aborting (this does not indicate an error and you can ignore this message): INVALID_ARGUMENT: You must feed a value for placeholder tensor 'gradients/split_grad/concat/split/split_dim' with dtype int32\n",
      "\t [[{{node gradients/split_grad/concat/split/split_dim}}]]\n",
      "2023-05-09 10:24:37.753404: I tensorflow/core/common_runtime/executor.cc:1197] [/device:CPU:0] (DEBUG INFO) Executor start aborting (this does not indicate an error and you can ignore this message): INVALID_ARGUMENT: You must feed a value for placeholder tensor 'gradients/split_1_grad/concat/split_1/split_dim' with dtype int32\n",
      "\t [[{{node gradients/split_1_grad/concat/split_1/split_dim}}]]\n"
     ]
    },
    {
     "name": "stdout",
     "output_type": "stream",
     "text": [
      "1911/1911 [==============================] - 3s 1ms/step\n",
      "554/554 [==============================] - 1s 871us/step\n",
      "Train Score: 2.57 MSE\n",
      "Test Score: 3.16 MSE\n"
     ]
    }
   ],
   "source": [
    "print(\"\"\"\n",
    "--------------------------------------------------------------------------------------------\n",
    "\n",
    "METHOD 8:\n",
    "Input: c(t), StationEnd, Temp, Hour, Humidity\n",
    "Output: c(t+1)\n",
    "\n",
    "\"\"\")\n",
    "\n",
    "cols = [\"StationEnd\", \"Count\", \"Count1\", \"Count1week\", \"Temp\", \"Hour\", \"Humidity\"]\n",
    "\n",
    "training_data_met8 = training_data[[col for col in training_data.columns if col in cols]]\n",
    "testing_data_met8 = testing_data[[col for col in testing_data.columns if col in cols]]\n",
    "\n",
    "trainX = training_data_met8.drop(columns=[\"Count\"])\n",
    "trainY = training_data_met8[\"Count\"]\n",
    "\n",
    "testX = testing_data_met8.drop(columns=[\"Count\"])\n",
    "testY = testing_data_met8[\"Count\"]\n",
    "\n",
    "trainX = np.reshape(trainX.values, (trainX.shape[0], 1, trainX.shape[1]))\n",
    "testX = np.reshape(testX.values, (testX.shape[0], 1, testX.shape[1]))\n",
    "\n",
    "model_met1 = Sequential()\n",
    "model_met1.add(LSTM(4, input_shape=(1,testing_data_met8.shape[1]-1)))\n",
    "model_met1.add(Dense(1))\n",
    "model_met1.compile(loss='mean_squared_error', optimizer='adam')\n",
    "model_met1.fit(trainX, trainY, epochs=epochs, batch_size=batch_size, verbose=verbose)\n",
    "\n",
    "scaler = MinMaxScaler(feature_range=(0, 1))\n",
    "dataset = scaler.fit_transform(pd.concat([training_data_met8, testing_data_met8]))\n",
    "\n",
    "# make predictions\n",
    "trainPredict = model_met1.predict(trainX)\n",
    "testPredict = model_met1.predict(testX)\n",
    "\n",
    "# calculate root mean squared error\n",
    "trainScore = mean_squared_error(trainY[:], trainPredict[:])\n",
    "print('Train Score: %.2f MSE' % (trainScore))\n",
    "testScore = mean_squared_error(testY[:], testPredict[:])\n",
    "print('Test Score: %.2f MSE' % (testScore))\n",
    "\n",
    "train_errors.append(trainScore)\n",
    "test_errors.append(testScore)"
   ]
  },
  {
   "attachments": {},
   "cell_type": "markdown",
   "metadata": {},
   "source": [
    "### Method 9\n",
    "Input: c(t), StationEnd, Temp, Hour, Humidity, Windspeed\n",
    "\n",
    "Output: c(t+1)"
   ]
  },
  {
   "cell_type": "code",
   "execution_count": 41,
   "metadata": {},
   "outputs": [
    {
     "name": "stdout",
     "output_type": "stream",
     "text": [
      "\n",
      "--------------------------------------------------------------------------------------------\n",
      "\n",
      "METHOD 9:\n",
      "Input: c(t), StationEnd, Temp, Hour, Humidity, Windspeed\n",
      "Output: c(t+1)\n",
      "\n",
      "\n",
      "Epoch 1/10\n"
     ]
    },
    {
     "name": "stderr",
     "output_type": "stream",
     "text": [
      "2023-05-09 10:27:36.225192: I tensorflow/core/common_runtime/executor.cc:1197] [/device:CPU:0] (DEBUG INFO) Executor start aborting (this does not indicate an error and you can ignore this message): INVALID_ARGUMENT: You must feed a value for placeholder tensor 'gradients/split_2_grad/concat/split_2/split_dim' with dtype int32\n",
      "\t [[{{node gradients/split_2_grad/concat/split_2/split_dim}}]]\n",
      "2023-05-09 10:27:36.227259: I tensorflow/core/common_runtime/executor.cc:1197] [/device:CPU:0] (DEBUG INFO) Executor start aborting (this does not indicate an error and you can ignore this message): INVALID_ARGUMENT: You must feed a value for placeholder tensor 'gradients/split_grad/concat/split/split_dim' with dtype int32\n",
      "\t [[{{node gradients/split_grad/concat/split/split_dim}}]]\n",
      "2023-05-09 10:27:36.228044: I tensorflow/core/common_runtime/executor.cc:1197] [/device:CPU:0] (DEBUG INFO) Executor start aborting (this does not indicate an error and you can ignore this message): INVALID_ARGUMENT: You must feed a value for placeholder tensor 'gradients/split_1_grad/concat/split_1/split_dim' with dtype int32\n",
      "\t [[{{node gradients/split_1_grad/concat/split_1/split_dim}}]]\n",
      "2023-05-09 10:27:36.405756: I tensorflow/core/common_runtime/executor.cc:1197] [/device:CPU:0] (DEBUG INFO) Executor start aborting (this does not indicate an error and you can ignore this message): INVALID_ARGUMENT: You must feed a value for placeholder tensor 'gradients/split_2_grad/concat/split_2/split_dim' with dtype int32\n",
      "\t [[{{node gradients/split_2_grad/concat/split_2/split_dim}}]]\n",
      "2023-05-09 10:27:36.406793: I tensorflow/core/common_runtime/executor.cc:1197] [/device:CPU:0] (DEBUG INFO) Executor start aborting (this does not indicate an error and you can ignore this message): INVALID_ARGUMENT: You must feed a value for placeholder tensor 'gradients/split_grad/concat/split/split_dim' with dtype int32\n",
      "\t [[{{node gradients/split_grad/concat/split/split_dim}}]]\n",
      "2023-05-09 10:27:36.407642: I tensorflow/core/common_runtime/executor.cc:1197] [/device:CPU:0] (DEBUG INFO) Executor start aborting (this does not indicate an error and you can ignore this message): INVALID_ARGUMENT: You must feed a value for placeholder tensor 'gradients/split_1_grad/concat/split_1/split_dim' with dtype int32\n",
      "\t [[{{node gradients/split_1_grad/concat/split_1/split_dim}}]]\n",
      "2023-05-09 10:27:36.730670: I tensorflow/core/common_runtime/executor.cc:1197] [/device:CPU:0] (DEBUG INFO) Executor start aborting (this does not indicate an error and you can ignore this message): INVALID_ARGUMENT: You must feed a value for placeholder tensor 'gradients/split_2_grad/concat/split_2/split_dim' with dtype int32\n",
      "\t [[{{node gradients/split_2_grad/concat/split_2/split_dim}}]]\n",
      "2023-05-09 10:27:36.731896: I tensorflow/core/common_runtime/executor.cc:1197] [/device:CPU:0] (DEBUG INFO) Executor start aborting (this does not indicate an error and you can ignore this message): INVALID_ARGUMENT: You must feed a value for placeholder tensor 'gradients/split_grad/concat/split/split_dim' with dtype int32\n",
      "\t [[{{node gradients/split_grad/concat/split/split_dim}}]]\n",
      "2023-05-09 10:27:36.732711: I tensorflow/core/common_runtime/executor.cc:1197] [/device:CPU:0] (DEBUG INFO) Executor start aborting (this does not indicate an error and you can ignore this message): INVALID_ARGUMENT: You must feed a value for placeholder tensor 'gradients/split_1_grad/concat/split_1/split_dim' with dtype int32\n",
      "\t [[{{node gradients/split_1_grad/concat/split_1/split_dim}}]]\n"
     ]
    },
    {
     "name": "stdout",
     "output_type": "stream",
     "text": [
      "61129/61129 - 53s - loss: 2.7981 - 53s/epoch - 864us/step\n",
      "Epoch 2/10\n",
      "61129/61129 - 50s - loss: 2.6164 - 50s/epoch - 810us/step\n",
      "Epoch 3/10\n",
      "61129/61129 - 52s - loss: 2.6056 - 52s/epoch - 843us/step\n",
      "Epoch 4/10\n",
      "61129/61129 - 51s - loss: 2.5963 - 51s/epoch - 836us/step\n",
      "Epoch 5/10\n",
      "61129/61129 - 49s - loss: 2.5914 - 49s/epoch - 796us/step\n",
      "Epoch 6/10\n",
      "61129/61129 - 56s - loss: 2.5840 - 56s/epoch - 916us/step\n",
      "Epoch 7/10\n",
      "61129/61129 - 53s - loss: 2.5800 - 53s/epoch - 871us/step\n",
      "Epoch 8/10\n",
      "61129/61129 - 52s - loss: 2.5789 - 52s/epoch - 850us/step\n",
      "Epoch 9/10\n",
      "61129/61129 - 53s - loss: 2.5768 - 53s/epoch - 864us/step\n",
      "Epoch 10/10\n",
      "61129/61129 - 50s - loss: 2.5739 - 50s/epoch - 823us/step\n",
      " 133/1911 [=>............................] - ETA: 1s"
     ]
    },
    {
     "name": "stderr",
     "output_type": "stream",
     "text": [
      "2023-05-09 10:36:14.522990: I tensorflow/core/common_runtime/executor.cc:1197] [/device:CPU:0] (DEBUG INFO) Executor start aborting (this does not indicate an error and you can ignore this message): INVALID_ARGUMENT: You must feed a value for placeholder tensor 'gradients/split_2_grad/concat/split_2/split_dim' with dtype int32\n",
      "\t [[{{node gradients/split_2_grad/concat/split_2/split_dim}}]]\n",
      "2023-05-09 10:36:14.523967: I tensorflow/core/common_runtime/executor.cc:1197] [/device:CPU:0] (DEBUG INFO) Executor start aborting (this does not indicate an error and you can ignore this message): INVALID_ARGUMENT: You must feed a value for placeholder tensor 'gradients/split_grad/concat/split/split_dim' with dtype int32\n",
      "\t [[{{node gradients/split_grad/concat/split/split_dim}}]]\n",
      "2023-05-09 10:36:14.524777: I tensorflow/core/common_runtime/executor.cc:1197] [/device:CPU:0] (DEBUG INFO) Executor start aborting (this does not indicate an error and you can ignore this message): INVALID_ARGUMENT: You must feed a value for placeholder tensor 'gradients/split_1_grad/concat/split_1/split_dim' with dtype int32\n",
      "\t [[{{node gradients/split_1_grad/concat/split_1/split_dim}}]]\n"
     ]
    },
    {
     "name": "stdout",
     "output_type": "stream",
     "text": [
      "1911/1911 [==============================] - 1s 612us/step\n",
      "554/554 [==============================] - 0s 602us/step\n",
      "Train Score: 2.55 MSE\n",
      "Test Score: 3.07 MSE\n"
     ]
    }
   ],
   "source": [
    "print(\"\"\"\n",
    "--------------------------------------------------------------------------------------------\n",
    "\n",
    "METHOD 9:\n",
    "Input: c(t), StationEnd, Temp, Hour, Humidity, Windspeed\n",
    "Output: c(t+1)\n",
    "\n",
    "\"\"\")\n",
    "\n",
    "cols = [\"StationEnd\", \"Count\", \"Count1\", \"Count1week\", \"Temp\", \"Hour\", \"Humidity\", \"Windspeed\"]\n",
    "\n",
    "training_data_met9 = training_data[[col for col in training_data.columns if col in cols]]\n",
    "testing_data_met9 = testing_data[[col for col in testing_data.columns if col in cols]]\n",
    "\n",
    "trainX = training_data_met9.drop(columns=[\"Count\"])\n",
    "trainY = training_data_met9[\"Count\"]\n",
    "\n",
    "testX = testing_data_met9.drop(columns=[\"Count\"])\n",
    "testY = testing_data_met9[\"Count\"]\n",
    "\n",
    "trainX = np.reshape(trainX.values, (trainX.shape[0], 1, trainX.shape[1]))\n",
    "testX = np.reshape(testX.values, (testX.shape[0], 1, testX.shape[1]))\n",
    "\n",
    "model_met1 = Sequential()\n",
    "model_met1.add(LSTM(4, input_shape=(1,testing_data_met9.shape[1]-1)))\n",
    "model_met1.add(Dense(1))\n",
    "model_met1.compile(loss='mean_squared_error', optimizer='adam')\n",
    "model_met1.fit(trainX, trainY, epochs=epochs, batch_size=batch_size, verbose=verbose)\n",
    "\n",
    "scaler = MinMaxScaler(feature_range=(0, 1))\n",
    "dataset = scaler.fit_transform(pd.concat([training_data_met9, testing_data_met9]))\n",
    "\n",
    "# make predictions\n",
    "trainPredict = model_met1.predict(trainX)\n",
    "testPredict = model_met1.predict(testX)\n",
    "\n",
    "# calculate root mean squared error\n",
    "trainScore = mean_squared_error(trainY[:], trainPredict[:])\n",
    "print('Train Score: %.2f MSE' % (trainScore))\n",
    "testScore = mean_squared_error(testY[:], testPredict[:])\n",
    "print('Test Score: %.2f MSE' % (testScore))\n",
    "\n",
    "train_errors.append(trainScore)\n",
    "test_errors.append(testScore)"
   ]
  },
  {
   "attachments": {},
   "cell_type": "markdown",
   "metadata": {},
   "source": [
    "## Graphs"
   ]
  },
  {
   "cell_type": "code",
   "execution_count": 42,
   "metadata": {},
   "outputs": [
    {
     "data": {
      "text/plain": [
       "Text(0.5, 0, 'Methods')"
      ]
     },
     "execution_count": 42,
     "metadata": {},
     "output_type": "execute_result"
    },
    {
     "data": {
      "image/png": "[encoded data removed]",
      "text/plain": [
       "<Figure size 640x480 with 1 Axes>"
      ]
     },
     "metadata": {},
     "output_type": "display_data"
    }
   ],
   "source": [
    "plt.plot(list(range(1,len(train_errors)+1)), train_errors, marker=\"o\")\n",
    "plt.plot(list(range(1,len(test_errors)+1)), test_errors, marker=\"o\")\n",
    "plt.legend([\"Train Error\", \"Test Error\"])\n",
    "plt.title(\"Root Mean Squared Error by method\")\n",
    "plt.xlabel(\"Methods\")"
   ]
  }
 ],
 "metadata": {
  "kernelspec": {
   "display_name": "base",
   "language": "python",
   "name": "python3"
  },
  "language_info": {
   "codemirror_mode": {
    "name": "ipython",
    "version": 3
   },
   "file_extension": ".py",
   "mimetype": "text/x-python",
   "name": "python",
   "nbconvert_exporter": "python",
   "pygments_lexer": "ipython3",
   "version": "3.8.10"
  },
  "orig_nbformat": 4
 },
 "nbformat": 4,
 "nbformat_minor": 2
}
