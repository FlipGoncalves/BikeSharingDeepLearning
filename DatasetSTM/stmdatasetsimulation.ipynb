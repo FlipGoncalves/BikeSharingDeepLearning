{
 "cells": [
  {
   "attachments": {},
   "cell_type": "markdown",
   "metadata": {},
   "source": [
    "# STM Dataset Simulation and Refactor"
   ]
  },
  {
   "cell_type": "code",
   "execution_count": 2,
   "metadata": {},
   "outputs": [],
   "source": [
    "import matplotlib.pyplot as plt\n",
    "import pandas as pd\n",
    "from datetime import datetime, timedelta\n",
    "import random\n",
    "import math"
   ]
  },
  {
   "attachments": {},
   "cell_type": "markdown",
   "metadata": {},
   "source": [
    "## Datasets\n",
    "### hour.csv\n",
    "\n",
    "This csv file contains the information of the number of trips that ended in a specific time hour.\n",
    "\n",
    "- season:\n",
    "    - 1: Winter,\n",
    "    - 2: Spring,\n",
    "    - 3: Summer\n",
    "    - 4: Fall\n",
    "- year:\n",
    "    - 0: 2011,\n",
    "    - 1: 2012\n",
    "- month: 1 - January to 12 - December\n",
    "- hr: 0 to 23\n",
    "- holiday:\n",
    "    - 1: holiday\n",
    "    - 0: normal work/week day\n",
    "- weekday: 1 - Monday to 7 - Sunday\n",
    "- workingday:\n",
    "    - 0: weekend and holiday\n",
    "    - 1: work day\n",
    "- weathersit:\n",
    "    - 1: Clear, Few Clowds, Partly Cloudy, \n",
    "    - 2: Mist and Cloudy, Mist and Broken clouds, Mist and Few clouds, Mist, \n",
    "    - 3: Light Snow, Light Rain and Thunderstorm and Scattered clouds, Light Rain and Scattered clouds, \n",
    "    - 4: Heavy Rain and Ice Pallets and Thunderstorm and Mist, Snow and Fog\n",
    "- cnt: number of ended trips\n",
    "\n",
    "It also contians a simple weather report for that hour, with:\n",
    "- temperature\n",
    "- temperature feeling\n",
    "- humidity\n",
    "- windspeed\n",
    "\n",
    "### stations.csv\n",
    "\n",
    "This csv file contains the information of the stations we will use to simulate the trips."
   ]
  },
  {
   "cell_type": "code",
   "execution_count": 3,
   "metadata": {},
   "outputs": [
    {
     "data": {
      "text/html": [
       "<div>\n",
       "<style scoped>\n",
       "    .dataframe tbody tr th:only-of-type {\n",
       "        vertical-align: middle;\n",
       "    }\n",
       "\n",
       "    .dataframe tbody tr th {\n",
       "        vertical-align: top;\n",
       "    }\n",
       "\n",
       "    .dataframe thead th {\n",
       "        text-align: right;\n",
       "    }\n",
       "</style>\n",
       "<table border=\"1\" class=\"dataframe\">\n",
       "  <thead>\n",
       "    <tr style=\"text-align: right;\">\n",
       "      <th></th>\n",
       "      <th>dteday</th>\n",
       "      <th>season</th>\n",
       "      <th>yr</th>\n",
       "      <th>mnth</th>\n",
       "      <th>hr</th>\n",
       "      <th>holiday</th>\n",
       "      <th>weekday</th>\n",
       "      <th>workingday</th>\n",
       "      <th>weathersit</th>\n",
       "      <th>temp</th>\n",
       "      <th>atemp</th>\n",
       "      <th>hum</th>\n",
       "      <th>windspeed</th>\n",
       "      <th>cnt</th>\n",
       "    </tr>\n",
       "  </thead>\n",
       "  <tbody>\n",
       "    <tr>\n",
       "      <th>0</th>\n",
       "      <td>2011-01-01</td>\n",
       "      <td>1</td>\n",
       "      <td>0</td>\n",
       "      <td>1</td>\n",
       "      <td>0</td>\n",
       "      <td>0</td>\n",
       "      <td>6</td>\n",
       "      <td>0</td>\n",
       "      <td>1</td>\n",
       "      <td>0.24</td>\n",
       "      <td>0.2879</td>\n",
       "      <td>0.81</td>\n",
       "      <td>0.0</td>\n",
       "      <td>16</td>\n",
       "    </tr>\n",
       "    <tr>\n",
       "      <th>1</th>\n",
       "      <td>2011-01-01</td>\n",
       "      <td>1</td>\n",
       "      <td>0</td>\n",
       "      <td>1</td>\n",
       "      <td>1</td>\n",
       "      <td>0</td>\n",
       "      <td>6</td>\n",
       "      <td>0</td>\n",
       "      <td>1</td>\n",
       "      <td>0.22</td>\n",
       "      <td>0.2727</td>\n",
       "      <td>0.80</td>\n",
       "      <td>0.0</td>\n",
       "      <td>40</td>\n",
       "    </tr>\n",
       "    <tr>\n",
       "      <th>2</th>\n",
       "      <td>2011-01-01</td>\n",
       "      <td>1</td>\n",
       "      <td>0</td>\n",
       "      <td>1</td>\n",
       "      <td>2</td>\n",
       "      <td>0</td>\n",
       "      <td>6</td>\n",
       "      <td>0</td>\n",
       "      <td>1</td>\n",
       "      <td>0.22</td>\n",
       "      <td>0.2727</td>\n",
       "      <td>0.80</td>\n",
       "      <td>0.0</td>\n",
       "      <td>32</td>\n",
       "    </tr>\n",
       "    <tr>\n",
       "      <th>3</th>\n",
       "      <td>2011-01-01</td>\n",
       "      <td>1</td>\n",
       "      <td>0</td>\n",
       "      <td>1</td>\n",
       "      <td>3</td>\n",
       "      <td>0</td>\n",
       "      <td>6</td>\n",
       "      <td>0</td>\n",
       "      <td>1</td>\n",
       "      <td>0.24</td>\n",
       "      <td>0.2879</td>\n",
       "      <td>0.75</td>\n",
       "      <td>0.0</td>\n",
       "      <td>13</td>\n",
       "    </tr>\n",
       "    <tr>\n",
       "      <th>4</th>\n",
       "      <td>2011-01-01</td>\n",
       "      <td>1</td>\n",
       "      <td>0</td>\n",
       "      <td>1</td>\n",
       "      <td>4</td>\n",
       "      <td>0</td>\n",
       "      <td>6</td>\n",
       "      <td>0</td>\n",
       "      <td>1</td>\n",
       "      <td>0.24</td>\n",
       "      <td>0.2879</td>\n",
       "      <td>0.75</td>\n",
       "      <td>0.0</td>\n",
       "      <td>1</td>\n",
       "    </tr>\n",
       "  </tbody>\n",
       "</table>\n",
       "</div>"
      ],
      "text/plain": [
       "       dteday  season  yr  mnth  hr  holiday  weekday  workingday  weathersit  \\\n",
       "0  2011-01-01       1   0     1   0        0        6           0           1   \n",
       "1  2011-01-01       1   0     1   1        0        6           0           1   \n",
       "2  2011-01-01       1   0     1   2        0        6           0           1   \n",
       "3  2011-01-01       1   0     1   3        0        6           0           1   \n",
       "4  2011-01-01       1   0     1   4        0        6           0           1   \n",
       "\n",
       "   temp   atemp   hum  windspeed  cnt  \n",
       "0  0.24  0.2879  0.81        0.0   16  \n",
       "1  0.22  0.2727  0.80        0.0   40  \n",
       "2  0.22  0.2727  0.80        0.0   32  \n",
       "3  0.24  0.2879  0.75        0.0   13  \n",
       "4  0.24  0.2879  0.75        0.0    1  "
      ]
     },
     "execution_count": 3,
     "metadata": {},
     "output_type": "execute_result"
    }
   ],
   "source": [
    "data = pd.read_csv(\"./hour.csv\")\n",
    "data = data.dropna().drop(columns=[\"instant\", \"registered\", \"casual\"])\n",
    "data.head()"
   ]
  },
  {
   "cell_type": "code",
   "execution_count": 5,
   "metadata": {},
   "outputs": [
    {
     "data": {
      "text/html": [
       "<div>\n",
       "<style scoped>\n",
       "    .dataframe tbody tr th:only-of-type {\n",
       "        vertical-align: middle;\n",
       "    }\n",
       "\n",
       "    .dataframe tbody tr th {\n",
       "        vertical-align: top;\n",
       "    }\n",
       "\n",
       "    .dataframe thead th {\n",
       "        text-align: right;\n",
       "    }\n",
       "</style>\n",
       "<table border=\"1\" class=\"dataframe\">\n",
       "  <thead>\n",
       "    <tr style=\"text-align: right;\">\n",
       "      <th></th>\n",
       "      <th>Station ID</th>\n",
       "      <th>Capacity</th>\n",
       "      <th>Latitude</th>\n",
       "      <th>Longitude</th>\n",
       "      <th>Station Name</th>\n",
       "    </tr>\n",
       "  </thead>\n",
       "  <tbody>\n",
       "    <tr>\n",
       "      <th>0</th>\n",
       "      <td>1</td>\n",
       "      <td>19</td>\n",
       "      <td>51.529163</td>\n",
       "      <td>-0.109970</td>\n",
       "      <td>River Street , Clerkenwell</td>\n",
       "    </tr>\n",
       "    <tr>\n",
       "      <th>1</th>\n",
       "      <td>2</td>\n",
       "      <td>37</td>\n",
       "      <td>51.499606</td>\n",
       "      <td>-0.197574</td>\n",
       "      <td>Phillimore Gardens, Kensington</td>\n",
       "    </tr>\n",
       "    <tr>\n",
       "      <th>2</th>\n",
       "      <td>3</td>\n",
       "      <td>32</td>\n",
       "      <td>51.521283</td>\n",
       "      <td>-0.084605</td>\n",
       "      <td>Christopher Street, Liverpool Street</td>\n",
       "    </tr>\n",
       "    <tr>\n",
       "      <th>3</th>\n",
       "      <td>4</td>\n",
       "      <td>23</td>\n",
       "      <td>51.530059</td>\n",
       "      <td>-0.120973</td>\n",
       "      <td>St. Chad's Street, King's Cross</td>\n",
       "    </tr>\n",
       "    <tr>\n",
       "      <th>4</th>\n",
       "      <td>5</td>\n",
       "      <td>27</td>\n",
       "      <td>51.493130</td>\n",
       "      <td>-0.156876</td>\n",
       "      <td>Sedding Street, Sloane Square</td>\n",
       "    </tr>\n",
       "  </tbody>\n",
       "</table>\n",
       "</div>"
      ],
      "text/plain": [
       "   Station ID  Capacity   Latitude  Longitude  \\\n",
       "0           1        19  51.529163  -0.109970   \n",
       "1           2        37  51.499606  -0.197574   \n",
       "2           3        32  51.521283  -0.084605   \n",
       "3           4        23  51.530059  -0.120973   \n",
       "4           5        27  51.493130  -0.156876   \n",
       "\n",
       "                           Station Name  \n",
       "0            River Street , Clerkenwell  \n",
       "1        Phillimore Gardens, Kensington  \n",
       "2  Christopher Street, Liverpool Street  \n",
       "3       St. Chad's Street, King's Cross  \n",
       "4         Sedding Street, Sloane Square  "
      ]
     },
     "execution_count": 5,
     "metadata": {},
     "output_type": "execute_result"
    }
   ],
   "source": [
    "stations = pd.read_csv(\"./stationshour.csv\").sort_values(by=[\"Station ID\"])[:40]\n",
    "stations.head()"
   ]
  },
  {
   "cell_type": "code",
   "execution_count": 31,
   "metadata": {},
   "outputs": [],
   "source": [
    "stations_ids = [x[0] for x in stations.values]\n",
    "\n",
    "avg_point = (stations.values[0][2], stations.values[0][3])\n",
    "for point in stations.values[1:]:\n",
    "    avg_point = ((avg_point[0] + point[2]), (point[3] + avg_point[1]))\n",
    "\n",
    "avg_point = (avg_point[0] / len(stations.values), avg_point[1] / len(stations.values))\n",
    "\n",
    "# the closer to the center, the more probability of having a trip\n",
    "distances = {x[0]: round(math.sqrt(math.pow(avg_point[0]-x[2],2) + math.pow(avg_point[1]-x[3],2))*1000) for x in stations.values}"
   ]
  },
  {
   "cell_type": "code",
   "execution_count": 35,
   "metadata": {},
   "outputs": [
    {
     "data": {
      "text/html": [
       "<div>\n",
       "<style scoped>\n",
       "    .dataframe tbody tr th:only-of-type {\n",
       "        vertical-align: middle;\n",
       "    }\n",
       "\n",
       "    .dataframe tbody tr th {\n",
       "        vertical-align: top;\n",
       "    }\n",
       "\n",
       "    .dataframe thead th {\n",
       "        text-align: right;\n",
       "    }\n",
       "</style>\n",
       "<table border=\"1\" class=\"dataframe\">\n",
       "  <thead>\n",
       "    <tr style=\"text-align: right;\">\n",
       "      <th></th>\n",
       "      <th>ID</th>\n",
       "      <th>StartStationID</th>\n",
       "      <th>EndStationID</th>\n",
       "      <th>Duration</th>\n",
       "      <th>StartDate</th>\n",
       "      <th>EndDate</th>\n",
       "    </tr>\n",
       "  </thead>\n",
       "  <tbody>\n",
       "    <tr>\n",
       "      <th>0</th>\n",
       "      <td>1</td>\n",
       "      <td>11</td>\n",
       "      <td>42</td>\n",
       "      <td>13</td>\n",
       "      <td>2011-01-01 00:45:00</td>\n",
       "      <td>2011-01-01 00:58:00</td>\n",
       "    </tr>\n",
       "    <tr>\n",
       "      <th>1</th>\n",
       "      <td>2</td>\n",
       "      <td>29</td>\n",
       "      <td>37</td>\n",
       "      <td>9</td>\n",
       "      <td>2011-01-01 00:31:00</td>\n",
       "      <td>2011-01-01 00:40:00</td>\n",
       "    </tr>\n",
       "    <tr>\n",
       "      <th>2</th>\n",
       "      <td>3</td>\n",
       "      <td>3</td>\n",
       "      <td>36</td>\n",
       "      <td>35</td>\n",
       "      <td>2010-12-31 23:50:00</td>\n",
       "      <td>2011-01-01 00:25:00</td>\n",
       "    </tr>\n",
       "    <tr>\n",
       "      <th>3</th>\n",
       "      <td>4</td>\n",
       "      <td>30</td>\n",
       "      <td>31</td>\n",
       "      <td>4</td>\n",
       "      <td>2011-01-01 00:34:00</td>\n",
       "      <td>2011-01-01 00:38:00</td>\n",
       "    </tr>\n",
       "    <tr>\n",
       "      <th>4</th>\n",
       "      <td>5</td>\n",
       "      <td>32</td>\n",
       "      <td>13</td>\n",
       "      <td>21</td>\n",
       "      <td>2010-12-31 23:54:00</td>\n",
       "      <td>2011-01-01 00:15:00</td>\n",
       "    </tr>\n",
       "  </tbody>\n",
       "</table>\n",
       "</div>"
      ],
      "text/plain": [
       "   ID  StartStationID  EndStationID  Duration           StartDate  \\\n",
       "0   1              11            42        13 2011-01-01 00:45:00   \n",
       "1   2              29            37         9 2011-01-01 00:31:00   \n",
       "2   3               3            36        35 2010-12-31 23:50:00   \n",
       "3   4              30            31         4 2011-01-01 00:34:00   \n",
       "4   5              32            13        21 2010-12-31 23:54:00   \n",
       "\n",
       "              EndDate  \n",
       "0 2011-01-01 00:58:00  \n",
       "1 2011-01-01 00:40:00  \n",
       "2 2011-01-01 00:25:00  \n",
       "3 2011-01-01 00:38:00  \n",
       "4 2011-01-01 00:15:00  "
      ]
     },
     "execution_count": 35,
     "metadata": {},
     "output_type": "execute_result"
    }
   ],
   "source": [
    "def random_date(start):\n",
    "    ind = random.randint(1,59)\n",
    "    return datetime(start.year, start.month, start.day, start.hour, ind, start.second)\n",
    "\n",
    "def calculate_distance(start, end):\n",
    "    x = math.sin(start[2]) * math.sin(end[2]) + math.cos(start[2]) * math.cos(end[2]) * math.cos(end[3] - start[3])\n",
    "    return math.acos(x) * 6371  # returns meters\n",
    "\n",
    "trips = []\n",
    "\n",
    "for hour in data.values:\n",
    "    for trip in range(hour[-1]):\n",
    "        station_start = random.choice(stations.values)\n",
    "        station_end = random.choices(stations.values, weights=distances.values(), k=1)[0]\n",
    "        distance = calculate_distance(station_start, station_end)\n",
    "        time_travelling = (distance * random.randint(10,100)) / (20000 / 60)    # distance * randint to simulate a normal travel\n",
    "        hour_date = hour[0].replace(\"-\", \"/\")\n",
    "        end_date_trip = random_date(datetime.strptime(f\"{hour_date} {hour[4]:02d}:00:00\", \"%Y/%m/%d %H:%M:%S\"))\n",
    "        start_date_trip = end_date_trip - timedelta(minutes=int(time_travelling))\n",
    "        trips.append({\n",
    "            # \"ID\": count, \n",
    "            \"StartStationID\": station_start[0], \n",
    "            \"EndStationID\": station_end[0], \n",
    "            # \"Duration\": int(time_travelling), \n",
    "            \"StartDate\": start_date_trip, \n",
    "            \"EndDate\": end_date_trip,\n",
    "\n",
    "\n",
    "            # the rest of the information place here\n",
    "\n",
    "            \n",
    "            })\n",
    "\n",
    "trips = pd.DataFrame(trips)\n",
    "trips.head()"
   ]
  },
  {
   "cell_type": "code",
   "execution_count": 10,
   "metadata": {},
   "outputs": [],
   "source": [
    "data.to_csv(\"../CSVFiles/data.csv\")\n",
    "stations.to_csv(\"../CSVFiles/stations.csv\")\n",
    "# for github upload\n",
    "trips[:int(len(trips.values)/3)].to_csv(\"../CSVFiles/trips1.csv\")\n",
    "trips[int(len(trips.values)/3):int(len(trips.values)*2/3)].to_csv(\"../CSVFiles/trips2.csv\")\n",
    "trips[int(len(trips.values)*2/3):].to_csv(\"../CSVFiles/trips3.csv\")"
   ]
  },
  {
   "cell_type": "code",
   "execution_count": 56,
   "metadata": {},
   "outputs": [
    {
     "data": {
      "image/png": "[encoded data removed]",
      "text/plain": [
       "<Figure size 640x480 with 2 Axes>"
      ]
     },
     "metadata": {},
     "output_type": "display_data"
    }
   ],
   "source": [
    "week = {x:0 for x in range(1,8)}\n",
    "week_2 = {x:0 for x in range(1,8)}\n",
    "\n",
    "first_day = data.values[0][0]\n",
    "one_week = datetime.strptime(first_day, \"%Y-%m-%d\") + timedelta(days=7)\n",
    "two_week = datetime.strptime(first_day, \"%Y-%m-%d\") + timedelta(days=14)\n",
    "\n",
    "for trip in trips.values:\n",
    "    if trip[-1] <= one_week:\n",
    "        week[trip[-1].day] += 1\n",
    "    elif trip[-1] > one_week and trip[-1] <= two_week:\n",
    "        week_2[trip[-1].day%7+1] += 1\n",
    "    else:\n",
    "        break\n",
    "    \n",
    "\n",
    "fig, axs = plt.subplots(2)\n",
    "\n",
    "axs[0].hist(week.keys(), len(week), weights=list(week.values()))\n",
    "axs[0].set_title(\"Number of trips ended in the first week\")\n",
    "\n",
    "axs[1].hist(week_2.keys(), len(week_2), weights=list(week_2.values()))\n",
    "axs[1].set_title(f\"Number of trips ended in the second week\")\n",
    "\n",
    "fig.tight_layout()\n"
   ]
  },
  {
   "cell_type": "code",
   "execution_count": 53,
   "metadata": {},
   "outputs": [
    {
     "data": {
      "text/plain": [
       "Text(0.5, 1.0, 'Number of trips ended in a year by weeks')"
      ]
     },
     "execution_count": 53,
     "metadata": {},
     "output_type": "execute_result"
    },
    {
     "data": {
      "image/png": "[encoded data removed]",
      "text/plain": [
       "<Figure size 640x480 with 1 Axes>"
      ]
     },
     "metadata": {},
     "output_type": "display_data"
    }
   ],
   "source": [
    "year = {x:0 for x in range(1,53)}\n",
    "\n",
    "one_year = datetime.strptime(first_day, \"%Y-%m-%d\") + timedelta(days=365)\n",
    "\n",
    "for trip in trips.values:\n",
    "    if trip[-1] > one_year:\n",
    "        break\n",
    "\n",
    "    year[trip[-1].week] += 1\n",
    "    \n",
    "\n",
    "plt.hist(year.keys(), len(year), weights=list(year.values()))\n",
    "plt.title(\"Number of trips ended in a year by weeks\")\n"
   ]
  },
  {
   "cell_type": "code",
   "execution_count": 43,
   "metadata": {},
   "outputs": [
    {
     "name": "stdout",
     "output_type": "stream",
     "text": [
      "{1: 179, 2: 585, 3: 344, 4: 114, 5: 330, 6: 142, 7: 358, 8: 376, 9: 293, 10: 310, 11: 40, 12: 31, 13: 82, 14: 104, 15: 21, 16: 59, 17: 143, 18: 42, 19: 62, 20: 98, 21: 123, 22: 108, 23: 74, 24: 12, 25: 93, 26: 92, 27: 164, 28: 140, 29: 547, 30: 303, 31: 345, 32: 334, 33: 458, 34: 118, 36: 480, 37: 584, 38: 633, 39: 404, 40: 395, 42: 293}\n"
     ]
    },
    {
     "data": {
      "text/plain": [
       "Text(0.5, 1.0, 'Number of trips ended by station during the first week')"
      ]
     },
     "execution_count": 43,
     "metadata": {},
     "output_type": "execute_result"
    },
    {
     "data": {
      "image/png": "[encoded data removed]",
      "text/plain": [
       "<Figure size 640x480 with 1 Axes>"
      ]
     },
     "metadata": {},
     "output_type": "display_data"
    }
   ],
   "source": [
    "# num of trips by station\n",
    "\n",
    "trips_station = {x[0]:0 for x in stations.values}\n",
    "\n",
    "for trip in trips.values:\n",
    "    if trip[-1] > one_week:\n",
    "        break\n",
    "\n",
    "    trips_station[trip[1]] += 1\n",
    "\n",
    "plt.hist(trips_station.keys(), len(trips_station), weights=list(trips_station.values()))\n",
    "plt.title(\"Number of trips ended by station during the first week\")"
   ]
  },
  {
   "cell_type": "code",
   "execution_count": 57,
   "metadata": {},
   "outputs": [
    {
     "data": {
      "text/plain": [
       "Text(0.5, 1.0, 'Number of trips ended by station during the first year')"
      ]
     },
     "execution_count": 57,
     "metadata": {},
     "output_type": "execute_result"
    },
    {
     "data": {
      "image/png": "[encoded data removed]",
      "text/plain": [
       "<Figure size 640x480 with 1 Axes>"
      ]
     },
     "metadata": {},
     "output_type": "display_data"
    }
   ],
   "source": [
    "# num of trips by station by year\n",
    "\n",
    "year_stations = {x[0]:0 for x in stations.values}\n",
    "\n",
    "for trip in trips.values:\n",
    "    if trip[-1] > one_year:\n",
    "        break\n",
    "\n",
    "    year_stations[trip[1]] += 1\n",
    "\n",
    "plt.hist(year_stations.keys(), len(year_stations), weights=list(year_stations.values()))\n",
    "plt.title(\"Number of trips ended by station during the first year\")"
   ]
  }
 ],
 "metadata": {
  "kernelspec": {
   "display_name": "base",
   "language": "python",
   "name": "python3"
  },
  "language_info": {
   "codemirror_mode": {
    "name": "ipython",
    "version": 3
   },
   "file_extension": ".py",
   "mimetype": "text/x-python",
   "name": "python",
   "nbconvert_exporter": "python",
   "pygments_lexer": "ipython3",
   "version": "3.9.13"
  },
  "orig_nbformat": 4
 },
 "nbformat": 4,
 "nbformat_minor": 2
}
